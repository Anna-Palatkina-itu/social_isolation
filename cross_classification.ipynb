{
 "cells": [
  {
   "cell_type": "code",
   "execution_count": 1,
   "id": "5d6b774c",
   "metadata": {},
   "outputs": [],
   "source": [
    "import os, re, glob, json\n",
    "from pathlib import Path\n",
    "import numpy as np\n",
    "import pandas as pd\n",
    "import nibabel as nib\n",
    "from nilearn.glm.first_level import FirstLevelModel\n",
    "from nilearn.glm.second_level import SecondLevelModel, non_parametric_inference\n",
    "from nilearn import image\n",
    "import matplotlib.pyplot as plt\n",
    "from nilearn.plotting import plot_design_matrix\n",
    "from nilearn.plotting import plot_stat_map\n",
    "from nilearn.glm import threshold_stats_img\n",
    "from nilearn import plotting\n",
    "from nilearn.image import load_img, resample_to_img\n",
    "from sklearn.model_selection import LeaveOneGroupOut\n",
    "from nilearn.decoding import Decoder\n",
    "from sklearn.metrics import classification_report\n"
   ]
  },
  {
   "cell_type": "code",
   "execution_count": 2,
   "id": "1a03092c",
   "metadata": {},
   "outputs": [],
   "source": [
    "BASE = \"/local/anpa/ds003242-1.0.0\"\n",
    "DERIVATIVES = f\"{BASE}/derivatives/\"\n",
    "DERIVATIVES_FMRIPREP = f\"{DERIVATIVES}/fmriprep/\" \n",
    "FIRST_LEVEL_SEP_RUNS = f\"{DERIVATIVES}/firstlevel_separate_runs/\"  \n",
    "TASK = \"CIC\"\n",
    "TR = 2.0"
   ]
  },
  {
   "cell_type": "code",
   "execution_count": 3,
   "id": "8f170160",
   "metadata": {},
   "outputs": [],
   "source": [
    "def resample_mask_to_bold(anat_mask, bold_img):\n",
    "    \"\"\"Resample anat mask to the space of the bold image.\n",
    "    As in tutorial https://nilearn.github.io/dev/auto_examples/04_glm_first_level/plot_first_level_details.html\n",
    "    \"\"\"\n",
    "    return resample_to_img(\n",
    "        anat_mask,\n",
    "        bold_img,\n",
    "        interpolation=\"nearest\",\n",
    "        copy_header=True,\n",
    "        force_resample=True,\n",
    "    )\n",
    "\n",
    "def fprep_func_dir(sub):\n",
    "    return Path(BASE)/f\"derivatives/fmriprep/sub-{sub}/func\""
   ]
  },
  {
   "cell_type": "code",
   "execution_count": 4,
   "id": "8beed078",
   "metadata": {},
   "outputs": [
    {
     "data": {
      "text/plain": [
       "['SAXSISO01b', 'SAXSISO01f', 'SAXSISO01s']"
      ]
     },
     "execution_count": 4,
     "metadata": {},
     "output_type": "execute_result"
    }
   ],
   "source": [
    "all_sub_dirs = sorted([p.name.split(\"sub-\")[-1] for p in Path(FIRST_LEVEL_SEP_RUNS).glob(\"sub-*\") if p.is_dir()])\n",
    "all_sub_dirs[:3]"
   ]
  },
  {
   "cell_type": "code",
   "execution_count": 5,
   "id": "88fbf964",
   "metadata": {},
   "outputs": [],
   "source": [
    "fasting_participants = [s for s in all_sub_dirs if s.endswith(\"f\")]\n",
    "social_participants = [s for s in all_sub_dirs if s.endswith(\"s\")]\n",
    "baseline_participants = [s for s in all_sub_dirs if s.endswith(\"b\")]"
   ]
  },
  {
   "cell_type": "code",
   "execution_count": 6,
   "id": "8b954272",
   "metadata": {},
   "outputs": [],
   "source": [
    "fasting_food = [\n",
    "    f\n",
    "    for s in fasting_participants\n",
    "    for f in Path(f\"{FIRST_LEVEL_SEP_RUNS}/sub-{s}\").rglob(\"*Food_*_zmap.nii.gz\")]\n",
    "fasting_social = [\n",
    "    f\n",
    "    for s in fasting_participants\n",
    "    for f in Path(f'{FIRST_LEVEL_SEP_RUNS}/sub-{s}').rglob(\"*Social_*_zmap.nii.gz\")]\n",
    "fasting_control = [\n",
    "    f\n",
    "    for s in fasting_participants\n",
    "    for f in Path(f'{FIRST_LEVEL_SEP_RUNS}/sub-{s}').rglob(\"*Control_*_zmap.nii.gz\")]\n",
    "\n",
    "\n",
    "social_food = [\n",
    "    f\n",
    "    for s in social_participants\n",
    "    for f in Path(f'{FIRST_LEVEL_SEP_RUNS}/sub-{s}').rglob(\"*Food_*_zmap.nii.gz\")]\n",
    "social_social = [\n",
    "    f\n",
    "    for s in social_participants\n",
    "    for f in Path(f'{FIRST_LEVEL_SEP_RUNS}/sub-{s}').rglob(\"*Social_*_zmap.nii.gz\")]\n",
    "social_control = [\n",
    "    f\n",
    "    for s in social_participants\n",
    "    for f in Path(f'{FIRST_LEVEL_SEP_RUNS}/sub-{s}').rglob(\"*Control_*_zmap.nii.gz\")]\n",
    "\n",
    "\n",
    "baseline_food = [\n",
    "    f\n",
    "    for s in baseline_participants\n",
    "    for f in Path(f'{FIRST_LEVEL_SEP_RUNS}/sub-{s}').rglob(\"*Food_*_zmap.nii.gz\")]\n",
    "baseline_social = [\n",
    "    f\n",
    "    for s in baseline_participants\n",
    "    for f in Path(f'{FIRST_LEVEL_SEP_RUNS}/sub-{s}').rglob(\"*Social_*_zmap.nii.gz\")]\n",
    "baseline_control = [\n",
    "    f\n",
    "    for s in baseline_participants\n",
    "    for f in Path(f'{FIRST_LEVEL_SEP_RUNS}/sub-{s}').rglob(\"*Control_*_zmap.nii.gz\")]"
   ]
  },
  {
   "cell_type": "code",
   "execution_count": 21,
   "id": "e6b233a1",
   "metadata": {},
   "outputs": [],
   "source": [
    "def compare(labels: tuple, z_maps: tuple):\n",
    "\n",
    "    runs_1 = [str(f).split('/')[-1][0] for f in z_maps[0]]\n",
    "    labels_1 = [labels[0]] * len(z_maps[0])\n",
    "    runs_2 = [str(f).split('/')[-1][0] for f in z_maps[1]]\n",
    "    labels_2 = [labels[1]] * len(z_maps[1])\n",
    "\n",
    "    X = np.array(z_maps[0] + z_maps[1])\n",
    "    y = np.array(labels_1 + labels_2)\n",
    "    groups = np.array(runs_1 + runs_2)\n",
    "\n",
    "    decoder = Decoder(t_r=TR, estimator='svc', scoring='accuracy', mask=None, standardize=True, cv=LeaveOneGroupOut(), n_jobs=-1)\n",
    "    decoder.fit(X, y, groups=groups)\n",
    "\n",
    "    classification_accuracy = np.mean(list(decoder.cv_scores_.values()))\n",
    "    print(\n",
    "        f\"Classification accuracy: {classification_accuracy:.4f} / \"\n",
    "    )\n",
    "\n",
    "    for label, scores in decoder.cv_scores_.items():\n",
    "        print(label, np.mean(scores))\n",
    "\n",
    "    return decoder, (X, y)"
   ]
  },
  {
   "cell_type": "markdown",
   "id": "2759613f",
   "metadata": {},
   "source": [
    "# Fasting day VS Baseline day. Binary classification. Food VS Control\n",
    "\n",
    "Cross classification accuracy should be decent here. Same tasks, different conditions"
   ]
  },
  {
   "cell_type": "code",
   "execution_count": 23,
   "id": "7c170c00",
   "metadata": {},
   "outputs": [
    {
     "name": "stdout",
     "output_type": "stream",
     "text": [
      "Classification accuracy: 0.8497 / \n",
      "Control 0.8496863799283153\n",
      "Food 0.8496863799283153\n"
     ]
    }
   ],
   "source": [
    "decoder_ff_fc, data_ff_fc = compare(('Food', 'Control'), (fasting_food, fasting_control))"
   ]
  },
  {
   "cell_type": "code",
   "execution_count": 24,
   "id": "5d52c135",
   "metadata": {},
   "outputs": [
    {
     "name": "stdout",
     "output_type": "stream",
     "text": [
      "Classification accuracy: 0.8001 / \n",
      "Control 0.80009520609319\n",
      "Food 0.80009520609319\n"
     ]
    }
   ],
   "source": [
    "decoder_bf_bc, data_bf_bc = compare(('Food', 'Control'), (baseline_food, baseline_control))"
   ]
  },
  {
   "cell_type": "code",
   "execution_count": 25,
   "id": "a7983c14",
   "metadata": {},
   "outputs": [
    {
     "name": "stdout",
     "output_type": "stream",
     "text": [
      "              precision    recall  f1-score   support\n",
      "\n",
      "     Control       0.78      0.82      0.80       573\n",
      "        Food       0.81      0.77      0.79       573\n",
      "\n",
      "    accuracy                           0.79      1146\n",
      "   macro avg       0.80      0.79      0.79      1146\n",
      "weighted avg       0.80      0.79      0.79      1146\n",
      "\n"
     ]
    }
   ],
   "source": [
    "# Lets check cross classification\n",
    "\n",
    "y_pred = decoder_ff_fc.predict(data_bf_bc[0])\n",
    "y_true = data_bf_bc[1]\n",
    "print(classification_report(y_true, y_pred, target_names=['Control', 'Food']))"
   ]
  },
  {
   "cell_type": "code",
   "execution_count": 26,
   "id": "2ae1cb06",
   "metadata": {},
   "outputs": [
    {
     "name": "stdout",
     "output_type": "stream",
     "text": [
      "              precision    recall  f1-score   support\n",
      "\n",
      "     Control       0.81      0.86      0.83       570\n",
      "        Food       0.85      0.80      0.82       570\n",
      "\n",
      "    accuracy                           0.83      1140\n",
      "   macro avg       0.83      0.83      0.83      1140\n",
      "weighted avg       0.83      0.83      0.83      1140\n",
      "\n"
     ]
    }
   ],
   "source": [
    "y_pred = decoder_bf_bc.predict(data_ff_fc[0])\n",
    "y_true = data_ff_fc[1]\n",
    "print(classification_report(y_true, y_pred, target_names=['Control', 'Food']))"
   ]
  },
  {
   "cell_type": "markdown",
   "id": "ca84bb82",
   "metadata": {},
   "source": [
    "# Social isolation day VS Baseline day. Binary classification. Social VS Control\n",
    "\n",
    "Cross classification accuracy should be decent here. Same tasks, different conditions"
   ]
  },
  {
   "cell_type": "code",
   "execution_count": 35,
   "id": "8b569e4d",
   "metadata": {},
   "outputs": [
    {
     "name": "stdout",
     "output_type": "stream",
     "text": [
      "Classification accuracy: 0.9566 / \n",
      "Control 0.9565972222222223\n",
      "Social 0.9565972222222223\n"
     ]
    }
   ],
   "source": [
    "decoder_ss_sc, data_ss_sc = compare(('Social', 'Control'), (social_social, social_control))"
   ]
  },
  {
   "cell_type": "code",
   "execution_count": 30,
   "id": "634032bb",
   "metadata": {},
   "outputs": [
    {
     "name": "stdout",
     "output_type": "stream",
     "text": [
      "Classification accuracy: 0.9353 / \n",
      "Control 0.9352598566308243\n",
      "Social 0.9352598566308243\n"
     ]
    }
   ],
   "source": [
    "decoder_bs_bc, data_bs_bc = compare(('Social', 'Control'), (baseline_social, baseline_control))"
   ]
  },
  {
   "cell_type": "code",
   "execution_count": 36,
   "id": "fd983686",
   "metadata": {},
   "outputs": [
    {
     "name": "stdout",
     "output_type": "stream",
     "text": [
      "              precision    recall  f1-score   support\n",
      "\n",
      "     Control       0.91      0.99      0.95       573\n",
      "      Social       0.98      0.90      0.94       573\n",
      "\n",
      "    accuracy                           0.94      1146\n",
      "   macro avg       0.95      0.94      0.94      1146\n",
      "weighted avg       0.95      0.94      0.94      1146\n",
      "\n"
     ]
    }
   ],
   "source": [
    "# Lets check cross classification\n",
    "\n",
    "y_pred = decoder_ss_sc.predict(data_bs_bc[0])\n",
    "y_true = data_bs_bc[1]\n",
    "print(classification_report(y_true, y_pred, target_names=['Control', 'Social']))"
   ]
  },
  {
   "cell_type": "code",
   "execution_count": 37,
   "id": "683c7185",
   "metadata": {},
   "outputs": [
    {
     "name": "stdout",
     "output_type": "stream",
     "text": [
      "              precision    recall  f1-score   support\n",
      "\n",
      "     Control       0.94      0.99      0.96       576\n",
      "      Social       0.99      0.93      0.96       576\n",
      "\n",
      "    accuracy                           0.96      1152\n",
      "   macro avg       0.96      0.96      0.96      1152\n",
      "weighted avg       0.96      0.96      0.96      1152\n",
      "\n"
     ]
    }
   ],
   "source": [
    "y_pred = decoder_bs_bc.predict(data_ss_sc[0])\n",
    "y_true = data_ss_sc[1]\n",
    "print(classification_report(y_true, y_pred, target_names=['Control', 'Social']))"
   ]
  },
  {
   "cell_type": "markdown",
   "id": "b563f288",
   "metadata": {},
   "source": [
    "# Cross classification. Food vs Control on fasting day VS Social pictures vs Control on social isolation day"
   ]
  },
  {
   "cell_type": "code",
   "execution_count": 38,
   "id": "9ab0e7ba",
   "metadata": {},
   "outputs": [
    {
     "name": "stdout",
     "output_type": "stream",
     "text": [
      "              precision    recall  f1-score   support\n",
      "\n",
      "     Control       0.46      0.48      0.47       576\n",
      "      Social       0.46      0.44      0.45       576\n",
      "\n",
      "    accuracy                           0.46      1152\n",
      "   macro avg       0.46      0.46      0.46      1152\n",
      "weighted avg       0.46      0.46      0.46      1152\n",
      "\n"
     ]
    }
   ],
   "source": [
    "y_pred = decoder_ff_fc.predict(data_ss_sc[0])\n",
    "y_pred[y_pred == 'Food'] = \"Social\"\n",
    "\n",
    "y_true = data_ss_sc[1]\n",
    "\n",
    "print(classification_report(y_true, y_pred, target_names=['Control', 'Social']))"
   ]
  },
  {
   "cell_type": "code",
   "execution_count": 39,
   "id": "20122f8a",
   "metadata": {},
   "outputs": [
    {
     "name": "stdout",
     "output_type": "stream",
     "text": [
      "              precision    recall  f1-score   support\n",
      "\n",
      "     Control       0.45      0.45      0.45       570\n",
      "        Food       0.45      0.46      0.46       570\n",
      "\n",
      "    accuracy                           0.45      1140\n",
      "   macro avg       0.45      0.45      0.45      1140\n",
      "weighted avg       0.45      0.45      0.45      1140\n",
      "\n"
     ]
    }
   ],
   "source": [
    "y_pred = decoder_ss_sc.predict(data_ff_fc[0])\n",
    "y_pred[y_pred == 'Social'] = \"Food\"\n",
    "\n",
    "y_true = data_ff_fc[1]\n",
    "\n",
    "print(classification_report(y_true, y_pred, target_names=['Control', 'Food']))"
   ]
  },
  {
   "cell_type": "code",
   "execution_count": null,
   "id": "3800cabd",
   "metadata": {},
   "outputs": [],
   "source": []
  }
 ],
 "metadata": {
  "kernelspec": {
   "display_name": "py39",
   "language": "python",
   "name": "python3"
  },
  "language_info": {
   "codemirror_mode": {
    "name": "ipython",
    "version": 3
   },
   "file_extension": ".py",
   "mimetype": "text/x-python",
   "name": "python",
   "nbconvert_exporter": "python",
   "pygments_lexer": "ipython3",
   "version": "3.9.23"
  }
 },
 "nbformat": 4,
 "nbformat_minor": 5
}
