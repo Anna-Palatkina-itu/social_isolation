{
 "cells": [
  {
   "cell_type": "code",
   "execution_count": 14,
   "id": "033d35b5",
   "metadata": {},
   "outputs": [],
   "source": [
    "from nilearn.glm.second_level import SecondLevelModel\n",
    "from nilearn.image import concat_imgs\n",
    "from nilearn.glm import threshold_stats_img\n",
    "from pathlib import Path\n",
    "from nilearn.glm import threshold_stats_img\n",
    "from nilearn.image import new_img_like\n",
    "import nibabel as nib\n",
    "from nilearn.image import math_img"
   ]
  },
  {
   "cell_type": "code",
   "execution_count": 15,
   "id": "788d9851",
   "metadata": {},
   "outputs": [],
   "source": [
    "BASE = \"/local/anpa/ds003242-1.0.0\"\n",
    "DERIVATIVES = f\"{BASE}/derivatives/\"\n",
    "DERIVATIVES_FMRIPREP = f\"{DERIVATIVES}/fmriprep/\" \n",
    "FIRST_LEVEL = f\"{DERIVATIVES}/firstlevel/\"  \n",
    "TASK = \"CIC\"\n",
    "TR = 2.0"
   ]
  },
  {
   "cell_type": "code",
   "execution_count": 16,
   "id": "5ffe46b5",
   "metadata": {},
   "outputs": [
    {
     "data": {
      "text/plain": [
       "['SAXSISO01b', 'SAXSISO01f', 'SAXSISO01s']"
      ]
     },
     "execution_count": 16,
     "metadata": {},
     "output_type": "execute_result"
    }
   ],
   "source": [
    "all_sub_dirs = sorted([p.name.split(\"sub-\")[-1] for p in Path(FIRST_LEVEL).glob(\"sub-*\") if p.is_dir()])\n",
    "all_sub_dirs[:3]"
   ]
  },
  {
   "cell_type": "code",
   "execution_count": 17,
   "id": "8f98a9a8",
   "metadata": {},
   "outputs": [],
   "source": [
    "fasting_participants = [s for s in all_sub_dirs if s.endswith(\"f\")]\n",
    "social_participants = [s for s in all_sub_dirs if s.endswith(\"s\")]\n",
    "baseline_participants = [s for s in all_sub_dirs if s.endswith(\"b\")]"
   ]
  },
  {
   "cell_type": "code",
   "execution_count": null,
   "id": "dbd9d710",
   "metadata": {},
   "outputs": [],
   "source": []
  }
 ],
 "metadata": {
  "kernelspec": {
   "display_name": "py39",
   "language": "python",
   "name": "python3"
  },
  "language_info": {
   "codemirror_mode": {
    "name": "ipython",
    "version": 3
   },
   "file_extension": ".py",
   "mimetype": "text/x-python",
   "name": "python",
   "nbconvert_exporter": "python",
   "pygments_lexer": "ipython3",
   "version": "3.9.23"
  }
 },
 "nbformat": 4,
 "nbformat_minor": 5
}
