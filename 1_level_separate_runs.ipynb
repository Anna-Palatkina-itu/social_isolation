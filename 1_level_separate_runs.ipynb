{
 "cells": [
  {
   "cell_type": "code",
   "execution_count": 1,
   "id": "9fd0912f",
   "metadata": {},
   "outputs": [],
   "source": [
    "import os, re, glob, json\n",
    "from pathlib import Path\n",
    "import numpy as np\n",
    "import pandas as pd\n",
    "import nibabel as nib\n",
    "from nilearn.glm.first_level import FirstLevelModel\n",
    "from nilearn.glm.second_level import SecondLevelModel, non_parametric_inference\n",
    "from nilearn import image\n",
    "import matplotlib.pyplot as plt\n",
    "from nilearn.plotting import plot_design_matrix\n",
    "from nilearn.plotting import plot_stat_map\n",
    "from nilearn.glm import threshold_stats_img\n",
    "from nilearn import plotting\n",
    "from nilearn.image import load_img, resample_to_img"
   ]
  },
  {
   "cell_type": "code",
   "execution_count": 2,
   "id": "9fe1dbd5",
   "metadata": {},
   "outputs": [],
   "source": [
    "BASE = \"/local/anpa/ds003242-1.0.0\"\n",
    "DERIVATIVES = f\"{BASE}/derivatives/\"\n",
    "DERIVATIVES_FMRIPREP = f\"{DERIVATIVES}/fmriprep/\" \n",
    "DERIV_OUT = f\"{DERIVATIVES}/firstlevel_separate_runs/\"  \n",
    "TASK = \"CIC\"\n",
    "TR = 2.0"
   ]
  },
  {
   "cell_type": "code",
   "execution_count": 3,
   "id": "bc333d36",
   "metadata": {},
   "outputs": [],
   "source": [
    "NUIS = [\"framewise_displacement\",\n",
    "        \"a_comp_cor_00\",\"a_comp_cor_01\",\"a_comp_cor_02\",\n",
    "        \"a_comp_cor_03\",\"a_comp_cor_04\",\"a_comp_cor_05\"]"
   ]
  },
  {
   "cell_type": "code",
   "execution_count": 4,
   "id": "ba2de667",
   "metadata": {},
   "outputs": [],
   "source": [
    "def fprep_func_dir(sub):\n",
    "    return Path(BASE)/f\"derivatives/fmriprep/sub-{sub}/func\"\n",
    "\n",
    "\n",
    "def collect_runs(sub, task):\n",
    "    func = fprep_func_dir(sub)\n",
    "    patt = func.glob(f\"sub-{sub}_task-{task}_run-*_space-MNI152NLin2009cAsym_desc-preproc_bold.nii.gz\")\n",
    "    runs = []\n",
    "    for p in sorted(patt):\n",
    "        m = re.search(r\"_run-(\\d+)_\", p.name)\n",
    "        if m: runs.append(m.group(1))\n",
    "    return runs\n",
    "\n",
    "\n",
    "def files_for(sub, task, run):\n",
    "    func = fprep_func_dir(sub)\n",
    "    bold = func/f\"sub-{sub}_task-{task}_run-{run}_space-MNI152NLin2009cAsym_desc-preproc_bold.nii.gz\"\n",
    "    conf = func/f\"sub-{sub}_task-{task}_run-{run}_desc-confounds_regressors.tsv\"\n",
    "    evt  = Path(BASE)/f\"sub-{sub}/func/sub-{sub}_task-{task}_run-{run}_events.tsv\"\n",
    "    return bold, conf, evt\n",
    "\n",
    "\n",
    "def load_confounds_list(conf_paths):\n",
    "    out=[]\n",
    "    for cp in conf_paths:\n",
    "        df = pd.read_csv(cp, sep=\"\\t\").fillna(0)\n",
    "        for c in NUIS:\n",
    "            if c not in df: df[c]=0.0\n",
    "        out.append(df[NUIS])\n",
    "    return out\n"
   ]
  },
  {
   "cell_type": "code",
   "execution_count": 5,
   "id": "8e5dc478",
   "metadata": {},
   "outputs": [],
   "source": [
    "def resample_mask_to_bold(anat_mask, bold_img):\n",
    "    \"\"\"Resample anat mask to the space of the bold image.\n",
    "    As in tutorial https://nilearn.github.io/dev/auto_examples/04_glm_first_level/plot_first_level_details.html\n",
    "    \"\"\"\n",
    "    return resample_to_img(\n",
    "        anat_mask,\n",
    "        bold_img,\n",
    "        interpolation=\"nearest\",\n",
    "        copy_header=True,\n",
    "        force_resample=True,\n",
    "    )"
   ]
  },
  {
   "cell_type": "code",
   "execution_count": 6,
   "id": "2f2a9bf4",
   "metadata": {},
   "outputs": [],
   "source": [
    "def get_runs_files(sub, task=TASK):\n",
    "    \"\"\"Collect all runs for a subject and task.\"\"\"\n",
    "    runs = collect_runs(sub, task)\n",
    "    bolds, confs, evts = [], [], []\n",
    "    for run in runs:\n",
    "        b, c, e = files_for(sub, task, run)\n",
    "        if b.exists() and c.exists() and e.exists():\n",
    "            bolds.append(str(b))\n",
    "            confs.append(str(c))\n",
    "            evts.append(pd.read_csv(e, sep=\"\\t\"))\n",
    "    confs= load_confounds_list(confs)\n",
    "    anat_mask  = f'{DERIVATIVES_FMRIPREP}/sub-{sub}/anat/sub-{sub}_space-MNI152NLin2009cAsym_desc-brain_mask.nii.gz'\n",
    "    \n",
    "    resampled_anat_mask = resample_mask_to_bold(\n",
    "        load_img(anat_mask),\n",
    "        load_img(bolds[0])\n",
    "    ) \n",
    "    return bolds, confs, evts, resampled_anat_mask"
   ]
  },
  {
   "cell_type": "code",
   "execution_count": 7,
   "id": "9da086a7",
   "metadata": {},
   "outputs": [
    {
     "data": {
      "text/plain": [
       "['SAXSISO01b', 'SAXSISO01f', 'SAXSISO01s']"
      ]
     },
     "execution_count": 7,
     "metadata": {},
     "output_type": "execute_result"
    }
   ],
   "source": [
    "all_sub_dirs = sorted([p.name.split(\"sub-\")[-1] for p in Path(DERIVATIVES_FMRIPREP).glob(\"sub-*\") if p.is_dir()])\n",
    "all_sub_dirs[:3]"
   ]
  },
  {
   "cell_type": "code",
   "execution_count": null,
   "id": "729021e0",
   "metadata": {},
   "outputs": [
    {
     "name": "stdout",
     "output_type": "stream",
     "text": [
      "Processing SAXSISO01b\n"
     ]
    },
    {
     "name": "stderr",
     "output_type": "stream",
     "text": [
      "/tmp/ipykernel_258484/1860583228.py:27: UserWarning: [NiftiMasker.fit] Generation of a mask has been requested (imgs != None) while a mask was given at masker creation. Given mask will be used.\n",
      "  glm = FirstLevelModel(\n",
      "/tmp/ipykernel_258484/1860583228.py:27: UserWarning: The following unexpected columns in events data will be ignored: weight\n",
      "  glm = FirstLevelModel(\n",
      "/tmp/ipykernel_258484/1860583228.py:27: UserWarning: [NiftiMasker.fit] Generation of a mask has been requested (imgs != None) while a mask was given at masker creation. Given mask will be used.\n",
      "  glm = FirstLevelModel(\n",
      "/tmp/ipykernel_258484/1860583228.py:27: UserWarning: The following unexpected columns in events data will be ignored: weight\n",
      "  glm = FirstLevelModel(\n",
      "/tmp/ipykernel_258484/1860583228.py:27: UserWarning: [NiftiMasker.fit] Generation of a mask has been requested (imgs != None) while a mask was given at masker creation. Given mask will be used.\n",
      "  glm = FirstLevelModel(\n",
      "/tmp/ipykernel_258484/1860583228.py:27: UserWarning: The following unexpected columns in events data will be ignored: weight\n",
      "  glm = FirstLevelModel(\n",
      "/tmp/ipykernel_258484/1860583228.py:27: UserWarning: [NiftiMasker.fit] Generation of a mask has been requested (imgs != None) while a mask was given at masker creation. Given mask will be used.\n",
      "  glm = FirstLevelModel(\n",
      "/tmp/ipykernel_258484/1860583228.py:27: UserWarning: The following unexpected columns in events data will be ignored: weight\n",
      "  glm = FirstLevelModel(\n",
      "/tmp/ipykernel_258484/1860583228.py:27: UserWarning: [NiftiMasker.fit] Generation of a mask has been requested (imgs != None) while a mask was given at masker creation. Given mask will be used.\n",
      "  glm = FirstLevelModel(\n",
      "/tmp/ipykernel_258484/1860583228.py:27: UserWarning: The following unexpected columns in events data will be ignored: weight\n",
      "  glm = FirstLevelModel(\n",
      "/tmp/ipykernel_258484/1860583228.py:27: UserWarning: [NiftiMasker.fit] Generation of a mask has been requested (imgs != None) while a mask was given at masker creation. Given mask will be used.\n",
      "  glm = FirstLevelModel(\n",
      "/tmp/ipykernel_258484/1860583228.py:27: UserWarning: The following unexpected columns in events data will be ignored: weight\n",
      "  glm = FirstLevelModel(\n"
     ]
    },
    {
     "name": "stdout",
     "output_type": "stream",
     "text": [
      "Processing SAXSISO32b\n"
     ]
    },
    {
     "name": "stderr",
     "output_type": "stream",
     "text": [
      "/tmp/ipykernel_258484/1860583228.py:27: UserWarning: [NiftiMasker.fit] Generation of a mask has been requested (imgs != None) while a mask was given at masker creation. Given mask will be used.\n",
      "  glm = FirstLevelModel(\n",
      "/tmp/ipykernel_258484/1860583228.py:27: UserWarning: The following unexpected columns in events data will be ignored: weight\n",
      "  glm = FirstLevelModel(\n",
      "/tmp/ipykernel_258484/1860583228.py:27: UserWarning: [NiftiMasker.fit] Generation of a mask has been requested (imgs != None) while a mask was given at masker creation. Given mask will be used.\n",
      "  glm = FirstLevelModel(\n",
      "/tmp/ipykernel_258484/1860583228.py:27: UserWarning: The following unexpected columns in events data will be ignored: weight\n",
      "  glm = FirstLevelModel(\n",
      "/tmp/ipykernel_258484/1860583228.py:27: UserWarning: [NiftiMasker.fit] Generation of a mask has been requested (imgs != None) while a mask was given at masker creation. Given mask will be used.\n",
      "  glm = FirstLevelModel(\n",
      "/tmp/ipykernel_258484/1860583228.py:27: UserWarning: The following unexpected columns in events data will be ignored: weight\n",
      "  glm = FirstLevelModel(\n",
      "/tmp/ipykernel_258484/1860583228.py:27: UserWarning: [NiftiMasker.fit] Generation of a mask has been requested (imgs != None) while a mask was given at masker creation. Given mask will be used.\n",
      "  glm = FirstLevelModel(\n",
      "/tmp/ipykernel_258484/1860583228.py:27: UserWarning: The following unexpected columns in events data will be ignored: weight\n",
      "  glm = FirstLevelModel(\n",
      "/tmp/ipykernel_258484/1860583228.py:27: UserWarning: [NiftiMasker.fit] Generation of a mask has been requested (imgs != None) while a mask was given at masker creation. Given mask will be used.\n",
      "  glm = FirstLevelModel(\n",
      "/tmp/ipykernel_258484/1860583228.py:27: UserWarning: The following unexpected columns in events data will be ignored: weight\n",
      "  glm = FirstLevelModel(\n",
      "/tmp/ipykernel_258484/1860583228.py:27: UserWarning: [NiftiMasker.fit] Generation of a mask has been requested (imgs != None) while a mask was given at masker creation. Given mask will be used.\n",
      "  glm = FirstLevelModel(\n",
      "/tmp/ipykernel_258484/1860583228.py:27: UserWarning: The following unexpected columns in events data will be ignored: weight\n",
      "  glm = FirstLevelModel(\n"
     ]
    },
    {
     "name": "stdout",
     "output_type": "stream",
     "text": [
      "Processing SAXSISO32f\n"
     ]
    },
    {
     "name": "stderr",
     "output_type": "stream",
     "text": [
      "/tmp/ipykernel_258484/1860583228.py:27: UserWarning: [NiftiMasker.fit] Generation of a mask has been requested (imgs != None) while a mask was given at masker creation. Given mask will be used.\n",
      "  glm = FirstLevelModel(\n",
      "/tmp/ipykernel_258484/1860583228.py:27: UserWarning: The following unexpected columns in events data will be ignored: weight\n",
      "  glm = FirstLevelModel(\n",
      "/tmp/ipykernel_258484/1860583228.py:27: UserWarning: [NiftiMasker.fit] Generation of a mask has been requested (imgs != None) while a mask was given at masker creation. Given mask will be used.\n",
      "  glm = FirstLevelModel(\n",
      "/tmp/ipykernel_258484/1860583228.py:27: UserWarning: The following unexpected columns in events data will be ignored: weight\n",
      "  glm = FirstLevelModel(\n",
      "/tmp/ipykernel_258484/1860583228.py:27: UserWarning: [NiftiMasker.fit] Generation of a mask has been requested (imgs != None) while a mask was given at masker creation. Given mask will be used.\n",
      "  glm = FirstLevelModel(\n",
      "/tmp/ipykernel_258484/1860583228.py:27: UserWarning: The following unexpected columns in events data will be ignored: weight\n",
      "  glm = FirstLevelModel(\n",
      "/tmp/ipykernel_258484/1860583228.py:27: UserWarning: [NiftiMasker.fit] Generation of a mask has been requested (imgs != None) while a mask was given at masker creation. Given mask will be used.\n",
      "  glm = FirstLevelModel(\n",
      "/tmp/ipykernel_258484/1860583228.py:27: UserWarning: The following unexpected columns in events data will be ignored: weight\n",
      "  glm = FirstLevelModel(\n",
      "/tmp/ipykernel_258484/1860583228.py:27: UserWarning: [NiftiMasker.fit] Generation of a mask has been requested (imgs != None) while a mask was given at masker creation. Given mask will be used.\n",
      "  glm = FirstLevelModel(\n",
      "/tmp/ipykernel_258484/1860583228.py:27: UserWarning: The following unexpected columns in events data will be ignored: weight\n",
      "  glm = FirstLevelModel(\n",
      "/tmp/ipykernel_258484/1860583228.py:27: UserWarning: [NiftiMasker.fit] Generation of a mask has been requested (imgs != None) while a mask was given at masker creation. Given mask will be used.\n",
      "  glm = FirstLevelModel(\n",
      "/tmp/ipykernel_258484/1860583228.py:27: UserWarning: The following unexpected columns in events data will be ignored: weight\n",
      "  glm = FirstLevelModel(\n"
     ]
    },
    {
     "name": "stdout",
     "output_type": "stream",
     "text": [
      "Processing SAXSISO32s\n"
     ]
    },
    {
     "name": "stderr",
     "output_type": "stream",
     "text": [
      "/tmp/ipykernel_258484/1860583228.py:27: UserWarning: [NiftiMasker.fit] Generation of a mask has been requested (imgs != None) while a mask was given at masker creation. Given mask will be used.\n",
      "  glm = FirstLevelModel(\n",
      "/tmp/ipykernel_258484/1860583228.py:27: UserWarning: The following unexpected columns in events data will be ignored: weight\n",
      "  glm = FirstLevelModel(\n",
      "/tmp/ipykernel_258484/1860583228.py:27: UserWarning: [NiftiMasker.fit] Generation of a mask has been requested (imgs != None) while a mask was given at masker creation. Given mask will be used.\n",
      "  glm = FirstLevelModel(\n",
      "/tmp/ipykernel_258484/1860583228.py:27: UserWarning: The following unexpected columns in events data will be ignored: weight\n",
      "  glm = FirstLevelModel(\n",
      "/tmp/ipykernel_258484/1860583228.py:27: UserWarning: [NiftiMasker.fit] Generation of a mask has been requested (imgs != None) while a mask was given at masker creation. Given mask will be used.\n",
      "  glm = FirstLevelModel(\n",
      "/tmp/ipykernel_258484/1860583228.py:27: UserWarning: The following unexpected columns in events data will be ignored: weight\n",
      "  glm = FirstLevelModel(\n",
      "/tmp/ipykernel_258484/1860583228.py:27: UserWarning: [NiftiMasker.fit] Generation of a mask has been requested (imgs != None) while a mask was given at masker creation. Given mask will be used.\n",
      "  glm = FirstLevelModel(\n",
      "/tmp/ipykernel_258484/1860583228.py:27: UserWarning: The following unexpected columns in events data will be ignored: weight\n",
      "  glm = FirstLevelModel(\n",
      "/tmp/ipykernel_258484/1860583228.py:27: UserWarning: [NiftiMasker.fit] Generation of a mask has been requested (imgs != None) while a mask was given at masker creation. Given mask will be used.\n",
      "  glm = FirstLevelModel(\n",
      "/tmp/ipykernel_258484/1860583228.py:27: UserWarning: The following unexpected columns in events data will be ignored: weight\n",
      "  glm = FirstLevelModel(\n",
      "/tmp/ipykernel_258484/1860583228.py:27: UserWarning: [NiftiMasker.fit] Generation of a mask has been requested (imgs != None) while a mask was given at masker creation. Given mask will be used.\n",
      "  glm = FirstLevelModel(\n",
      "/tmp/ipykernel_258484/1860583228.py:27: UserWarning: The following unexpected columns in events data will be ignored: weight\n",
      "  glm = FirstLevelModel(\n"
     ]
    },
    {
     "name": "stdout",
     "output_type": "stream",
     "text": [
      "Processing SAXSISO33b\n"
     ]
    },
    {
     "name": "stderr",
     "output_type": "stream",
     "text": [
      "/tmp/ipykernel_258484/1860583228.py:27: UserWarning: [NiftiMasker.fit] Generation of a mask has been requested (imgs != None) while a mask was given at masker creation. Given mask will be used.\n",
      "  glm = FirstLevelModel(\n",
      "/tmp/ipykernel_258484/1860583228.py:27: UserWarning: The following unexpected columns in events data will be ignored: weight\n",
      "  glm = FirstLevelModel(\n",
      "/tmp/ipykernel_258484/1860583228.py:27: UserWarning: [NiftiMasker.fit] Generation of a mask has been requested (imgs != None) while a mask was given at masker creation. Given mask will be used.\n",
      "  glm = FirstLevelModel(\n",
      "/tmp/ipykernel_258484/1860583228.py:27: UserWarning: The following unexpected columns in events data will be ignored: weight\n",
      "  glm = FirstLevelModel(\n",
      "/tmp/ipykernel_258484/1860583228.py:27: UserWarning: [NiftiMasker.fit] Generation of a mask has been requested (imgs != None) while a mask was given at masker creation. Given mask will be used.\n",
      "  glm = FirstLevelModel(\n",
      "/tmp/ipykernel_258484/1860583228.py:27: UserWarning: The following unexpected columns in events data will be ignored: weight\n",
      "  glm = FirstLevelModel(\n",
      "/tmp/ipykernel_258484/1860583228.py:27: UserWarning: [NiftiMasker.fit] Generation of a mask has been requested (imgs != None) while a mask was given at masker creation. Given mask will be used.\n",
      "  glm = FirstLevelModel(\n",
      "/tmp/ipykernel_258484/1860583228.py:27: UserWarning: The following unexpected columns in events data will be ignored: weight\n",
      "  glm = FirstLevelModel(\n",
      "/tmp/ipykernel_258484/1860583228.py:27: UserWarning: [NiftiMasker.fit] Generation of a mask has been requested (imgs != None) while a mask was given at masker creation. Given mask will be used.\n",
      "  glm = FirstLevelModel(\n",
      "/tmp/ipykernel_258484/1860583228.py:27: UserWarning: The following unexpected columns in events data will be ignored: weight\n",
      "  glm = FirstLevelModel(\n",
      "/tmp/ipykernel_258484/1860583228.py:27: UserWarning: [NiftiMasker.fit] Generation of a mask has been requested (imgs != None) while a mask was given at masker creation. Given mask will be used.\n",
      "  glm = FirstLevelModel(\n",
      "/tmp/ipykernel_258484/1860583228.py:27: UserWarning: The following unexpected columns in events data will be ignored: weight\n",
      "  glm = FirstLevelModel(\n"
     ]
    },
    {
     "name": "stdout",
     "output_type": "stream",
     "text": [
      "Processing SAXSISO33f\n"
     ]
    },
    {
     "name": "stderr",
     "output_type": "stream",
     "text": [
      "/tmp/ipykernel_258484/1860583228.py:27: UserWarning: [NiftiMasker.fit] Generation of a mask has been requested (imgs != None) while a mask was given at masker creation. Given mask will be used.\n",
      "  glm = FirstLevelModel(\n",
      "/tmp/ipykernel_258484/1860583228.py:27: UserWarning: The following unexpected columns in events data will be ignored: weight\n",
      "  glm = FirstLevelModel(\n",
      "/tmp/ipykernel_258484/1860583228.py:27: UserWarning: [NiftiMasker.fit] Generation of a mask has been requested (imgs != None) while a mask was given at masker creation. Given mask will be used.\n",
      "  glm = FirstLevelModel(\n",
      "/tmp/ipykernel_258484/1860583228.py:27: UserWarning: The following unexpected columns in events data will be ignored: weight\n",
      "  glm = FirstLevelModel(\n",
      "/tmp/ipykernel_258484/1860583228.py:27: UserWarning: [NiftiMasker.fit] Generation of a mask has been requested (imgs != None) while a mask was given at masker creation. Given mask will be used.\n",
      "  glm = FirstLevelModel(\n",
      "/tmp/ipykernel_258484/1860583228.py:27: UserWarning: The following unexpected columns in events data will be ignored: weight\n",
      "  glm = FirstLevelModel(\n",
      "/tmp/ipykernel_258484/1860583228.py:27: UserWarning: [NiftiMasker.fit] Generation of a mask has been requested (imgs != None) while a mask was given at masker creation. Given mask will be used.\n",
      "  glm = FirstLevelModel(\n",
      "/tmp/ipykernel_258484/1860583228.py:27: UserWarning: The following unexpected columns in events data will be ignored: weight\n",
      "  glm = FirstLevelModel(\n",
      "/tmp/ipykernel_258484/1860583228.py:27: UserWarning: [NiftiMasker.fit] Generation of a mask has been requested (imgs != None) while a mask was given at masker creation. Given mask will be used.\n",
      "  glm = FirstLevelModel(\n",
      "/tmp/ipykernel_258484/1860583228.py:27: UserWarning: The following unexpected columns in events data will be ignored: weight\n",
      "  glm = FirstLevelModel(\n",
      "/tmp/ipykernel_258484/1860583228.py:27: UserWarning: [NiftiMasker.fit] Generation of a mask has been requested (imgs != None) while a mask was given at masker creation. Given mask will be used.\n",
      "  glm = FirstLevelModel(\n",
      "/tmp/ipykernel_258484/1860583228.py:27: UserWarning: The following unexpected columns in events data will be ignored: weight\n",
      "  glm = FirstLevelModel(\n"
     ]
    },
    {
     "name": "stdout",
     "output_type": "stream",
     "text": [
      "Processing SAXSISO33s\n"
     ]
    },
    {
     "name": "stderr",
     "output_type": "stream",
     "text": [
      "/tmp/ipykernel_258484/1860583228.py:27: UserWarning: [NiftiMasker.fit] Generation of a mask has been requested (imgs != None) while a mask was given at masker creation. Given mask will be used.\n",
      "  glm = FirstLevelModel(\n",
      "/tmp/ipykernel_258484/1860583228.py:27: UserWarning: The following unexpected columns in events data will be ignored: weight\n",
      "  glm = FirstLevelModel(\n",
      "/tmp/ipykernel_258484/1860583228.py:27: UserWarning: [NiftiMasker.fit] Generation of a mask has been requested (imgs != None) while a mask was given at masker creation. Given mask will be used.\n",
      "  glm = FirstLevelModel(\n",
      "/tmp/ipykernel_258484/1860583228.py:27: UserWarning: The following unexpected columns in events data will be ignored: weight\n",
      "  glm = FirstLevelModel(\n",
      "/tmp/ipykernel_258484/1860583228.py:27: UserWarning: [NiftiMasker.fit] Generation of a mask has been requested (imgs != None) while a mask was given at masker creation. Given mask will be used.\n",
      "  glm = FirstLevelModel(\n",
      "/tmp/ipykernel_258484/1860583228.py:27: UserWarning: The following unexpected columns in events data will be ignored: weight\n",
      "  glm = FirstLevelModel(\n",
      "/tmp/ipykernel_258484/1860583228.py:27: UserWarning: [NiftiMasker.fit] Generation of a mask has been requested (imgs != None) while a mask was given at masker creation. Given mask will be used.\n",
      "  glm = FirstLevelModel(\n",
      "/tmp/ipykernel_258484/1860583228.py:27: UserWarning: The following unexpected columns in events data will be ignored: weight\n",
      "  glm = FirstLevelModel(\n",
      "/tmp/ipykernel_258484/1860583228.py:27: UserWarning: [NiftiMasker.fit] Generation of a mask has been requested (imgs != None) while a mask was given at masker creation. Given mask will be used.\n",
      "  glm = FirstLevelModel(\n",
      "/tmp/ipykernel_258484/1860583228.py:27: UserWarning: The following unexpected columns in events data will be ignored: weight\n",
      "  glm = FirstLevelModel(\n",
      "/tmp/ipykernel_258484/1860583228.py:27: UserWarning: [NiftiMasker.fit] Generation of a mask has been requested (imgs != None) while a mask was given at masker creation. Given mask will be used.\n",
      "  glm = FirstLevelModel(\n",
      "/tmp/ipykernel_258484/1860583228.py:27: UserWarning: The following unexpected columns in events data will be ignored: weight\n",
      "  glm = FirstLevelModel(\n"
     ]
    },
    {
     "name": "stdout",
     "output_type": "stream",
     "text": [
      "Processing SAXSISO34b\n"
     ]
    },
    {
     "name": "stderr",
     "output_type": "stream",
     "text": [
      "/tmp/ipykernel_258484/1860583228.py:27: UserWarning: [NiftiMasker.fit] Generation of a mask has been requested (imgs != None) while a mask was given at masker creation. Given mask will be used.\n",
      "  glm = FirstLevelModel(\n",
      "/tmp/ipykernel_258484/1860583228.py:27: UserWarning: The following unexpected columns in events data will be ignored: weight\n",
      "  glm = FirstLevelModel(\n",
      "/tmp/ipykernel_258484/1860583228.py:27: UserWarning: [NiftiMasker.fit] Generation of a mask has been requested (imgs != None) while a mask was given at masker creation. Given mask will be used.\n",
      "  glm = FirstLevelModel(\n",
      "/tmp/ipykernel_258484/1860583228.py:27: UserWarning: The following unexpected columns in events data will be ignored: weight\n",
      "  glm = FirstLevelModel(\n",
      "/tmp/ipykernel_258484/1860583228.py:27: UserWarning: [NiftiMasker.fit] Generation of a mask has been requested (imgs != None) while a mask was given at masker creation. Given mask will be used.\n",
      "  glm = FirstLevelModel(\n",
      "/tmp/ipykernel_258484/1860583228.py:27: UserWarning: The following unexpected columns in events data will be ignored: weight\n",
      "  glm = FirstLevelModel(\n",
      "/tmp/ipykernel_258484/1860583228.py:27: UserWarning: [NiftiMasker.fit] Generation of a mask has been requested (imgs != None) while a mask was given at masker creation. Given mask will be used.\n",
      "  glm = FirstLevelModel(\n",
      "/tmp/ipykernel_258484/1860583228.py:27: UserWarning: The following unexpected columns in events data will be ignored: weight\n",
      "  glm = FirstLevelModel(\n",
      "/tmp/ipykernel_258484/1860583228.py:27: UserWarning: [NiftiMasker.fit] Generation of a mask has been requested (imgs != None) while a mask was given at masker creation. Given mask will be used.\n",
      "  glm = FirstLevelModel(\n",
      "/tmp/ipykernel_258484/1860583228.py:27: UserWarning: The following unexpected columns in events data will be ignored: weight\n",
      "  glm = FirstLevelModel(\n",
      "/tmp/ipykernel_258484/1860583228.py:27: UserWarning: [NiftiMasker.fit] Generation of a mask has been requested (imgs != None) while a mask was given at masker creation. Given mask will be used.\n",
      "  glm = FirstLevelModel(\n",
      "/tmp/ipykernel_258484/1860583228.py:27: UserWarning: The following unexpected columns in events data will be ignored: weight\n",
      "  glm = FirstLevelModel(\n"
     ]
    },
    {
     "name": "stdout",
     "output_type": "stream",
     "text": [
      "Processing SAXSISO34f\n"
     ]
    },
    {
     "name": "stderr",
     "output_type": "stream",
     "text": [
      "/tmp/ipykernel_258484/1860583228.py:27: UserWarning: [NiftiMasker.fit] Generation of a mask has been requested (imgs != None) while a mask was given at masker creation. Given mask will be used.\n",
      "  glm = FirstLevelModel(\n",
      "/tmp/ipykernel_258484/1860583228.py:27: UserWarning: The following unexpected columns in events data will be ignored: weight\n",
      "  glm = FirstLevelModel(\n",
      "/tmp/ipykernel_258484/1860583228.py:27: UserWarning: [NiftiMasker.fit] Generation of a mask has been requested (imgs != None) while a mask was given at masker creation. Given mask will be used.\n",
      "  glm = FirstLevelModel(\n",
      "/tmp/ipykernel_258484/1860583228.py:27: UserWarning: The following unexpected columns in events data will be ignored: weight\n",
      "  glm = FirstLevelModel(\n",
      "/tmp/ipykernel_258484/1860583228.py:27: UserWarning: [NiftiMasker.fit] Generation of a mask has been requested (imgs != None) while a mask was given at masker creation. Given mask will be used.\n",
      "  glm = FirstLevelModel(\n",
      "/tmp/ipykernel_258484/1860583228.py:27: UserWarning: The following unexpected columns in events data will be ignored: weight\n",
      "  glm = FirstLevelModel(\n",
      "/tmp/ipykernel_258484/1860583228.py:27: UserWarning: [NiftiMasker.fit] Generation of a mask has been requested (imgs != None) while a mask was given at masker creation. Given mask will be used.\n",
      "  glm = FirstLevelModel(\n",
      "/tmp/ipykernel_258484/1860583228.py:27: UserWarning: The following unexpected columns in events data will be ignored: weight\n",
      "  glm = FirstLevelModel(\n",
      "/tmp/ipykernel_258484/1860583228.py:27: UserWarning: [NiftiMasker.fit] Generation of a mask has been requested (imgs != None) while a mask was given at masker creation. Given mask will be used.\n",
      "  glm = FirstLevelModel(\n",
      "/tmp/ipykernel_258484/1860583228.py:27: UserWarning: The following unexpected columns in events data will be ignored: weight\n",
      "  glm = FirstLevelModel(\n",
      "/tmp/ipykernel_258484/1860583228.py:27: UserWarning: [NiftiMasker.fit] Generation of a mask has been requested (imgs != None) while a mask was given at masker creation. Given mask will be used.\n",
      "  glm = FirstLevelModel(\n",
      "/tmp/ipykernel_258484/1860583228.py:27: UserWarning: The following unexpected columns in events data will be ignored: weight\n",
      "  glm = FirstLevelModel(\n"
     ]
    },
    {
     "name": "stdout",
     "output_type": "stream",
     "text": [
      "Processing SAXSISO34s\n"
     ]
    },
    {
     "name": "stderr",
     "output_type": "stream",
     "text": [
      "/tmp/ipykernel_258484/1860583228.py:27: UserWarning: [NiftiMasker.fit] Generation of a mask has been requested (imgs != None) while a mask was given at masker creation. Given mask will be used.\n",
      "  glm = FirstLevelModel(\n",
      "/tmp/ipykernel_258484/1860583228.py:27: UserWarning: The following unexpected columns in events data will be ignored: weight\n",
      "  glm = FirstLevelModel(\n",
      "/tmp/ipykernel_258484/1860583228.py:27: UserWarning: [NiftiMasker.fit] Generation of a mask has been requested (imgs != None) while a mask was given at masker creation. Given mask will be used.\n",
      "  glm = FirstLevelModel(\n",
      "/tmp/ipykernel_258484/1860583228.py:27: UserWarning: The following unexpected columns in events data will be ignored: weight\n",
      "  glm = FirstLevelModel(\n",
      "/tmp/ipykernel_258484/1860583228.py:27: UserWarning: [NiftiMasker.fit] Generation of a mask has been requested (imgs != None) while a mask was given at masker creation. Given mask will be used.\n",
      "  glm = FirstLevelModel(\n",
      "/tmp/ipykernel_258484/1860583228.py:27: UserWarning: The following unexpected columns in events data will be ignored: weight\n",
      "  glm = FirstLevelModel(\n",
      "/tmp/ipykernel_258484/1860583228.py:27: UserWarning: [NiftiMasker.fit] Generation of a mask has been requested (imgs != None) while a mask was given at masker creation. Given mask will be used.\n",
      "  glm = FirstLevelModel(\n",
      "/tmp/ipykernel_258484/1860583228.py:27: UserWarning: The following unexpected columns in events data will be ignored: weight\n",
      "  glm = FirstLevelModel(\n",
      "/tmp/ipykernel_258484/1860583228.py:27: UserWarning: [NiftiMasker.fit] Generation of a mask has been requested (imgs != None) while a mask was given at masker creation. Given mask will be used.\n",
      "  glm = FirstLevelModel(\n",
      "/tmp/ipykernel_258484/1860583228.py:27: UserWarning: The following unexpected columns in events data will be ignored: weight\n",
      "  glm = FirstLevelModel(\n",
      "/tmp/ipykernel_258484/1860583228.py:27: UserWarning: [NiftiMasker.fit] Generation of a mask has been requested (imgs != None) while a mask was given at masker creation. Given mask will be used.\n",
      "  glm = FirstLevelModel(\n",
      "/tmp/ipykernel_258484/1860583228.py:27: UserWarning: The following unexpected columns in events data will be ignored: weight\n",
      "  glm = FirstLevelModel(\n"
     ]
    },
    {
     "name": "stdout",
     "output_type": "stream",
     "text": [
      "Processing SAXSISO35b\n"
     ]
    },
    {
     "name": "stderr",
     "output_type": "stream",
     "text": [
      "/tmp/ipykernel_258484/1860583228.py:27: UserWarning: [NiftiMasker.fit] Generation of a mask has been requested (imgs != None) while a mask was given at masker creation. Given mask will be used.\n",
      "  glm = FirstLevelModel(\n",
      "/tmp/ipykernel_258484/1860583228.py:27: UserWarning: The following unexpected columns in events data will be ignored: weight\n",
      "  glm = FirstLevelModel(\n",
      "/tmp/ipykernel_258484/1860583228.py:27: UserWarning: [NiftiMasker.fit] Generation of a mask has been requested (imgs != None) while a mask was given at masker creation. Given mask will be used.\n",
      "  glm = FirstLevelModel(\n",
      "/tmp/ipykernel_258484/1860583228.py:27: UserWarning: The following unexpected columns in events data will be ignored: weight\n",
      "  glm = FirstLevelModel(\n",
      "/tmp/ipykernel_258484/1860583228.py:27: UserWarning: [NiftiMasker.fit] Generation of a mask has been requested (imgs != None) while a mask was given at masker creation. Given mask will be used.\n",
      "  glm = FirstLevelModel(\n",
      "/tmp/ipykernel_258484/1860583228.py:27: UserWarning: The following unexpected columns in events data will be ignored: weight\n",
      "  glm = FirstLevelModel(\n",
      "/tmp/ipykernel_258484/1860583228.py:27: UserWarning: [NiftiMasker.fit] Generation of a mask has been requested (imgs != None) while a mask was given at masker creation. Given mask will be used.\n",
      "  glm = FirstLevelModel(\n",
      "/tmp/ipykernel_258484/1860583228.py:27: UserWarning: The following unexpected columns in events data will be ignored: weight\n",
      "  glm = FirstLevelModel(\n",
      "/tmp/ipykernel_258484/1860583228.py:27: UserWarning: [NiftiMasker.fit] Generation of a mask has been requested (imgs != None) while a mask was given at masker creation. Given mask will be used.\n",
      "  glm = FirstLevelModel(\n",
      "/tmp/ipykernel_258484/1860583228.py:27: UserWarning: The following unexpected columns in events data will be ignored: weight\n",
      "  glm = FirstLevelModel(\n",
      "/tmp/ipykernel_258484/1860583228.py:27: UserWarning: [NiftiMasker.fit] Generation of a mask has been requested (imgs != None) while a mask was given at masker creation. Given mask will be used.\n",
      "  glm = FirstLevelModel(\n",
      "/tmp/ipykernel_258484/1860583228.py:27: UserWarning: The following unexpected columns in events data will be ignored: weight\n",
      "  glm = FirstLevelModel(\n"
     ]
    },
    {
     "name": "stdout",
     "output_type": "stream",
     "text": [
      "Processing SAXSISO35f\n"
     ]
    },
    {
     "name": "stderr",
     "output_type": "stream",
     "text": [
      "/tmp/ipykernel_258484/1860583228.py:27: UserWarning: [NiftiMasker.fit] Generation of a mask has been requested (imgs != None) while a mask was given at masker creation. Given mask will be used.\n",
      "  glm = FirstLevelModel(\n",
      "/tmp/ipykernel_258484/1860583228.py:27: UserWarning: The following unexpected columns in events data will be ignored: weight\n",
      "  glm = FirstLevelModel(\n",
      "/tmp/ipykernel_258484/1860583228.py:27: UserWarning: [NiftiMasker.fit] Generation of a mask has been requested (imgs != None) while a mask was given at masker creation. Given mask will be used.\n",
      "  glm = FirstLevelModel(\n",
      "/tmp/ipykernel_258484/1860583228.py:27: UserWarning: The following unexpected columns in events data will be ignored: weight\n",
      "  glm = FirstLevelModel(\n",
      "/tmp/ipykernel_258484/1860583228.py:27: UserWarning: [NiftiMasker.fit] Generation of a mask has been requested (imgs != None) while a mask was given at masker creation. Given mask will be used.\n",
      "  glm = FirstLevelModel(\n",
      "/tmp/ipykernel_258484/1860583228.py:27: UserWarning: The following unexpected columns in events data will be ignored: weight\n",
      "  glm = FirstLevelModel(\n",
      "/tmp/ipykernel_258484/1860583228.py:27: UserWarning: [NiftiMasker.fit] Generation of a mask has been requested (imgs != None) while a mask was given at masker creation. Given mask will be used.\n",
      "  glm = FirstLevelModel(\n",
      "/tmp/ipykernel_258484/1860583228.py:27: UserWarning: The following unexpected columns in events data will be ignored: weight\n",
      "  glm = FirstLevelModel(\n",
      "/tmp/ipykernel_258484/1860583228.py:27: UserWarning: [NiftiMasker.fit] Generation of a mask has been requested (imgs != None) while a mask was given at masker creation. Given mask will be used.\n",
      "  glm = FirstLevelModel(\n",
      "/tmp/ipykernel_258484/1860583228.py:27: UserWarning: The following unexpected columns in events data will be ignored: weight\n",
      "  glm = FirstLevelModel(\n",
      "/tmp/ipykernel_258484/1860583228.py:27: UserWarning: [NiftiMasker.fit] Generation of a mask has been requested (imgs != None) while a mask was given at masker creation. Given mask will be used.\n",
      "  glm = FirstLevelModel(\n",
      "/tmp/ipykernel_258484/1860583228.py:27: UserWarning: The following unexpected columns in events data will be ignored: weight\n",
      "  glm = FirstLevelModel(\n"
     ]
    },
    {
     "name": "stdout",
     "output_type": "stream",
     "text": [
      "Processing SAXSISO35s\n"
     ]
    },
    {
     "name": "stderr",
     "output_type": "stream",
     "text": [
      "/tmp/ipykernel_258484/1860583228.py:27: UserWarning: [NiftiMasker.fit] Generation of a mask has been requested (imgs != None) while a mask was given at masker creation. Given mask will be used.\n",
      "  glm = FirstLevelModel(\n",
      "/tmp/ipykernel_258484/1860583228.py:27: UserWarning: The following unexpected columns in events data will be ignored: weight\n",
      "  glm = FirstLevelModel(\n",
      "/tmp/ipykernel_258484/1860583228.py:27: UserWarning: [NiftiMasker.fit] Generation of a mask has been requested (imgs != None) while a mask was given at masker creation. Given mask will be used.\n",
      "  glm = FirstLevelModel(\n",
      "/tmp/ipykernel_258484/1860583228.py:27: UserWarning: The following unexpected columns in events data will be ignored: weight\n",
      "  glm = FirstLevelModel(\n",
      "/tmp/ipykernel_258484/1860583228.py:27: UserWarning: [NiftiMasker.fit] Generation of a mask has been requested (imgs != None) while a mask was given at masker creation. Given mask will be used.\n",
      "  glm = FirstLevelModel(\n",
      "/tmp/ipykernel_258484/1860583228.py:27: UserWarning: The following unexpected columns in events data will be ignored: weight\n",
      "  glm = FirstLevelModel(\n",
      "/tmp/ipykernel_258484/1860583228.py:27: UserWarning: [NiftiMasker.fit] Generation of a mask has been requested (imgs != None) while a mask was given at masker creation. Given mask will be used.\n",
      "  glm = FirstLevelModel(\n",
      "/tmp/ipykernel_258484/1860583228.py:27: UserWarning: The following unexpected columns in events data will be ignored: weight\n",
      "  glm = FirstLevelModel(\n",
      "/tmp/ipykernel_258484/1860583228.py:27: UserWarning: [NiftiMasker.fit] Generation of a mask has been requested (imgs != None) while a mask was given at masker creation. Given mask will be used.\n",
      "  glm = FirstLevelModel(\n",
      "/tmp/ipykernel_258484/1860583228.py:27: UserWarning: The following unexpected columns in events data will be ignored: weight\n",
      "  glm = FirstLevelModel(\n",
      "/tmp/ipykernel_258484/1860583228.py:27: UserWarning: [NiftiMasker.fit] Generation of a mask has been requested (imgs != None) while a mask was given at masker creation. Given mask will be used.\n",
      "  glm = FirstLevelModel(\n",
      "/tmp/ipykernel_258484/1860583228.py:27: UserWarning: The following unexpected columns in events data will be ignored: weight\n",
      "  glm = FirstLevelModel(\n"
     ]
    },
    {
     "name": "stdout",
     "output_type": "stream",
     "text": [
      "Processing SAXSISO36b\n"
     ]
    },
    {
     "name": "stderr",
     "output_type": "stream",
     "text": [
      "/tmp/ipykernel_258484/1860583228.py:27: UserWarning: [NiftiMasker.fit] Generation of a mask has been requested (imgs != None) while a mask was given at masker creation. Given mask will be used.\n",
      "  glm = FirstLevelModel(\n",
      "/tmp/ipykernel_258484/1860583228.py:27: UserWarning: The following unexpected columns in events data will be ignored: weight\n",
      "  glm = FirstLevelModel(\n",
      "/tmp/ipykernel_258484/1860583228.py:27: UserWarning: [NiftiMasker.fit] Generation of a mask has been requested (imgs != None) while a mask was given at masker creation. Given mask will be used.\n",
      "  glm = FirstLevelModel(\n",
      "/tmp/ipykernel_258484/1860583228.py:27: UserWarning: The following unexpected columns in events data will be ignored: weight\n",
      "  glm = FirstLevelModel(\n",
      "/tmp/ipykernel_258484/1860583228.py:27: UserWarning: [NiftiMasker.fit] Generation of a mask has been requested (imgs != None) while a mask was given at masker creation. Given mask will be used.\n",
      "  glm = FirstLevelModel(\n",
      "/tmp/ipykernel_258484/1860583228.py:27: UserWarning: The following unexpected columns in events data will be ignored: weight\n",
      "  glm = FirstLevelModel(\n",
      "/tmp/ipykernel_258484/1860583228.py:27: UserWarning: [NiftiMasker.fit] Generation of a mask has been requested (imgs != None) while a mask was given at masker creation. Given mask will be used.\n",
      "  glm = FirstLevelModel(\n",
      "/tmp/ipykernel_258484/1860583228.py:27: UserWarning: The following unexpected columns in events data will be ignored: weight\n",
      "  glm = FirstLevelModel(\n",
      "/tmp/ipykernel_258484/1860583228.py:27: UserWarning: [NiftiMasker.fit] Generation of a mask has been requested (imgs != None) while a mask was given at masker creation. Given mask will be used.\n",
      "  glm = FirstLevelModel(\n",
      "/tmp/ipykernel_258484/1860583228.py:27: UserWarning: The following unexpected columns in events data will be ignored: weight\n",
      "  glm = FirstLevelModel(\n",
      "/tmp/ipykernel_258484/1860583228.py:27: UserWarning: [NiftiMasker.fit] Generation of a mask has been requested (imgs != None) while a mask was given at masker creation. Given mask will be used.\n",
      "  glm = FirstLevelModel(\n",
      "/tmp/ipykernel_258484/1860583228.py:27: UserWarning: The following unexpected columns in events data will be ignored: weight\n",
      "  glm = FirstLevelModel(\n"
     ]
    },
    {
     "name": "stdout",
     "output_type": "stream",
     "text": [
      "Processing SAXSISO36f\n"
     ]
    },
    {
     "name": "stderr",
     "output_type": "stream",
     "text": [
      "/tmp/ipykernel_258484/1860583228.py:27: UserWarning: [NiftiMasker.fit] Generation of a mask has been requested (imgs != None) while a mask was given at masker creation. Given mask will be used.\n",
      "  glm = FirstLevelModel(\n",
      "/tmp/ipykernel_258484/1860583228.py:27: UserWarning: The following unexpected columns in events data will be ignored: weight\n",
      "  glm = FirstLevelModel(\n",
      "/tmp/ipykernel_258484/1860583228.py:27: UserWarning: [NiftiMasker.fit] Generation of a mask has been requested (imgs != None) while a mask was given at masker creation. Given mask will be used.\n",
      "  glm = FirstLevelModel(\n",
      "/tmp/ipykernel_258484/1860583228.py:27: UserWarning: The following unexpected columns in events data will be ignored: weight\n",
      "  glm = FirstLevelModel(\n",
      "/tmp/ipykernel_258484/1860583228.py:27: UserWarning: [NiftiMasker.fit] Generation of a mask has been requested (imgs != None) while a mask was given at masker creation. Given mask will be used.\n",
      "  glm = FirstLevelModel(\n",
      "/tmp/ipykernel_258484/1860583228.py:27: UserWarning: The following unexpected columns in events data will be ignored: weight\n",
      "  glm = FirstLevelModel(\n",
      "/tmp/ipykernel_258484/1860583228.py:27: UserWarning: [NiftiMasker.fit] Generation of a mask has been requested (imgs != None) while a mask was given at masker creation. Given mask will be used.\n",
      "  glm = FirstLevelModel(\n",
      "/tmp/ipykernel_258484/1860583228.py:27: UserWarning: The following unexpected columns in events data will be ignored: weight\n",
      "  glm = FirstLevelModel(\n",
      "/tmp/ipykernel_258484/1860583228.py:27: UserWarning: [NiftiMasker.fit] Generation of a mask has been requested (imgs != None) while a mask was given at masker creation. Given mask will be used.\n",
      "  glm = FirstLevelModel(\n",
      "/tmp/ipykernel_258484/1860583228.py:27: UserWarning: The following unexpected columns in events data will be ignored: weight\n",
      "  glm = FirstLevelModel(\n",
      "/tmp/ipykernel_258484/1860583228.py:27: UserWarning: [NiftiMasker.fit] Generation of a mask has been requested (imgs != None) while a mask was given at masker creation. Given mask will be used.\n",
      "  glm = FirstLevelModel(\n",
      "/tmp/ipykernel_258484/1860583228.py:27: UserWarning: The following unexpected columns in events data will be ignored: weight\n",
      "  glm = FirstLevelModel(\n"
     ]
    },
    {
     "name": "stdout",
     "output_type": "stream",
     "text": [
      "Processing SAXSISO36s\n"
     ]
    },
    {
     "name": "stderr",
     "output_type": "stream",
     "text": [
      "/tmp/ipykernel_258484/1860583228.py:27: UserWarning: [NiftiMasker.fit] Generation of a mask has been requested (imgs != None) while a mask was given at masker creation. Given mask will be used.\n",
      "  glm = FirstLevelModel(\n",
      "/tmp/ipykernel_258484/1860583228.py:27: UserWarning: The following unexpected columns in events data will be ignored: weight\n",
      "  glm = FirstLevelModel(\n",
      "/tmp/ipykernel_258484/1860583228.py:27: UserWarning: [NiftiMasker.fit] Generation of a mask has been requested (imgs != None) while a mask was given at masker creation. Given mask will be used.\n",
      "  glm = FirstLevelModel(\n",
      "/tmp/ipykernel_258484/1860583228.py:27: UserWarning: The following unexpected columns in events data will be ignored: weight\n",
      "  glm = FirstLevelModel(\n",
      "/tmp/ipykernel_258484/1860583228.py:27: UserWarning: [NiftiMasker.fit] Generation of a mask has been requested (imgs != None) while a mask was given at masker creation. Given mask will be used.\n",
      "  glm = FirstLevelModel(\n",
      "/tmp/ipykernel_258484/1860583228.py:27: UserWarning: The following unexpected columns in events data will be ignored: weight\n",
      "  glm = FirstLevelModel(\n",
      "/tmp/ipykernel_258484/1860583228.py:27: UserWarning: [NiftiMasker.fit] Generation of a mask has been requested (imgs != None) while a mask was given at masker creation. Given mask will be used.\n",
      "  glm = FirstLevelModel(\n",
      "/tmp/ipykernel_258484/1860583228.py:27: UserWarning: The following unexpected columns in events data will be ignored: weight\n",
      "  glm = FirstLevelModel(\n",
      "/tmp/ipykernel_258484/1860583228.py:27: UserWarning: [NiftiMasker.fit] Generation of a mask has been requested (imgs != None) while a mask was given at masker creation. Given mask will be used.\n",
      "  glm = FirstLevelModel(\n",
      "/tmp/ipykernel_258484/1860583228.py:27: UserWarning: The following unexpected columns in events data will be ignored: weight\n",
      "  glm = FirstLevelModel(\n",
      "/tmp/ipykernel_258484/1860583228.py:27: UserWarning: [NiftiMasker.fit] Generation of a mask has been requested (imgs != None) while a mask was given at masker creation. Given mask will be used.\n",
      "  glm = FirstLevelModel(\n",
      "/tmp/ipykernel_258484/1860583228.py:27: UserWarning: The following unexpected columns in events data will be ignored: weight\n",
      "  glm = FirstLevelModel(\n"
     ]
    },
    {
     "name": "stdout",
     "output_type": "stream",
     "text": [
      "Processing SAXSISO38b\n"
     ]
    },
    {
     "name": "stderr",
     "output_type": "stream",
     "text": [
      "/tmp/ipykernel_258484/1860583228.py:27: UserWarning: [NiftiMasker.fit] Generation of a mask has been requested (imgs != None) while a mask was given at masker creation. Given mask will be used.\n",
      "  glm = FirstLevelModel(\n",
      "/tmp/ipykernel_258484/1860583228.py:27: UserWarning: The following unexpected columns in events data will be ignored: weight\n",
      "  glm = FirstLevelModel(\n",
      "/tmp/ipykernel_258484/1860583228.py:27: UserWarning: [NiftiMasker.fit] Generation of a mask has been requested (imgs != None) while a mask was given at masker creation. Given mask will be used.\n",
      "  glm = FirstLevelModel(\n",
      "/tmp/ipykernel_258484/1860583228.py:27: UserWarning: The following unexpected columns in events data will be ignored: weight\n",
      "  glm = FirstLevelModel(\n",
      "/tmp/ipykernel_258484/1860583228.py:27: UserWarning: [NiftiMasker.fit] Generation of a mask has been requested (imgs != None) while a mask was given at masker creation. Given mask will be used.\n",
      "  glm = FirstLevelModel(\n",
      "/tmp/ipykernel_258484/1860583228.py:27: UserWarning: The following unexpected columns in events data will be ignored: weight\n",
      "  glm = FirstLevelModel(\n",
      "/tmp/ipykernel_258484/1860583228.py:27: UserWarning: [NiftiMasker.fit] Generation of a mask has been requested (imgs != None) while a mask was given at masker creation. Given mask will be used.\n",
      "  glm = FirstLevelModel(\n",
      "/tmp/ipykernel_258484/1860583228.py:27: UserWarning: The following unexpected columns in events data will be ignored: weight\n",
      "  glm = FirstLevelModel(\n",
      "/tmp/ipykernel_258484/1860583228.py:27: UserWarning: [NiftiMasker.fit] Generation of a mask has been requested (imgs != None) while a mask was given at masker creation. Given mask will be used.\n",
      "  glm = FirstLevelModel(\n",
      "/tmp/ipykernel_258484/1860583228.py:27: UserWarning: The following unexpected columns in events data will be ignored: weight\n",
      "  glm = FirstLevelModel(\n",
      "/tmp/ipykernel_258484/1860583228.py:27: UserWarning: [NiftiMasker.fit] Generation of a mask has been requested (imgs != None) while a mask was given at masker creation. Given mask will be used.\n",
      "  glm = FirstLevelModel(\n",
      "/tmp/ipykernel_258484/1860583228.py:27: UserWarning: The following unexpected columns in events data will be ignored: weight\n",
      "  glm = FirstLevelModel(\n"
     ]
    },
    {
     "name": "stdout",
     "output_type": "stream",
     "text": [
      "Processing SAXSISO38f\n"
     ]
    },
    {
     "name": "stderr",
     "output_type": "stream",
     "text": [
      "/tmp/ipykernel_258484/1860583228.py:27: UserWarning: [NiftiMasker.fit] Generation of a mask has been requested (imgs != None) while a mask was given at masker creation. Given mask will be used.\n",
      "  glm = FirstLevelModel(\n",
      "/tmp/ipykernel_258484/1860583228.py:27: UserWarning: The following unexpected columns in events data will be ignored: weight\n",
      "  glm = FirstLevelModel(\n",
      "/tmp/ipykernel_258484/1860583228.py:27: UserWarning: [NiftiMasker.fit] Generation of a mask has been requested (imgs != None) while a mask was given at masker creation. Given mask will be used.\n",
      "  glm = FirstLevelModel(\n",
      "/tmp/ipykernel_258484/1860583228.py:27: UserWarning: The following unexpected columns in events data will be ignored: weight\n",
      "  glm = FirstLevelModel(\n",
      "/tmp/ipykernel_258484/1860583228.py:27: UserWarning: [NiftiMasker.fit] Generation of a mask has been requested (imgs != None) while a mask was given at masker creation. Given mask will be used.\n",
      "  glm = FirstLevelModel(\n",
      "/tmp/ipykernel_258484/1860583228.py:27: UserWarning: The following unexpected columns in events data will be ignored: weight\n",
      "  glm = FirstLevelModel(\n",
      "/tmp/ipykernel_258484/1860583228.py:27: UserWarning: [NiftiMasker.fit] Generation of a mask has been requested (imgs != None) while a mask was given at masker creation. Given mask will be used.\n",
      "  glm = FirstLevelModel(\n",
      "/tmp/ipykernel_258484/1860583228.py:27: UserWarning: The following unexpected columns in events data will be ignored: weight\n",
      "  glm = FirstLevelModel(\n",
      "/tmp/ipykernel_258484/1860583228.py:27: UserWarning: [NiftiMasker.fit] Generation of a mask has been requested (imgs != None) while a mask was given at masker creation. Given mask will be used.\n",
      "  glm = FirstLevelModel(\n",
      "/tmp/ipykernel_258484/1860583228.py:27: UserWarning: The following unexpected columns in events data will be ignored: weight\n",
      "  glm = FirstLevelModel(\n",
      "/tmp/ipykernel_258484/1860583228.py:27: UserWarning: [NiftiMasker.fit] Generation of a mask has been requested (imgs != None) while a mask was given at masker creation. Given mask will be used.\n",
      "  glm = FirstLevelModel(\n",
      "/tmp/ipykernel_258484/1860583228.py:27: UserWarning: The following unexpected columns in events data will be ignored: weight\n",
      "  glm = FirstLevelModel(\n"
     ]
    },
    {
     "name": "stdout",
     "output_type": "stream",
     "text": [
      "Processing SAXSISO38s\n"
     ]
    },
    {
     "name": "stderr",
     "output_type": "stream",
     "text": [
      "/tmp/ipykernel_258484/1860583228.py:27: UserWarning: [NiftiMasker.fit] Generation of a mask has been requested (imgs != None) while a mask was given at masker creation. Given mask will be used.\n",
      "  glm = FirstLevelModel(\n",
      "/tmp/ipykernel_258484/1860583228.py:27: UserWarning: The following unexpected columns in events data will be ignored: weight\n",
      "  glm = FirstLevelModel(\n",
      "/tmp/ipykernel_258484/1860583228.py:27: UserWarning: [NiftiMasker.fit] Generation of a mask has been requested (imgs != None) while a mask was given at masker creation. Given mask will be used.\n",
      "  glm = FirstLevelModel(\n",
      "/tmp/ipykernel_258484/1860583228.py:27: UserWarning: The following unexpected columns in events data will be ignored: weight\n",
      "  glm = FirstLevelModel(\n",
      "/tmp/ipykernel_258484/1860583228.py:27: UserWarning: [NiftiMasker.fit] Generation of a mask has been requested (imgs != None) while a mask was given at masker creation. Given mask will be used.\n",
      "  glm = FirstLevelModel(\n",
      "/tmp/ipykernel_258484/1860583228.py:27: UserWarning: The following unexpected columns in events data will be ignored: weight\n",
      "  glm = FirstLevelModel(\n",
      "/tmp/ipykernel_258484/1860583228.py:27: UserWarning: [NiftiMasker.fit] Generation of a mask has been requested (imgs != None) while a mask was given at masker creation. Given mask will be used.\n",
      "  glm = FirstLevelModel(\n",
      "/tmp/ipykernel_258484/1860583228.py:27: UserWarning: The following unexpected columns in events data will be ignored: weight\n",
      "  glm = FirstLevelModel(\n",
      "/tmp/ipykernel_258484/1860583228.py:27: UserWarning: [NiftiMasker.fit] Generation of a mask has been requested (imgs != None) while a mask was given at masker creation. Given mask will be used.\n",
      "  glm = FirstLevelModel(\n",
      "/tmp/ipykernel_258484/1860583228.py:27: UserWarning: The following unexpected columns in events data will be ignored: weight\n",
      "  glm = FirstLevelModel(\n",
      "/tmp/ipykernel_258484/1860583228.py:27: UserWarning: [NiftiMasker.fit] Generation of a mask has been requested (imgs != None) while a mask was given at masker creation. Given mask will be used.\n",
      "  glm = FirstLevelModel(\n",
      "/tmp/ipykernel_258484/1860583228.py:27: UserWarning: The following unexpected columns in events data will be ignored: weight\n",
      "  glm = FirstLevelModel(\n"
     ]
    },
    {
     "name": "stdout",
     "output_type": "stream",
     "text": [
      "Processing SAXSISO39b\n"
     ]
    },
    {
     "name": "stderr",
     "output_type": "stream",
     "text": [
      "/tmp/ipykernel_258484/1860583228.py:27: UserWarning: [NiftiMasker.fit] Generation of a mask has been requested (imgs != None) while a mask was given at masker creation. Given mask will be used.\n",
      "  glm = FirstLevelModel(\n",
      "/tmp/ipykernel_258484/1860583228.py:27: UserWarning: The following unexpected columns in events data will be ignored: weight\n",
      "  glm = FirstLevelModel(\n",
      "/tmp/ipykernel_258484/1860583228.py:27: UserWarning: [NiftiMasker.fit] Generation of a mask has been requested (imgs != None) while a mask was given at masker creation. Given mask will be used.\n",
      "  glm = FirstLevelModel(\n",
      "/tmp/ipykernel_258484/1860583228.py:27: UserWarning: The following unexpected columns in events data will be ignored: weight\n",
      "  glm = FirstLevelModel(\n",
      "/tmp/ipykernel_258484/1860583228.py:27: UserWarning: [NiftiMasker.fit] Generation of a mask has been requested (imgs != None) while a mask was given at masker creation. Given mask will be used.\n",
      "  glm = FirstLevelModel(\n",
      "/tmp/ipykernel_258484/1860583228.py:27: UserWarning: The following unexpected columns in events data will be ignored: weight\n",
      "  glm = FirstLevelModel(\n",
      "/tmp/ipykernel_258484/1860583228.py:27: UserWarning: [NiftiMasker.fit] Generation of a mask has been requested (imgs != None) while a mask was given at masker creation. Given mask will be used.\n",
      "  glm = FirstLevelModel(\n",
      "/tmp/ipykernel_258484/1860583228.py:27: UserWarning: The following unexpected columns in events data will be ignored: weight\n",
      "  glm = FirstLevelModel(\n",
      "/tmp/ipykernel_258484/1860583228.py:27: UserWarning: [NiftiMasker.fit] Generation of a mask has been requested (imgs != None) while a mask was given at masker creation. Given mask will be used.\n",
      "  glm = FirstLevelModel(\n",
      "/tmp/ipykernel_258484/1860583228.py:27: UserWarning: The following unexpected columns in events data will be ignored: weight\n",
      "  glm = FirstLevelModel(\n",
      "/tmp/ipykernel_258484/1860583228.py:27: UserWarning: [NiftiMasker.fit] Generation of a mask has been requested (imgs != None) while a mask was given at masker creation. Given mask will be used.\n",
      "  glm = FirstLevelModel(\n",
      "/tmp/ipykernel_258484/1860583228.py:27: UserWarning: The following unexpected columns in events data will be ignored: weight\n",
      "  glm = FirstLevelModel(\n"
     ]
    },
    {
     "name": "stdout",
     "output_type": "stream",
     "text": [
      "Processing SAXSISO39f\n"
     ]
    },
    {
     "name": "stderr",
     "output_type": "stream",
     "text": [
      "/tmp/ipykernel_258484/1860583228.py:27: UserWarning: [NiftiMasker.fit] Generation of a mask has been requested (imgs != None) while a mask was given at masker creation. Given mask will be used.\n",
      "  glm = FirstLevelModel(\n",
      "/tmp/ipykernel_258484/1860583228.py:27: UserWarning: The following unexpected columns in events data will be ignored: weight\n",
      "  glm = FirstLevelModel(\n",
      "/tmp/ipykernel_258484/1860583228.py:27: UserWarning: [NiftiMasker.fit] Generation of a mask has been requested (imgs != None) while a mask was given at masker creation. Given mask will be used.\n",
      "  glm = FirstLevelModel(\n",
      "/tmp/ipykernel_258484/1860583228.py:27: UserWarning: The following unexpected columns in events data will be ignored: weight\n",
      "  glm = FirstLevelModel(\n",
      "/tmp/ipykernel_258484/1860583228.py:27: UserWarning: [NiftiMasker.fit] Generation of a mask has been requested (imgs != None) while a mask was given at masker creation. Given mask will be used.\n",
      "  glm = FirstLevelModel(\n",
      "/tmp/ipykernel_258484/1860583228.py:27: UserWarning: The following unexpected columns in events data will be ignored: weight\n",
      "  glm = FirstLevelModel(\n",
      "/tmp/ipykernel_258484/1860583228.py:27: UserWarning: [NiftiMasker.fit] Generation of a mask has been requested (imgs != None) while a mask was given at masker creation. Given mask will be used.\n",
      "  glm = FirstLevelModel(\n",
      "/tmp/ipykernel_258484/1860583228.py:27: UserWarning: The following unexpected columns in events data will be ignored: weight\n",
      "  glm = FirstLevelModel(\n"
     ]
    },
    {
     "name": "stdout",
     "output_type": "stream",
     "text": [
      "Processing SAXSISO39s\n"
     ]
    },
    {
     "name": "stderr",
     "output_type": "stream",
     "text": [
      "/tmp/ipykernel_258484/1860583228.py:27: UserWarning: [NiftiMasker.fit] Generation of a mask has been requested (imgs != None) while a mask was given at masker creation. Given mask will be used.\n",
      "  glm = FirstLevelModel(\n",
      "/tmp/ipykernel_258484/1860583228.py:27: UserWarning: The following unexpected columns in events data will be ignored: weight\n",
      "  glm = FirstLevelModel(\n",
      "/tmp/ipykernel_258484/1860583228.py:27: UserWarning: [NiftiMasker.fit] Generation of a mask has been requested (imgs != None) while a mask was given at masker creation. Given mask will be used.\n",
      "  glm = FirstLevelModel(\n",
      "/tmp/ipykernel_258484/1860583228.py:27: UserWarning: The following unexpected columns in events data will be ignored: weight\n",
      "  glm = FirstLevelModel(\n",
      "/tmp/ipykernel_258484/1860583228.py:27: UserWarning: [NiftiMasker.fit] Generation of a mask has been requested (imgs != None) while a mask was given at masker creation. Given mask will be used.\n",
      "  glm = FirstLevelModel(\n",
      "/tmp/ipykernel_258484/1860583228.py:27: UserWarning: The following unexpected columns in events data will be ignored: weight\n",
      "  glm = FirstLevelModel(\n",
      "/tmp/ipykernel_258484/1860583228.py:27: UserWarning: [NiftiMasker.fit] Generation of a mask has been requested (imgs != None) while a mask was given at masker creation. Given mask will be used.\n",
      "  glm = FirstLevelModel(\n",
      "/tmp/ipykernel_258484/1860583228.py:27: UserWarning: The following unexpected columns in events data will be ignored: weight\n",
      "  glm = FirstLevelModel(\n",
      "/tmp/ipykernel_258484/1860583228.py:27: UserWarning: [NiftiMasker.fit] Generation of a mask has been requested (imgs != None) while a mask was given at masker creation. Given mask will be used.\n",
      "  glm = FirstLevelModel(\n",
      "/tmp/ipykernel_258484/1860583228.py:27: UserWarning: The following unexpected columns in events data will be ignored: weight\n",
      "  glm = FirstLevelModel(\n",
      "/tmp/ipykernel_258484/1860583228.py:27: UserWarning: [NiftiMasker.fit] Generation of a mask has been requested (imgs != None) while a mask was given at masker creation. Given mask will be used.\n",
      "  glm = FirstLevelModel(\n",
      "/tmp/ipykernel_258484/1860583228.py:27: UserWarning: The following unexpected columns in events data will be ignored: weight\n",
      "  glm = FirstLevelModel(\n"
     ]
    },
    {
     "name": "stdout",
     "output_type": "stream",
     "text": [
      "Processing SAXSISO40b\n"
     ]
    },
    {
     "name": "stderr",
     "output_type": "stream",
     "text": [
      "/tmp/ipykernel_258484/1860583228.py:27: UserWarning: [NiftiMasker.fit] Generation of a mask has been requested (imgs != None) while a mask was given at masker creation. Given mask will be used.\n",
      "  glm = FirstLevelModel(\n",
      "/tmp/ipykernel_258484/1860583228.py:27: UserWarning: The following unexpected columns in events data will be ignored: weight\n",
      "  glm = FirstLevelModel(\n",
      "/tmp/ipykernel_258484/1860583228.py:27: UserWarning: [NiftiMasker.fit] Generation of a mask has been requested (imgs != None) while a mask was given at masker creation. Given mask will be used.\n",
      "  glm = FirstLevelModel(\n",
      "/tmp/ipykernel_258484/1860583228.py:27: UserWarning: The following unexpected columns in events data will be ignored: weight\n",
      "  glm = FirstLevelModel(\n",
      "/tmp/ipykernel_258484/1860583228.py:27: UserWarning: [NiftiMasker.fit] Generation of a mask has been requested (imgs != None) while a mask was given at masker creation. Given mask will be used.\n",
      "  glm = FirstLevelModel(\n",
      "/tmp/ipykernel_258484/1860583228.py:27: UserWarning: The following unexpected columns in events data will be ignored: weight\n",
      "  glm = FirstLevelModel(\n",
      "/tmp/ipykernel_258484/1860583228.py:27: UserWarning: [NiftiMasker.fit] Generation of a mask has been requested (imgs != None) while a mask was given at masker creation. Given mask will be used.\n",
      "  glm = FirstLevelModel(\n",
      "/tmp/ipykernel_258484/1860583228.py:27: UserWarning: The following unexpected columns in events data will be ignored: weight\n",
      "  glm = FirstLevelModel(\n",
      "/tmp/ipykernel_258484/1860583228.py:27: UserWarning: [NiftiMasker.fit] Generation of a mask has been requested (imgs != None) while a mask was given at masker creation. Given mask will be used.\n",
      "  glm = FirstLevelModel(\n",
      "/tmp/ipykernel_258484/1860583228.py:27: UserWarning: The following unexpected columns in events data will be ignored: weight\n",
      "  glm = FirstLevelModel(\n",
      "/tmp/ipykernel_258484/1860583228.py:27: UserWarning: [NiftiMasker.fit] Generation of a mask has been requested (imgs != None) while a mask was given at masker creation. Given mask will be used.\n",
      "  glm = FirstLevelModel(\n",
      "/tmp/ipykernel_258484/1860583228.py:27: UserWarning: The following unexpected columns in events data will be ignored: weight\n",
      "  glm = FirstLevelModel(\n"
     ]
    },
    {
     "name": "stdout",
     "output_type": "stream",
     "text": [
      "Processing SAXSISO40f\n"
     ]
    },
    {
     "name": "stderr",
     "output_type": "stream",
     "text": [
      "/tmp/ipykernel_258484/1860583228.py:27: UserWarning: [NiftiMasker.fit] Generation of a mask has been requested (imgs != None) while a mask was given at masker creation. Given mask will be used.\n",
      "  glm = FirstLevelModel(\n",
      "/tmp/ipykernel_258484/1860583228.py:27: UserWarning: The following unexpected columns in events data will be ignored: weight\n",
      "  glm = FirstLevelModel(\n",
      "/tmp/ipykernel_258484/1860583228.py:27: UserWarning: [NiftiMasker.fit] Generation of a mask has been requested (imgs != None) while a mask was given at masker creation. Given mask will be used.\n",
      "  glm = FirstLevelModel(\n",
      "/tmp/ipykernel_258484/1860583228.py:27: UserWarning: The following unexpected columns in events data will be ignored: weight\n",
      "  glm = FirstLevelModel(\n",
      "/tmp/ipykernel_258484/1860583228.py:27: UserWarning: [NiftiMasker.fit] Generation of a mask has been requested (imgs != None) while a mask was given at masker creation. Given mask will be used.\n",
      "  glm = FirstLevelModel(\n",
      "/tmp/ipykernel_258484/1860583228.py:27: UserWarning: The following unexpected columns in events data will be ignored: weight\n",
      "  glm = FirstLevelModel(\n",
      "/tmp/ipykernel_258484/1860583228.py:27: UserWarning: [NiftiMasker.fit] Generation of a mask has been requested (imgs != None) while a mask was given at masker creation. Given mask will be used.\n",
      "  glm = FirstLevelModel(\n",
      "/tmp/ipykernel_258484/1860583228.py:27: UserWarning: The following unexpected columns in events data will be ignored: weight\n",
      "  glm = FirstLevelModel(\n",
      "/tmp/ipykernel_258484/1860583228.py:27: UserWarning: [NiftiMasker.fit] Generation of a mask has been requested (imgs != None) while a mask was given at masker creation. Given mask will be used.\n",
      "  glm = FirstLevelModel(\n",
      "/tmp/ipykernel_258484/1860583228.py:27: UserWarning: The following unexpected columns in events data will be ignored: weight\n",
      "  glm = FirstLevelModel(\n"
     ]
    }
   ],
   "source": [
    "conditions = ['Food_1', 'Food_2', 'Food_3',\n",
    "              'Social_1', 'Social_2', 'Social_3',\n",
    "              'Control_1', 'Control_2', 'Control_3']\n",
    "\n",
    "# Map fine-grained regressors to broader class labels\n",
    "label_map = {\n",
    "    'Food_1': 'Food',\n",
    "    'Food_2': 'Food',\n",
    "    'Food_3': 'Food',\n",
    "    'Social_1': 'Social',\n",
    "    'Social_2': 'Social',\n",
    "    'Social_3': 'Social',\n",
    "    'Control_1': 'Control',\n",
    "    'Control_2': 'Control',\n",
    "    'Control_3': 'Control'\n",
    "}\n",
    "\n",
    "for sub_sess in all_sub_dirs:\n",
    "    outdir = Path(DERIV_OUT)/f\"sub-{sub_sess}\"\n",
    "    if not outdir.exists(): \n",
    "        outdir.mkdir()\n",
    "        print(f\"Processing {sub_sess}\")\n",
    "        bolds, confs, evts, resampled_anat_mask = get_runs_files(sub_sess, TASK)\n",
    "        for run_id in range(len(bolds)): \n",
    "            glm = FirstLevelModel(\n",
    "                t_r=TR, hrf_model=\"spm\", drift_model=\"cosine\", high_pass=0.008,\n",
    "                noise_model=\"ar1\", smoothing_fwhm=2, standardize=True,\n",
    "                mask_img=resampled_anat_mask, minimize_memory=True, n_jobs=4\n",
    "            ).fit(run_imgs=bolds[run_id], events=evts[run_id], confounds=confs[run_id])\n",
    "\n",
    "            for cond in conditions:\n",
    "                eff = glm.compute_contrast(cond, output_type='all', stat_type='t')\n",
    "                eff['effect_size'].to_filename(outdir / f\"{run_id}_{cond}_effsize.nii.gz\")\n",
    "                eff['effect_variance'].to_filename(outdir / f\"{run_id}_{cond}_effvar.nii.gz\")\n",
    "                eff['z_score'].to_filename(outdir / f\"{run_id}_{cond}_zmap.nii.gz\")\n",
    "                eff['stat'].to_filename(outdir / f\"{run_id}_{cond}_tstat.nii.gz\")\n",
    "\n"
   ]
  },
  {
   "cell_type": "code",
   "execution_count": null,
   "id": "5a492a3e",
   "metadata": {},
   "outputs": [],
   "source": []
  }
 ],
 "metadata": {
  "kernelspec": {
   "display_name": "py39",
   "language": "python",
   "name": "python3"
  },
  "language_info": {
   "codemirror_mode": {
    "name": "ipython",
    "version": 3
   },
   "file_extension": ".py",
   "mimetype": "text/x-python",
   "name": "python",
   "nbconvert_exporter": "python",
   "pygments_lexer": "ipython3",
   "version": "3.9.23"
  }
 },
 "nbformat": 4,
 "nbformat_minor": 5
}
