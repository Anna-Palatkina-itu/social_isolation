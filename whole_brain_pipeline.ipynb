{
 "cells": [
  {
   "cell_type": "markdown",
   "id": "40665165",
   "metadata": {},
   "source": [
    "## Imports and inits"
   ]
  },
  {
   "cell_type": "code",
   "execution_count": 1,
   "id": "06eb31f6",
   "metadata": {},
   "outputs": [],
   "source": [
    "import os, re, glob, json\n",
    "from pathlib import Path\n",
    "import numpy as np\n",
    "import pandas as pd\n",
    "import nibabel as nib\n",
    "from nilearn.glm.first_level import FirstLevelModel\n",
    "from nilearn.glm.second_level import SecondLevelModel, non_parametric_inference\n",
    "from nilearn import image\n",
    "import matplotlib.pyplot as plt\n",
    "from nilearn.plotting import plot_design_matrix\n",
    "from nilearn.plotting import plot_stat_map\n",
    "from nilearn.glm import threshold_stats_img\n",
    "from nilearn import plotting\n",
    "from nilearn.image import load_img, resample_to_img"
   ]
  },
  {
   "cell_type": "code",
   "execution_count": 2,
   "id": "c04f4a75",
   "metadata": {},
   "outputs": [],
   "source": [
    "BASE = \"/local/anpa/ds003242-1.0.0\"\n",
    "DERIVATIVES = f\"{BASE}/derivatives/\"\n",
    "DERIVATIVES_FMRIPREP = f\"{DERIVATIVES}/fmriprep/\" \n",
    "DERIV_OUT = f\"{DERIVATIVES}/firstlevel/\"  \n",
    "TASK = \"CIC\"\n",
    "TR = 2.0"
   ]
  },
  {
   "cell_type": "code",
   "execution_count": 3,
   "id": "4323df1d",
   "metadata": {},
   "outputs": [],
   "source": [
    "COND_MAP = {\"b\":\"baseline\", \"f\":\"fasting\", \"s\":\"isolation\"}\n",
    "\n",
    "NUIS = [\"framewise_displacement\",\n",
    "        \"a_comp_cor_00\",\"a_comp_cor_01\",\"a_comp_cor_02\",\n",
    "        \"a_comp_cor_03\",\"a_comp_cor_04\",\"a_comp_cor_05\"]"
   ]
  },
  {
   "cell_type": "markdown",
   "id": "ea50e36a",
   "metadata": {},
   "source": [
    "## Utils"
   ]
  },
  {
   "cell_type": "code",
   "execution_count": 4,
   "id": "d46bf39f",
   "metadata": {},
   "outputs": [],
   "source": [
    "def fprep_func_dir(sub):\n",
    "    return Path(BASE)/f\"derivatives/fmriprep/sub-{sub}/func\"\n",
    "\n",
    "\n",
    "def collect_runs(sub, task):\n",
    "    func = fprep_func_dir(sub)\n",
    "    patt = func.glob(f\"sub-{sub}_task-{task}_run-*_space-MNI152NLin2009cAsym_desc-preproc_bold.nii.gz\")\n",
    "    runs = []\n",
    "    for p in sorted(patt):\n",
    "        m = re.search(r\"_run-(\\d+)_\", p.name)\n",
    "        if m: runs.append(m.group(1))\n",
    "    return runs\n",
    "\n",
    "\n",
    "def files_for(sub, task, run):\n",
    "    func = fprep_func_dir(sub)\n",
    "    bold = func/f\"sub-{sub}_task-{task}_run-{run}_space-MNI152NLin2009cAsym_desc-preproc_bold.nii.gz\"\n",
    "    conf = func/f\"sub-{sub}_task-{task}_run-{run}_desc-confounds_regressors.tsv\"\n",
    "    evt  = Path(BASE)/f\"sub-{sub}/func/sub-{sub}_task-{task}_run-{run}_events.tsv\"\n",
    "    return bold, conf, evt\n",
    "\n",
    "\n",
    "def load_confounds_list(conf_paths):\n",
    "    out=[]\n",
    "    for cp in conf_paths:\n",
    "        df = pd.read_csv(cp, sep=\"\\t\").fillna(0)\n",
    "        for c in NUIS:\n",
    "            if c not in df: df[c]=0.0\n",
    "        out.append(df[NUIS])\n",
    "    return out\n"
   ]
  },
  {
   "cell_type": "code",
   "execution_count": 5,
   "id": "0f756220",
   "metadata": {},
   "outputs": [],
   "source": [
    "def resample_mask_to_bold(anat_mask, bold_img):\n",
    "    \"\"\"Resample anat mask to the space of the bold image.\n",
    "    As in tutorial https://nilearn.github.io/dev/auto_examples/04_glm_first_level/plot_first_level_details.html\n",
    "    \"\"\"\n",
    "    return resample_to_img(\n",
    "        anat_mask,\n",
    "        bold_img,\n",
    "        interpolation=\"nearest\",\n",
    "        copy_header=True,\n",
    "        force_resample=True,\n",
    "    )\n"
   ]
  },
  {
   "cell_type": "code",
   "execution_count": 6,
   "id": "d13a0efb",
   "metadata": {},
   "outputs": [],
   "source": [
    "def fit_subject_condition(sub, tr=TR, smoothing=6.0):\n",
    "    \"\"\"Fit one GLM across all runs (block-diagonal) for a subject (which already encodes condition by suffix).\"\"\"\n",
    "    runs = collect_runs(sub, TASK) \n",
    "    assert len(runs)>0, f\"No runs for {sub} {TASK}\"\n",
    "    bolds, events, confs = [], [], []\n",
    "    for r in runs:\n",
    "        b, c, e = files_for(sub, TASK, r)\n",
    "        if not (b.exists() and c.exists() and e.exists()):\n",
    "            print(f\"skip run {r} for {sub}: missing files\"); continue\n",
    "        bolds.append(str(b));  events.append(pd.read_csv(e, sep=\"\\t\")); confs.append(str(c))\n",
    "    conf_list = load_confounds_list(confs)\n",
    "\n",
    "    anat_mask  = f'{DERIVATIVES_FMRIPREP}/sub-{sub}/anat/sub-{sub}_space-MNI152NLin2009cAsym_desc-brain_mask.nii.gz'\n",
    "    \n",
    "    resampled_anat_mask = resample_mask_to_bold(\n",
    "        load_img(anat_mask),\n",
    "        load_img(bolds[0])\n",
    "    ) \n",
    "\n",
    "    glm = FirstLevelModel(\n",
    "        t_r=tr, hrf_model=\"spm\", drift_model=\"cosine\", high_pass=0.008,\n",
    "        noise_model=\"ar1\", smoothing_fwhm=smoothing, standardize=False,\n",
    "        mask_img=resampled_anat_mask, minimize_memory=False,  n_jobs=2\n",
    "    ).fit(run_imgs=bolds, events=events, confounds=conf_list)\n",
    "    return glm"
   ]
  },
  {
   "cell_type": "markdown",
   "id": "8f68852b",
   "metadata": {},
   "source": [
    "## Contrasts to dict, allign with design matrix\n"
   ]
  },
  {
   "cell_type": "code",
   "execution_count": 7,
   "id": "9bacf4b8",
   "metadata": {},
   "outputs": [
    {
     "data": {
      "text/plain": [
       "['SAXSISO01b', 'SAXSISO01f', 'SAXSISO01s']"
      ]
     },
     "execution_count": 7,
     "metadata": {},
     "output_type": "execute_result"
    }
   ],
   "source": [
    "all_sub_dirs = sorted([p.name.split(\"sub-\")[-1] for p in Path(DERIVATIVES_FMRIPREP).glob(\"sub-*\") if p.is_dir()])\n",
    "all_sub_dirs[:3]"
   ]
  },
  {
   "cell_type": "code",
   "execution_count": 8,
   "id": "9727b38d",
   "metadata": {},
   "outputs": [
    {
     "name": "stdout",
     "output_type": "stream",
     "text": [
      "Processing SAXSISO01b\n"
     ]
    },
    {
     "name": "stderr",
     "output_type": "stream",
     "text": [
      "/tmp/ipykernel_2254952/1186814393.py:20: UserWarning: [NiftiMasker.fit] Generation of a mask has been requested (imgs != None) while a mask was given at masker creation. Given mask will be used.\n",
      "  glm = FirstLevelModel(\n",
      "/tmp/ipykernel_2254952/1186814393.py:20: UserWarning: The following unexpected columns in events data will be ignored: weight\n",
      "  glm = FirstLevelModel(\n",
      "/tmp/ipykernel_2254952/1186814393.py:20: UserWarning: The following unexpected columns in events data will be ignored: weight\n",
      "  glm = FirstLevelModel(\n",
      "/tmp/ipykernel_2254952/1186814393.py:20: UserWarning: The following unexpected columns in events data will be ignored: weight\n",
      "  glm = FirstLevelModel(\n",
      "/tmp/ipykernel_2254952/1186814393.py:20: UserWarning: The following unexpected columns in events data will be ignored: weight\n",
      "  glm = FirstLevelModel(\n",
      "/tmp/ipykernel_2254952/1186814393.py:20: UserWarning: The following unexpected columns in events data will be ignored: weight\n",
      "  glm = FirstLevelModel(\n",
      "/tmp/ipykernel_2254952/1186814393.py:20: UserWarning: The following unexpected columns in events data will be ignored: weight\n",
      "  glm = FirstLevelModel(\n"
     ]
    }
   ],
   "source": [
    "for sub_sess in all_sub_dirs:\n",
    "    print(f\"Processing {sub_sess}\")\n",
    "    glm = fit_subject_condition(sub_sess) # all 6 runs\n",
    "    break"
   ]
  },
  {
   "cell_type": "code",
   "execution_count": 9,
   "id": "953da84a",
   "metadata": {},
   "outputs": [
    {
     "data": {
      "text/html": [
       "<div>\n",
       "<style scoped>\n",
       "    .dataframe tbody tr th:only-of-type {\n",
       "        vertical-align: middle;\n",
       "    }\n",
       "\n",
       "    .dataframe tbody tr th {\n",
       "        vertical-align: top;\n",
       "    }\n",
       "\n",
       "    .dataframe thead th {\n",
       "        text-align: right;\n",
       "    }\n",
       "</style>\n",
       "<table border=\"1\" class=\"dataframe\">\n",
       "  <thead>\n",
       "    <tr style=\"text-align: right;\">\n",
       "      <th></th>\n",
       "      <th>Control_1</th>\n",
       "      <th>Control_2</th>\n",
       "      <th>Control_3</th>\n",
       "      <th>Food_1</th>\n",
       "      <th>Food_2</th>\n",
       "      <th>Food_3</th>\n",
       "      <th>Rating</th>\n",
       "      <th>Social_1</th>\n",
       "      <th>Social_2</th>\n",
       "      <th>Social_3</th>\n",
       "      <th>...</th>\n",
       "      <th>a_comp_cor_01</th>\n",
       "      <th>a_comp_cor_02</th>\n",
       "      <th>a_comp_cor_03</th>\n",
       "      <th>a_comp_cor_04</th>\n",
       "      <th>a_comp_cor_05</th>\n",
       "      <th>drift_1</th>\n",
       "      <th>drift_2</th>\n",
       "      <th>drift_3</th>\n",
       "      <th>drift_4</th>\n",
       "      <th>constant</th>\n",
       "    </tr>\n",
       "  </thead>\n",
       "  <tbody>\n",
       "    <tr>\n",
       "      <th>0.0</th>\n",
       "      <td>0.0</td>\n",
       "      <td>0.0</td>\n",
       "      <td>0.0</td>\n",
       "      <td>0.0</td>\n",
       "      <td>0.0</td>\n",
       "      <td>0.0</td>\n",
       "      <td>0.000000</td>\n",
       "      <td>0.0</td>\n",
       "      <td>0.0</td>\n",
       "      <td>0.000000</td>\n",
       "      <td>...</td>\n",
       "      <td>0.121125</td>\n",
       "      <td>-0.107836</td>\n",
       "      <td>0.002380</td>\n",
       "      <td>-0.097117</td>\n",
       "      <td>0.010765</td>\n",
       "      <td>0.116636</td>\n",
       "      <td>0.116616</td>\n",
       "      <td>0.116582</td>\n",
       "      <td>0.116536</td>\n",
       "      <td>1.0</td>\n",
       "    </tr>\n",
       "    <tr>\n",
       "      <th>2.0</th>\n",
       "      <td>0.0</td>\n",
       "      <td>0.0</td>\n",
       "      <td>0.0</td>\n",
       "      <td>0.0</td>\n",
       "      <td>0.0</td>\n",
       "      <td>0.0</td>\n",
       "      <td>0.000000</td>\n",
       "      <td>0.0</td>\n",
       "      <td>0.0</td>\n",
       "      <td>0.000000</td>\n",
       "      <td>...</td>\n",
       "      <td>0.032763</td>\n",
       "      <td>-0.084530</td>\n",
       "      <td>0.109629</td>\n",
       "      <td>-0.068618</td>\n",
       "      <td>0.012454</td>\n",
       "      <td>0.116582</td>\n",
       "      <td>0.116403</td>\n",
       "      <td>0.116103</td>\n",
       "      <td>0.115685</td>\n",
       "      <td>1.0</td>\n",
       "    </tr>\n",
       "    <tr>\n",
       "      <th>4.0</th>\n",
       "      <td>0.0</td>\n",
       "      <td>0.0</td>\n",
       "      <td>0.0</td>\n",
       "      <td>0.0</td>\n",
       "      <td>0.0</td>\n",
       "      <td>0.0</td>\n",
       "      <td>0.000000</td>\n",
       "      <td>0.0</td>\n",
       "      <td>0.0</td>\n",
       "      <td>0.000000</td>\n",
       "      <td>...</td>\n",
       "      <td>0.033646</td>\n",
       "      <td>-0.058669</td>\n",
       "      <td>0.168545</td>\n",
       "      <td>-0.035175</td>\n",
       "      <td>-0.046992</td>\n",
       "      <td>0.116476</td>\n",
       "      <td>0.115977</td>\n",
       "      <td>0.115147</td>\n",
       "      <td>0.113989</td>\n",
       "      <td>1.0</td>\n",
       "    </tr>\n",
       "    <tr>\n",
       "      <th>6.0</th>\n",
       "      <td>0.0</td>\n",
       "      <td>0.0</td>\n",
       "      <td>0.0</td>\n",
       "      <td>0.0</td>\n",
       "      <td>0.0</td>\n",
       "      <td>0.0</td>\n",
       "      <td>0.000000</td>\n",
       "      <td>0.0</td>\n",
       "      <td>0.0</td>\n",
       "      <td>0.000000</td>\n",
       "      <td>...</td>\n",
       "      <td>-0.083057</td>\n",
       "      <td>-0.002278</td>\n",
       "      <td>0.206864</td>\n",
       "      <td>-0.094748</td>\n",
       "      <td>-0.002758</td>\n",
       "      <td>0.116316</td>\n",
       "      <td>0.115340</td>\n",
       "      <td>0.113718</td>\n",
       "      <td>0.111460</td>\n",
       "      <td>1.0</td>\n",
       "    </tr>\n",
       "    <tr>\n",
       "      <th>8.0</th>\n",
       "      <td>0.0</td>\n",
       "      <td>0.0</td>\n",
       "      <td>0.0</td>\n",
       "      <td>0.0</td>\n",
       "      <td>0.0</td>\n",
       "      <td>0.0</td>\n",
       "      <td>0.000000</td>\n",
       "      <td>0.0</td>\n",
       "      <td>0.0</td>\n",
       "      <td>0.000000</td>\n",
       "      <td>...</td>\n",
       "      <td>-0.018369</td>\n",
       "      <td>0.068244</td>\n",
       "      <td>0.236396</td>\n",
       "      <td>-0.006087</td>\n",
       "      <td>-0.006007</td>\n",
       "      <td>0.116103</td>\n",
       "      <td>0.114491</td>\n",
       "      <td>0.111821</td>\n",
       "      <td>0.108118</td>\n",
       "      <td>1.0</td>\n",
       "    </tr>\n",
       "    <tr>\n",
       "      <th>...</th>\n",
       "      <td>...</td>\n",
       "      <td>...</td>\n",
       "      <td>...</td>\n",
       "      <td>...</td>\n",
       "      <td>...</td>\n",
       "      <td>...</td>\n",
       "      <td>...</td>\n",
       "      <td>...</td>\n",
       "      <td>...</td>\n",
       "      <td>...</td>\n",
       "      <td>...</td>\n",
       "      <td>...</td>\n",
       "      <td>...</td>\n",
       "      <td>...</td>\n",
       "      <td>...</td>\n",
       "      <td>...</td>\n",
       "      <td>...</td>\n",
       "      <td>...</td>\n",
       "      <td>...</td>\n",
       "      <td>...</td>\n",
       "      <td>...</td>\n",
       "    </tr>\n",
       "    <tr>\n",
       "      <th>284.0</th>\n",
       "      <td>0.0</td>\n",
       "      <td>0.0</td>\n",
       "      <td>0.0</td>\n",
       "      <td>0.0</td>\n",
       "      <td>0.0</td>\n",
       "      <td>0.0</td>\n",
       "      <td>0.007643</td>\n",
       "      <td>0.0</td>\n",
       "      <td>0.0</td>\n",
       "      <td>0.071873</td>\n",
       "      <td>...</td>\n",
       "      <td>-0.021950</td>\n",
       "      <td>0.056029</td>\n",
       "      <td>-0.015193</td>\n",
       "      <td>-0.001781</td>\n",
       "      <td>0.039326</td>\n",
       "      <td>-0.116103</td>\n",
       "      <td>0.114491</td>\n",
       "      <td>-0.111821</td>\n",
       "      <td>0.108118</td>\n",
       "      <td>1.0</td>\n",
       "    </tr>\n",
       "    <tr>\n",
       "      <th>286.0</th>\n",
       "      <td>0.0</td>\n",
       "      <td>0.0</td>\n",
       "      <td>0.0</td>\n",
       "      <td>0.0</td>\n",
       "      <td>0.0</td>\n",
       "      <td>0.0</td>\n",
       "      <td>0.191185</td>\n",
       "      <td>0.0</td>\n",
       "      <td>0.0</td>\n",
       "      <td>-0.094928</td>\n",
       "      <td>...</td>\n",
       "      <td>0.015491</td>\n",
       "      <td>0.067640</td>\n",
       "      <td>-0.064732</td>\n",
       "      <td>0.049984</td>\n",
       "      <td>0.005030</td>\n",
       "      <td>-0.116316</td>\n",
       "      <td>0.115340</td>\n",
       "      <td>-0.113718</td>\n",
       "      <td>0.111460</td>\n",
       "      <td>1.0</td>\n",
       "    </tr>\n",
       "    <tr>\n",
       "      <th>288.0</th>\n",
       "      <td>0.0</td>\n",
       "      <td>0.0</td>\n",
       "      <td>0.0</td>\n",
       "      <td>0.0</td>\n",
       "      <td>0.0</td>\n",
       "      <td>0.0</td>\n",
       "      <td>0.591326</td>\n",
       "      <td>0.0</td>\n",
       "      <td>0.0</td>\n",
       "      <td>-0.143481</td>\n",
       "      <td>...</td>\n",
       "      <td>0.012504</td>\n",
       "      <td>0.096465</td>\n",
       "      <td>-0.054503</td>\n",
       "      <td>-0.001642</td>\n",
       "      <td>0.062214</td>\n",
       "      <td>-0.116476</td>\n",
       "      <td>0.115977</td>\n",
       "      <td>-0.115147</td>\n",
       "      <td>0.113989</td>\n",
       "      <td>1.0</td>\n",
       "    </tr>\n",
       "    <tr>\n",
       "      <th>290.0</th>\n",
       "      <td>0.0</td>\n",
       "      <td>0.0</td>\n",
       "      <td>0.0</td>\n",
       "      <td>0.0</td>\n",
       "      <td>0.0</td>\n",
       "      <td>0.0</td>\n",
       "      <td>0.865152</td>\n",
       "      <td>0.0</td>\n",
       "      <td>0.0</td>\n",
       "      <td>-0.132109</td>\n",
       "      <td>...</td>\n",
       "      <td>0.011162</td>\n",
       "      <td>0.065295</td>\n",
       "      <td>-0.038983</td>\n",
       "      <td>0.000239</td>\n",
       "      <td>0.083097</td>\n",
       "      <td>-0.116582</td>\n",
       "      <td>0.116403</td>\n",
       "      <td>-0.116103</td>\n",
       "      <td>0.115685</td>\n",
       "      <td>1.0</td>\n",
       "    </tr>\n",
       "    <tr>\n",
       "      <th>292.0</th>\n",
       "      <td>0.0</td>\n",
       "      <td>0.0</td>\n",
       "      <td>0.0</td>\n",
       "      <td>0.0</td>\n",
       "      <td>0.0</td>\n",
       "      <td>0.0</td>\n",
       "      <td>0.711499</td>\n",
       "      <td>0.0</td>\n",
       "      <td>0.0</td>\n",
       "      <td>-0.097772</td>\n",
       "      <td>...</td>\n",
       "      <td>0.001708</td>\n",
       "      <td>0.072674</td>\n",
       "      <td>-0.030047</td>\n",
       "      <td>0.031472</td>\n",
       "      <td>0.037882</td>\n",
       "      <td>-0.116636</td>\n",
       "      <td>0.116616</td>\n",
       "      <td>-0.116582</td>\n",
       "      <td>0.116536</td>\n",
       "      <td>1.0</td>\n",
       "    </tr>\n",
       "  </tbody>\n",
       "</table>\n",
       "<p>147 rows × 22 columns</p>\n",
       "</div>"
      ],
      "text/plain": [
       "       Control_1  Control_2  Control_3  Food_1  Food_2  Food_3    Rating  \\\n",
       "0.0          0.0        0.0        0.0     0.0     0.0     0.0  0.000000   \n",
       "2.0          0.0        0.0        0.0     0.0     0.0     0.0  0.000000   \n",
       "4.0          0.0        0.0        0.0     0.0     0.0     0.0  0.000000   \n",
       "6.0          0.0        0.0        0.0     0.0     0.0     0.0  0.000000   \n",
       "8.0          0.0        0.0        0.0     0.0     0.0     0.0  0.000000   \n",
       "...          ...        ...        ...     ...     ...     ...       ...   \n",
       "284.0        0.0        0.0        0.0     0.0     0.0     0.0  0.007643   \n",
       "286.0        0.0        0.0        0.0     0.0     0.0     0.0  0.191185   \n",
       "288.0        0.0        0.0        0.0     0.0     0.0     0.0  0.591326   \n",
       "290.0        0.0        0.0        0.0     0.0     0.0     0.0  0.865152   \n",
       "292.0        0.0        0.0        0.0     0.0     0.0     0.0  0.711499   \n",
       "\n",
       "       Social_1  Social_2  Social_3  ...  a_comp_cor_01  a_comp_cor_02  \\\n",
       "0.0         0.0       0.0  0.000000  ...       0.121125      -0.107836   \n",
       "2.0         0.0       0.0  0.000000  ...       0.032763      -0.084530   \n",
       "4.0         0.0       0.0  0.000000  ...       0.033646      -0.058669   \n",
       "6.0         0.0       0.0  0.000000  ...      -0.083057      -0.002278   \n",
       "8.0         0.0       0.0  0.000000  ...      -0.018369       0.068244   \n",
       "...         ...       ...       ...  ...            ...            ...   \n",
       "284.0       0.0       0.0  0.071873  ...      -0.021950       0.056029   \n",
       "286.0       0.0       0.0 -0.094928  ...       0.015491       0.067640   \n",
       "288.0       0.0       0.0 -0.143481  ...       0.012504       0.096465   \n",
       "290.0       0.0       0.0 -0.132109  ...       0.011162       0.065295   \n",
       "292.0       0.0       0.0 -0.097772  ...       0.001708       0.072674   \n",
       "\n",
       "       a_comp_cor_03  a_comp_cor_04  a_comp_cor_05   drift_1   drift_2  \\\n",
       "0.0         0.002380      -0.097117       0.010765  0.116636  0.116616   \n",
       "2.0         0.109629      -0.068618       0.012454  0.116582  0.116403   \n",
       "4.0         0.168545      -0.035175      -0.046992  0.116476  0.115977   \n",
       "6.0         0.206864      -0.094748      -0.002758  0.116316  0.115340   \n",
       "8.0         0.236396      -0.006087      -0.006007  0.116103  0.114491   \n",
       "...              ...            ...            ...       ...       ...   \n",
       "284.0      -0.015193      -0.001781       0.039326 -0.116103  0.114491   \n",
       "286.0      -0.064732       0.049984       0.005030 -0.116316  0.115340   \n",
       "288.0      -0.054503      -0.001642       0.062214 -0.116476  0.115977   \n",
       "290.0      -0.038983       0.000239       0.083097 -0.116582  0.116403   \n",
       "292.0      -0.030047       0.031472       0.037882 -0.116636  0.116616   \n",
       "\n",
       "        drift_3   drift_4  constant  \n",
       "0.0    0.116582  0.116536       1.0  \n",
       "2.0    0.116103  0.115685       1.0  \n",
       "4.0    0.115147  0.113989       1.0  \n",
       "6.0    0.113718  0.111460       1.0  \n",
       "8.0    0.111821  0.108118       1.0  \n",
       "...         ...       ...       ...  \n",
       "284.0 -0.111821  0.108118       1.0  \n",
       "286.0 -0.113718  0.111460       1.0  \n",
       "288.0 -0.115147  0.113989       1.0  \n",
       "290.0 -0.116103  0.115685       1.0  \n",
       "292.0 -0.116582  0.116536       1.0  \n",
       "\n",
       "[147 rows x 22 columns]"
      ]
     },
     "execution_count": 9,
     "metadata": {},
     "output_type": "execute_result"
    }
   ],
   "source": [
    "design_matrix = glm.design_matrices_[0]\n",
    "design_matrix"
   ]
  },
  {
   "cell_type": "code",
   "execution_count": 10,
   "id": "e22fa6e5",
   "metadata": {},
   "outputs": [
    {
     "data": {
      "image/png": "[encoded data removed]",
      "text/plain": [
       "<Figure size 606x1000 with 1 Axes>"
      ]
     },
     "metadata": {},
     "output_type": "display_data"
    }
   ],
   "source": [
    "plot_design_matrix(design_matrix)\n",
    "plt.title(\"Design Matrix\")\n",
    "plt.show()"
   ]
  },
  {
   "cell_type": "code",
   "execution_count": 11,
   "id": "b68ea26e",
   "metadata": {},
   "outputs": [
    {
     "data": {
      "text/html": [
       "<div>\n",
       "<style scoped>\n",
       "    .dataframe tbody tr th:only-of-type {\n",
       "        vertical-align: middle;\n",
       "    }\n",
       "\n",
       "    .dataframe tbody tr th {\n",
       "        vertical-align: top;\n",
       "    }\n",
       "\n",
       "    .dataframe thead th {\n",
       "        text-align: right;\n",
       "    }\n",
       "</style>\n",
       "<table border=\"1\" class=\"dataframe\">\n",
       "  <thead>\n",
       "    <tr style=\"text-align: right;\">\n",
       "      <th></th>\n",
       "      <th>session</th>\n",
       "      <th>level_1</th>\n",
       "      <th>task</th>\n",
       "      <th>desc</th>\n",
       "      <th>conds</th>\n",
       "      <th>weights</th>\n",
       "    </tr>\n",
       "  </thead>\n",
       "  <tbody>\n",
       "    <tr>\n",
       "      <th>0</th>\n",
       "      <td>CIC</td>\n",
       "      <td>food_gt_control</td>\n",
       "      <td>Food_1 Food_2 Food_3 Control_1 Control_2 Contr...</td>\n",
       "      <td>0.3333 0.3333 0.3333 -0.3333 -0.3333 -0.3333</td>\n",
       "      <td>NaN</td>\n",
       "      <td>NaN</td>\n",
       "    </tr>\n",
       "    <tr>\n",
       "      <th>1</th>\n",
       "      <td>CIC</td>\n",
       "      <td>food_gt_rest</td>\n",
       "      <td>Food_1 Food_2 Food_3</td>\n",
       "      <td>0.3333 0.3333 0.3333</td>\n",
       "      <td>NaN</td>\n",
       "      <td>NaN</td>\n",
       "    </tr>\n",
       "    <tr>\n",
       "      <th>2</th>\n",
       "      <td>CIC</td>\n",
       "      <td>social_gt_control</td>\n",
       "      <td>Social_1 Social_2 Social_3 Control_1 Control_2...</td>\n",
       "      <td>0.3333 0.3333 0.3333 -0.3333 -0.3333 -0.3333</td>\n",
       "      <td>NaN</td>\n",
       "      <td>NaN</td>\n",
       "    </tr>\n",
       "    <tr>\n",
       "      <th>3</th>\n",
       "      <td>CIC</td>\n",
       "      <td>social_gt_rest</td>\n",
       "      <td>Social_1 Social_2 Social_3</td>\n",
       "      <td>0.3333 0.3333 0.3333</td>\n",
       "      <td>NaN</td>\n",
       "      <td>NaN</td>\n",
       "    </tr>\n",
       "    <tr>\n",
       "      <th>4</th>\n",
       "      <td>CIC</td>\n",
       "      <td>control_gt_food</td>\n",
       "      <td>Food_1 Food_2 Food_3 Control_1 Control_2 Contr...</td>\n",
       "      <td>-0.3333 -0.3333 -0.3333 0.3333 0.3333 0.3333</td>\n",
       "      <td>NaN</td>\n",
       "      <td>NaN</td>\n",
       "    </tr>\n",
       "    <tr>\n",
       "      <th>5</th>\n",
       "      <td>CIC</td>\n",
       "      <td>control_gt_rest</td>\n",
       "      <td>Control_1 Control_2 Control_3</td>\n",
       "      <td>0.3333 0.3333 0.3333</td>\n",
       "      <td>NaN</td>\n",
       "      <td>NaN</td>\n",
       "    </tr>\n",
       "    <tr>\n",
       "      <th>6</th>\n",
       "      <td>CIC</td>\n",
       "      <td>control_gt_social</td>\n",
       "      <td>Social_1 Social_2 Social_3 Control_1 Control_2...</td>\n",
       "      <td>-0.3333 -0.3333 -0.3333 0.3333 0.3333 0.3333</td>\n",
       "      <td>NaN</td>\n",
       "      <td>NaN</td>\n",
       "    </tr>\n",
       "    <tr>\n",
       "      <th>7</th>\n",
       "      <td>CIC</td>\n",
       "      <td>food_gt_social</td>\n",
       "      <td>Food_1 Food_2 Food_3 Social_1 Social_2 Social_3</td>\n",
       "      <td>0.3333 0.3333 0.3333 -0.3333 -0.3333 -0.3333</td>\n",
       "      <td>NaN</td>\n",
       "      <td>NaN</td>\n",
       "    </tr>\n",
       "    <tr>\n",
       "      <th>8</th>\n",
       "      <td>CIC</td>\n",
       "      <td>social_gt_food</td>\n",
       "      <td>Food_1 Food_2 Food_3 Social_1 Social_2 Social_3</td>\n",
       "      <td>-0.3333 -0.3333 -0.3333 0.3333 0.3333 0.3333</td>\n",
       "      <td>NaN</td>\n",
       "      <td>NaN</td>\n",
       "    </tr>\n",
       "    <tr>\n",
       "      <th>9</th>\n",
       "      <td>CIC</td>\n",
       "      <td>rating_gt_rest</td>\n",
       "      <td>Rating</td>\n",
       "      <td>1</td>\n",
       "      <td>NaN</td>\n",
       "      <td>NaN</td>\n",
       "    </tr>\n",
       "    <tr>\n",
       "      <th>10</th>\n",
       "      <td>CIC</td>\n",
       "      <td>food1_gt_rest</td>\n",
       "      <td>Food_1</td>\n",
       "      <td>1</td>\n",
       "      <td>NaN</td>\n",
       "      <td>NaN</td>\n",
       "    </tr>\n",
       "    <tr>\n",
       "      <th>11</th>\n",
       "      <td>CIC</td>\n",
       "      <td>food2_gt_rest</td>\n",
       "      <td>Food_2</td>\n",
       "      <td>1</td>\n",
       "      <td>NaN</td>\n",
       "      <td>NaN</td>\n",
       "    </tr>\n",
       "    <tr>\n",
       "      <th>12</th>\n",
       "      <td>CIC</td>\n",
       "      <td>food3_gt_rest</td>\n",
       "      <td>Food_3</td>\n",
       "      <td>1</td>\n",
       "      <td>NaN</td>\n",
       "      <td>NaN</td>\n",
       "    </tr>\n",
       "    <tr>\n",
       "      <th>13</th>\n",
       "      <td>CIC</td>\n",
       "      <td>social1_gt_rest</td>\n",
       "      <td>Social_1</td>\n",
       "      <td>1</td>\n",
       "      <td>NaN</td>\n",
       "      <td>NaN</td>\n",
       "    </tr>\n",
       "    <tr>\n",
       "      <th>14</th>\n",
       "      <td>CIC</td>\n",
       "      <td>social2_gt_rest</td>\n",
       "      <td>Social_2</td>\n",
       "      <td>1</td>\n",
       "      <td>NaN</td>\n",
       "      <td>NaN</td>\n",
       "    </tr>\n",
       "    <tr>\n",
       "      <th>15</th>\n",
       "      <td>CIC</td>\n",
       "      <td>social3_gt_rest</td>\n",
       "      <td>Social_3</td>\n",
       "      <td>1</td>\n",
       "      <td>NaN</td>\n",
       "      <td>NaN</td>\n",
       "    </tr>\n",
       "    <tr>\n",
       "      <th>16</th>\n",
       "      <td>CIC</td>\n",
       "      <td>control1_gt_rest</td>\n",
       "      <td>Control_1</td>\n",
       "      <td>1</td>\n",
       "      <td>NaN</td>\n",
       "      <td>NaN</td>\n",
       "    </tr>\n",
       "    <tr>\n",
       "      <th>17</th>\n",
       "      <td>CIC</td>\n",
       "      <td>control2_gt_rest</td>\n",
       "      <td>Control_2</td>\n",
       "      <td>1</td>\n",
       "      <td>NaN</td>\n",
       "      <td>NaN</td>\n",
       "    </tr>\n",
       "    <tr>\n",
       "      <th>18</th>\n",
       "      <td>CIC</td>\n",
       "      <td>control3_gt_rest</td>\n",
       "      <td>Control_3</td>\n",
       "      <td>1</td>\n",
       "      <td>NaN</td>\n",
       "      <td>NaN</td>\n",
       "    </tr>\n",
       "  </tbody>\n",
       "</table>\n",
       "</div>"
      ],
      "text/plain": [
       "   session            level_1  \\\n",
       "0      CIC    food_gt_control   \n",
       "1      CIC       food_gt_rest   \n",
       "2      CIC  social_gt_control   \n",
       "3      CIC     social_gt_rest   \n",
       "4      CIC    control_gt_food   \n",
       "5      CIC    control_gt_rest   \n",
       "6      CIC  control_gt_social   \n",
       "7      CIC     food_gt_social   \n",
       "8      CIC     social_gt_food   \n",
       "9      CIC     rating_gt_rest   \n",
       "10     CIC      food1_gt_rest   \n",
       "11     CIC      food2_gt_rest   \n",
       "12     CIC      food3_gt_rest   \n",
       "13     CIC    social1_gt_rest   \n",
       "14     CIC    social2_gt_rest   \n",
       "15     CIC    social3_gt_rest   \n",
       "16     CIC   control1_gt_rest   \n",
       "17     CIC   control2_gt_rest   \n",
       "18     CIC   control3_gt_rest   \n",
       "\n",
       "                                                 task  \\\n",
       "0   Food_1 Food_2 Food_3 Control_1 Control_2 Contr...   \n",
       "1                                Food_1 Food_2 Food_3   \n",
       "2   Social_1 Social_2 Social_3 Control_1 Control_2...   \n",
       "3                          Social_1 Social_2 Social_3   \n",
       "4   Food_1 Food_2 Food_3 Control_1 Control_2 Contr...   \n",
       "5                       Control_1 Control_2 Control_3   \n",
       "6   Social_1 Social_2 Social_3 Control_1 Control_2...   \n",
       "7     Food_1 Food_2 Food_3 Social_1 Social_2 Social_3   \n",
       "8     Food_1 Food_2 Food_3 Social_1 Social_2 Social_3   \n",
       "9                                              Rating   \n",
       "10                                             Food_1   \n",
       "11                                             Food_2   \n",
       "12                                             Food_3   \n",
       "13                                           Social_1   \n",
       "14                                           Social_2   \n",
       "15                                           Social_3   \n",
       "16                                          Control_1   \n",
       "17                                          Control_2   \n",
       "18                                          Control_3   \n",
       "\n",
       "                                            desc  conds  weights  \n",
       "0   0.3333 0.3333 0.3333 -0.3333 -0.3333 -0.3333    NaN      NaN  \n",
       "1                           0.3333 0.3333 0.3333    NaN      NaN  \n",
       "2   0.3333 0.3333 0.3333 -0.3333 -0.3333 -0.3333    NaN      NaN  \n",
       "3                           0.3333 0.3333 0.3333    NaN      NaN  \n",
       "4   -0.3333 -0.3333 -0.3333 0.3333 0.3333 0.3333    NaN      NaN  \n",
       "5                           0.3333 0.3333 0.3333    NaN      NaN  \n",
       "6   -0.3333 -0.3333 -0.3333 0.3333 0.3333 0.3333    NaN      NaN  \n",
       "7   0.3333 0.3333 0.3333 -0.3333 -0.3333 -0.3333    NaN      NaN  \n",
       "8   -0.3333 -0.3333 -0.3333 0.3333 0.3333 0.3333    NaN      NaN  \n",
       "9                                              1    NaN      NaN  \n",
       "10                                             1    NaN      NaN  \n",
       "11                                             1    NaN      NaN  \n",
       "12                                             1    NaN      NaN  \n",
       "13                                             1    NaN      NaN  \n",
       "14                                             1    NaN      NaN  \n",
       "15                                             1    NaN      NaN  \n",
       "16                                             1    NaN      NaN  \n",
       "17                                             1    NaN      NaN  \n",
       "18                                             1    NaN      NaN  "
      ]
     },
     "execution_count": 11,
     "metadata": {},
     "output_type": "execute_result"
    }
   ],
   "source": [
    "contrast_file = \"contrasts.tsv\"\n",
    "contrast_df = pd.read_csv(contrast_file, sep='\\t', header=0)\n",
    "contrast_df.reset_index(inplace=True)\n",
    "contrast_df.rename(columns={'level_0': 'session'}, inplace=True)\n",
    "contrast_df = contrast_df.query('session == @TASK')\n",
    "design_cols = design_matrix.columns.tolist()\n",
    "\n",
    "contrast_df"
   ]
  },
  {
   "cell_type": "code",
   "execution_count": 12,
   "id": "2068f6e2",
   "metadata": {},
   "outputs": [
    {
     "data": {
      "text/plain": [
       "{'food_gt_control': array([-0.3333, -0.3333, -0.3333,  0.3333,  0.3333,  0.3333,  0.    ,\n",
       "         0.    ,  0.    ,  0.    ,  0.    ,  0.    ,  0.    ,  0.    ,\n",
       "         0.    ,  0.    ,  0.    ,  0.    ,  0.    ,  0.    ,  0.    ,\n",
       "         0.    ]),\n",
       " 'food_gt_rest': array([0.    , 0.    , 0.    , 0.3333, 0.3333, 0.3333, 0.    , 0.    ,\n",
       "        0.    , 0.    , 0.    , 0.    , 0.    , 0.    , 0.    , 0.    ,\n",
       "        0.    , 0.    , 0.    , 0.    , 0.    , 0.    ]),\n",
       " 'social_gt_control': array([-0.3333, -0.3333, -0.3333,  0.    ,  0.    ,  0.    ,  0.    ,\n",
       "         0.3333,  0.3333,  0.3333,  0.    ,  0.    ,  0.    ,  0.    ,\n",
       "         0.    ,  0.    ,  0.    ,  0.    ,  0.    ,  0.    ,  0.    ,\n",
       "         0.    ]),\n",
       " 'social_gt_rest': array([0.    , 0.    , 0.    , 0.    , 0.    , 0.    , 0.    , 0.3333,\n",
       "        0.3333, 0.3333, 0.    , 0.    , 0.    , 0.    , 0.    , 0.    ,\n",
       "        0.    , 0.    , 0.    , 0.    , 0.    , 0.    ]),\n",
       " 'control_gt_food': array([ 0.3333,  0.3333,  0.3333, -0.3333, -0.3333, -0.3333,  0.    ,\n",
       "         0.    ,  0.    ,  0.    ,  0.    ,  0.    ,  0.    ,  0.    ,\n",
       "         0.    ,  0.    ,  0.    ,  0.    ,  0.    ,  0.    ,  0.    ,\n",
       "         0.    ]),\n",
       " 'control_gt_rest': array([0.3333, 0.3333, 0.3333, 0.    , 0.    , 0.    , 0.    , 0.    ,\n",
       "        0.    , 0.    , 0.    , 0.    , 0.    , 0.    , 0.    , 0.    ,\n",
       "        0.    , 0.    , 0.    , 0.    , 0.    , 0.    ]),\n",
       " 'control_gt_social': array([ 0.3333,  0.3333,  0.3333,  0.    ,  0.    ,  0.    ,  0.    ,\n",
       "        -0.3333, -0.3333, -0.3333,  0.    ,  0.    ,  0.    ,  0.    ,\n",
       "         0.    ,  0.    ,  0.    ,  0.    ,  0.    ,  0.    ,  0.    ,\n",
       "         0.    ]),\n",
       " 'food_gt_social': array([ 0.    ,  0.    ,  0.    ,  0.3333,  0.3333,  0.3333,  0.    ,\n",
       "        -0.3333, -0.3333, -0.3333,  0.    ,  0.    ,  0.    ,  0.    ,\n",
       "         0.    ,  0.    ,  0.    ,  0.    ,  0.    ,  0.    ,  0.    ,\n",
       "         0.    ]),\n",
       " 'social_gt_food': array([ 0.    ,  0.    ,  0.    , -0.3333, -0.3333, -0.3333,  0.    ,\n",
       "         0.3333,  0.3333,  0.3333,  0.    ,  0.    ,  0.    ,  0.    ,\n",
       "         0.    ,  0.    ,  0.    ,  0.    ,  0.    ,  0.    ,  0.    ,\n",
       "         0.    ]),\n",
       " 'rating_gt_rest': array([0., 0., 0., 0., 0., 0., 1., 0., 0., 0., 0., 0., 0., 0., 0., 0., 0.,\n",
       "        0., 0., 0., 0., 0.]),\n",
       " 'food1_gt_rest': array([0., 0., 0., 1., 0., 0., 0., 0., 0., 0., 0., 0., 0., 0., 0., 0., 0.,\n",
       "        0., 0., 0., 0., 0.]),\n",
       " 'food2_gt_rest': array([0., 0., 0., 0., 1., 0., 0., 0., 0., 0., 0., 0., 0., 0., 0., 0., 0.,\n",
       "        0., 0., 0., 0., 0.]),\n",
       " 'food3_gt_rest': array([0., 0., 0., 0., 0., 1., 0., 0., 0., 0., 0., 0., 0., 0., 0., 0., 0.,\n",
       "        0., 0., 0., 0., 0.]),\n",
       " 'social1_gt_rest': array([0., 0., 0., 0., 0., 0., 0., 1., 0., 0., 0., 0., 0., 0., 0., 0., 0.,\n",
       "        0., 0., 0., 0., 0.]),\n",
       " 'social2_gt_rest': array([0., 0., 0., 0., 0., 0., 0., 0., 1., 0., 0., 0., 0., 0., 0., 0., 0.,\n",
       "        0., 0., 0., 0., 0.]),\n",
       " 'social3_gt_rest': array([0., 0., 0., 0., 0., 0., 0., 0., 0., 1., 0., 0., 0., 0., 0., 0., 0.,\n",
       "        0., 0., 0., 0., 0.]),\n",
       " 'control1_gt_rest': array([1., 0., 0., 0., 0., 0., 0., 0., 0., 0., 0., 0., 0., 0., 0., 0., 0.,\n",
       "        0., 0., 0., 0., 0.]),\n",
       " 'control2_gt_rest': array([0., 1., 0., 0., 0., 0., 0., 0., 0., 0., 0., 0., 0., 0., 0., 0., 0.,\n",
       "        0., 0., 0., 0., 0.]),\n",
       " 'control3_gt_rest': array([0., 0., 1., 0., 0., 0., 0., 0., 0., 0., 0., 0., 0., 0., 0., 0., 0.,\n",
       "        0., 0., 0., 0., 0.])}"
      ]
     },
     "execution_count": 12,
     "metadata": {},
     "output_type": "execute_result"
    }
   ],
   "source": [
    "# Final output dictionary\n",
    "contrasts = {}\n",
    "\n",
    "# Loop through each row in the contrast dataframe\n",
    "for _, row in contrast_df.iterrows():\n",
    "    contrast_name = row['level_1']\n",
    "    \n",
    "    # Skip if either task or desc is missing\n",
    "    if pd.isna(row['task']) or pd.isna(row['desc']):\n",
    "        print(f\"⚠️ Skipping {contrast_name}: missing task or desc\")\n",
    "        continue\n",
    "\n",
    "    # Parse the regressors and weights\n",
    "    regressors = row['task'].split()\n",
    "    weights = list(map(float, row['desc'].split()))\n",
    "    \n",
    "    if len(regressors) != len(weights):\n",
    "        print(f\"❌ Length mismatch in {contrast_name}: {len(regressors)} regressors vs {len(weights)} weights\")\n",
    "        continue\n",
    "\n",
    "    # Initialize full contrast vector\n",
    "    contrast_vec = np.zeros(len(design_cols))\n",
    "\n",
    "    # Fill in the weights at the correct indices\n",
    "    for reg, weight in zip(regressors, weights):\n",
    "        if reg in design_cols:\n",
    "            idx = design_cols.index(reg)\n",
    "            contrast_vec[idx] = weight\n",
    "        else:\n",
    "            print(f\"⚠️ Skipping regressor {reg} in {contrast_name} (not in design matrix)\")\n",
    "\n",
    "    # Add to the contrast dictionary\n",
    "    contrasts[contrast_name] = contrast_vec\n",
    "\n",
    "contrasts"
   ]
  },
  {
   "cell_type": "markdown",
   "id": "971f33f8",
   "metadata": {},
   "source": [
    "## Toy run for 1 participant"
   ]
  },
  {
   "cell_type": "code",
   "execution_count": 14,
   "id": "c19472f3",
   "metadata": {},
   "outputs": [],
   "source": [
    "anat_mask = load_img(f\"/local/anpa/ds003242-1.0.0/derivatives/fmriprep/sub-SAXSISO01b/anat/sub-SAXSISO01b_space-MNI152NLin2009cAsym_desc-brain_mask.nii.gz\")\n",
    "bold_img = load_img(f\"/local/anpa/ds003242-1.0.0/derivatives/fmriprep/sub-SAXSISO01b/func/sub-SAXSISO01b_task-CIC_run-001_space-MNI152NLin2009cAsym_desc-preproc_bold.nii.gz\")"
   ]
  },
  {
   "cell_type": "code",
   "execution_count": null,
   "id": "70d37734",
   "metadata": {},
   "outputs": [
    {
     "data": {
      "text/plain": [
       "<nibabel.nifti1.Nifti1Image at 0x7f5259b11490>"
      ]
     },
     "execution_count": 16,
     "metadata": {},
     "output_type": "execute_result"
    }
   ],
   "source": [
    "anat_mask = load_img(f\"/local/anpa/ds003242-1.0.0/derivatives/fmriprep/sub-SAXSISO01b/anat/sub-SAXSISO01b_space-MNI152NLin2009cAsym_desc-brain_mask.nii.gz\")\n",
    "bold_img = load_img(f\"/local/anpa/ds003242-1.0.0/derivatives/fmriprep/sub-SAXSISO01b/func/sub-SAXSISO01b_task-CIC_run-001_space-MNI152NLin2009cAsym_desc-preproc_bold.nii.gz\")\n",
    "resampled_mask = resample_to_img(\n",
    "    anat_mask,\n",
    "    bold_img,\n",
    "    interpolation=\"nearest\",\n",
    "    copy_header=True,\n",
    "    force_resample=True,\n",
    ")\n",
    "resampled_mask"
   ]
  },
  {
   "cell_type": "code",
   "execution_count": 18,
   "id": "68589cc2",
   "metadata": {},
   "outputs": [
    {
     "data": {
      "image/png": "[encoded data removed]",
      "text/plain": [
       "<Figure size 1600x400 with 10 Axes>"
      ]
     },
     "metadata": {},
     "output_type": "display_data"
    }
   ],
   "source": [
    "\n",
    "from nilearn.plotting import plot_roi\n",
    "\n",
    "plt.figure(figsize=(16, 4))\n",
    "ax = plt.subplot(121)\n",
    "plot_roi(anat_mask, title=\"Anat mask\", axes=ax)\n",
    "ax = plt.subplot(122)\n",
    "plot_roi(resampled_mask, title=\"Resampled mask\", axes=ax)\n",
    "plt.show()"
   ]
  },
  {
   "cell_type": "code",
   "execution_count": 19,
   "id": "6c13b3b8",
   "metadata": {},
   "outputs": [],
   "source": [
    "def fit_subject_condition(sub, tr=TR, smoothing=6.0):\n",
    "    \"\"\"Fit one GLM across all runs (block-diagonal) for a subject (which already encodes condition by suffix).\"\"\"\n",
    "    runs = collect_runs(sub, TASK) \n",
    "    assert len(runs)>0, f\"No runs for {sub} {TASK}\"\n",
    "    bolds, masks, events, confs = [], [], [], []\n",
    "    for r in runs:\n",
    "        b, m, c, e = files_for(sub, TASK, r)\n",
    "        if not (b.exists() and m.exists() and c.exists() and e.exists()):\n",
    "            print(f\"skip run {r} for {sub}: missing files\"); continue\n",
    "        bolds.append(str(b)); masks.append(str(m)) ; events.append(pd.read_csv(e, sep=\"\\t\")); confs.append(str(c))\n",
    "    conf_list = load_confounds_list(confs)\n",
    "    mask_img = resampled_mask  # Use the resampled anat mask for all runs\n",
    "    glm = FirstLevelModel(\n",
    "        t_r=tr, hrf_model=\"spm\", drift_model=\"cosine\", high_pass=0.008,\n",
    "        noise_model=\"ar1\", smoothing_fwhm=smoothing, standardize=False,\n",
    "        mask_img=mask_img, minimize_memory=False\n",
    "    ).fit(run_imgs=bolds, events=events, confounds=conf_list)\n",
    "    return glm"
   ]
  },
  {
   "cell_type": "code",
   "execution_count": 21,
   "id": "fc75f303",
   "metadata": {},
   "outputs": [
    {
     "name": "stdout",
     "output_type": "stream",
     "text": [
      "Processing SAXSISO01b\n"
     ]
    },
    {
     "name": "stderr",
     "output_type": "stream",
     "text": [
      "/tmp/ipykernel_2683711/3965044741.py:13: UserWarning: [NiftiMasker.fit] Generation of a mask has been requested (imgs != None) while a mask was given at masker creation. Given mask will be used.\n",
      "  glm = FirstLevelModel(\n",
      "/tmp/ipykernel_2683711/3965044741.py:13: UserWarning: The following unexpected columns in events data will be ignored: weight\n",
      "  glm = FirstLevelModel(\n",
      "/tmp/ipykernel_2683711/3965044741.py:13: UserWarning: The following unexpected columns in events data will be ignored: weight\n",
      "  glm = FirstLevelModel(\n",
      "/tmp/ipykernel_2683711/3965044741.py:13: UserWarning: The following unexpected columns in events data will be ignored: weight\n",
      "  glm = FirstLevelModel(\n",
      "/tmp/ipykernel_2683711/3965044741.py:13: UserWarning: The following unexpected columns in events data will be ignored: weight\n",
      "  glm = FirstLevelModel(\n",
      "/tmp/ipykernel_2683711/3965044741.py:13: UserWarning: The following unexpected columns in events data will be ignored: weight\n",
      "  glm = FirstLevelModel(\n",
      "/tmp/ipykernel_2683711/3965044741.py:13: UserWarning: The following unexpected columns in events data will be ignored: weight\n",
      "  glm = FirstLevelModel(\n"
     ]
    }
   ],
   "source": [
    "for sub_sess in all_sub_dirs:\n",
    "    print(f\"Processing {sub_sess}\")\n",
    "    glm = fit_subject_condition(sub_sess) # all 6 runs\n",
    "    break"
   ]
  },
  {
   "cell_type": "code",
   "execution_count": 22,
   "id": "4b076995",
   "metadata": {},
   "outputs": [
    {
     "name": "stdout",
     "output_type": "stream",
     "text": [
      "Processing contrast food_gt_control with vector [-0.3333 -0.3333 -0.3333  0.3333  0.3333  0.3333  0.      0.      0.\n",
      "  0.      0.      0.      0.      0.      0.      0.      0.      0.\n",
      "  0.      0.      0.      0.    ]\n"
     ]
    },
    {
     "name": "stderr",
     "output_type": "stream",
     "text": [
      "/tmp/ipykernel_2683711/3807048195.py:3: UserWarning: One contrast given, assuming it for all 6 runs\n",
      "  eff = glm.compute_contrast(vec, output_type=\"all\")\n"
     ]
    },
    {
     "name": "stdout",
     "output_type": "stream",
     "text": [
      "Processing contrast food_gt_rest with vector [0.     0.     0.     0.3333 0.3333 0.3333 0.     0.     0.     0.\n",
      " 0.     0.     0.     0.     0.     0.     0.     0.     0.     0.\n",
      " 0.     0.    ]\n",
      "Processing contrast social_gt_control with vector [-0.3333 -0.3333 -0.3333  0.      0.      0.      0.      0.3333  0.3333\n",
      "  0.3333  0.      0.      0.      0.      0.      0.      0.      0.\n",
      "  0.      0.      0.      0.    ]\n",
      "Processing contrast social_gt_rest with vector [0.     0.     0.     0.     0.     0.     0.     0.3333 0.3333 0.3333\n",
      " 0.     0.     0.     0.     0.     0.     0.     0.     0.     0.\n",
      " 0.     0.    ]\n",
      "Processing contrast control_gt_food with vector [ 0.3333  0.3333  0.3333 -0.3333 -0.3333 -0.3333  0.      0.      0.\n",
      "  0.      0.      0.      0.      0.      0.      0.      0.      0.\n",
      "  0.      0.      0.      0.    ]\n",
      "Processing contrast control_gt_rest with vector [0.3333 0.3333 0.3333 0.     0.     0.     0.     0.     0.     0.\n",
      " 0.     0.     0.     0.     0.     0.     0.     0.     0.     0.\n",
      " 0.     0.    ]\n",
      "Processing contrast control_gt_social with vector [ 0.3333  0.3333  0.3333  0.      0.      0.      0.     -0.3333 -0.3333\n",
      " -0.3333  0.      0.      0.      0.      0.      0.      0.      0.\n",
      "  0.      0.      0.      0.    ]\n",
      "Processing contrast food_gt_social with vector [ 0.      0.      0.      0.3333  0.3333  0.3333  0.     -0.3333 -0.3333\n",
      " -0.3333  0.      0.      0.      0.      0.      0.      0.      0.\n",
      "  0.      0.      0.      0.    ]\n",
      "Processing contrast social_gt_food with vector [ 0.      0.      0.     -0.3333 -0.3333 -0.3333  0.      0.3333  0.3333\n",
      "  0.3333  0.      0.      0.      0.      0.      0.      0.      0.\n",
      "  0.      0.      0.      0.    ]\n",
      "Processing contrast rating_gt_rest with vector [0. 0. 0. 0. 0. 0. 1. 0. 0. 0. 0. 0. 0. 0. 0. 0. 0. 0. 0. 0. 0. 0.]\n",
      "Processing contrast food1_gt_rest with vector [0. 0. 0. 1. 0. 0. 0. 0. 0. 0. 0. 0. 0. 0. 0. 0. 0. 0. 0. 0. 0. 0.]\n",
      "Processing contrast food2_gt_rest with vector [0. 0. 0. 0. 1. 0. 0. 0. 0. 0. 0. 0. 0. 0. 0. 0. 0. 0. 0. 0. 0. 0.]\n",
      "Processing contrast food3_gt_rest with vector [0. 0. 0. 0. 0. 1. 0. 0. 0. 0. 0. 0. 0. 0. 0. 0. 0. 0. 0. 0. 0. 0.]\n",
      "Processing contrast social1_gt_rest with vector [0. 0. 0. 0. 0. 0. 0. 1. 0. 0. 0. 0. 0. 0. 0. 0. 0. 0. 0. 0. 0. 0.]\n",
      "Processing contrast social2_gt_rest with vector [0. 0. 0. 0. 0. 0. 0. 0. 1. 0. 0. 0. 0. 0. 0. 0. 0. 0. 0. 0. 0. 0.]\n",
      "Processing contrast social3_gt_rest with vector [0. 0. 0. 0. 0. 0. 0. 0. 0. 1. 0. 0. 0. 0. 0. 0. 0. 0. 0. 0. 0. 0.]\n",
      "Processing contrast control1_gt_rest with vector [1. 0. 0. 0. 0. 0. 0. 0. 0. 0. 0. 0. 0. 0. 0. 0. 0. 0. 0. 0. 0. 0.]\n",
      "Processing contrast control2_gt_rest with vector [0. 1. 0. 0. 0. 0. 0. 0. 0. 0. 0. 0. 0. 0. 0. 0. 0. 0. 0. 0. 0. 0.]\n",
      "Processing contrast control3_gt_rest with vector [0. 0. 1. 0. 0. 0. 0. 0. 0. 0. 0. 0. 0. 0. 0. 0. 0. 0. 0. 0. 0. 0.]\n"
     ]
    }
   ],
   "source": [
    "for name, vec in contrasts.items():\n",
    "    print(f\"Processing contrast {name} with vector {vec}\")\n",
    "    eff = glm.compute_contrast(vec, output_type=\"all\")"
   ]
  },
  {
   "cell_type": "code",
   "execution_count": 23,
   "id": "83ca8f6b",
   "metadata": {},
   "outputs": [
    {
     "data": {
      "text/plain": [
       "{'z_score': <nibabel.nifti1.Nifti1Image at 0x7f5258e5dd30>,\n",
       " 'stat': <nibabel.nifti1.Nifti1Image at 0x7f5258e5dbe0>,\n",
       " 'p_value': <nibabel.nifti1.Nifti1Image at 0x7f51a7667640>,\n",
       " 'effect_size': <nibabel.nifti1.Nifti1Image at 0x7f5258e5dd00>,\n",
       " 'effect_variance': <nibabel.nifti1.Nifti1Image at 0x7f5258e5da60>}"
      ]
     },
     "execution_count": 23,
     "metadata": {},
     "output_type": "execute_result"
    }
   ],
   "source": [
    "eff"
   ]
  },
  {
   "cell_type": "code",
   "execution_count": 24,
   "id": "da86b6e6",
   "metadata": {},
   "outputs": [
    {
     "name": "stdout",
     "output_type": "stream",
     "text": [
      "FDR-corrected threshold: 3.0178152890035106\n"
     ]
    }
   ],
   "source": [
    "thresholded_map, threshold = threshold_stats_img(\n",
    "    eff['z_score'], alpha=0.05, height_control='fdr'\n",
    ")\n",
    "print(f\"FDR-corrected threshold: {threshold}\")"
   ]
  },
  {
   "cell_type": "code",
   "execution_count": 25,
   "id": "3d83cc1b",
   "metadata": {},
   "outputs": [
    {
     "data": {
      "text/plain": [
       "<nilearn.plotting.displays._slicers.OrthoSlicer at 0x7f51b4606850>"
      ]
     },
     "execution_count": 25,
     "metadata": {},
     "output_type": "execute_result"
    },
    {
     "data": {
      "image/png": "[encoded data removed]",
      "text/plain": [
       "<Figure size 730x350 with 5 Axes>"
      ]
     },
     "metadata": {},
     "output_type": "display_data"
    }
   ],
   "source": [
    "plot_stat_map(eff['z_score'], title=name, threshold=3.1)\n",
    "\n",
    "# Positive values → food > control.\n",
    "# Negative values → control > food.\n",
    "\n",
    "# There are positive clusters (red/yellow) in ventral visual stream and possibly orbitofrontal cortex \n",
    "# (areas often associated with reward and food processing).\n",
    "# There are negative clusters (blue) in other regions — meaning control images evoked stronger responses there."
   ]
  },
  {
   "cell_type": "code",
   "execution_count": 26,
   "id": "632a2a08",
   "metadata": {},
   "outputs": [
    {
     "data": {
      "text/plain": [
       "<nilearn.plotting.displays._slicers.OrthoSlicer at 0x7f51a74c3e50>"
      ]
     },
     "execution_count": 26,
     "metadata": {},
     "output_type": "execute_result"
    },
    {
     "data": {
      "image/png": "[encoded data removed]",
      "text/plain": [
       "<Figure size 730x350 with 5 Axes>"
      ]
     },
     "metadata": {},
     "output_type": "display_data"
    }
   ],
   "source": [
    "plotting.plot_stat_map(eff['effect_size'], title='Effect size',\n",
    "                       vmax=0.5, vmin=-0.5, cmap='cold_hot')\n"
   ]
  },
  {
   "cell_type": "code",
   "execution_count": 27,
   "id": "805312bd",
   "metadata": {},
   "outputs": [
    {
     "name": "stderr",
     "output_type": "stream",
     "text": [
      "/tmp/ipykernel_2683711/3570569719.py:1: UserWarning: One contrast given, assuming it for all 6 runs\n",
      "  report = glm.generate_report(\n"
     ]
    }
   ],
   "source": [
    "report = glm.generate_report(\n",
    "    contrasts=contrasts,  # your contrast vector or its name if using design matrix labels\n",
    ")\n",
    "report.save_as_html('anat_mask_glm_report_food_gt_control.html')"
   ]
  },
  {
   "cell_type": "markdown",
   "id": "6e8ec3eb",
   "metadata": {},
   "source": [
    "## Run all participants"
   ]
  },
  {
   "cell_type": "code",
   "execution_count": 13,
   "id": "022d6aa3",
   "metadata": {},
   "outputs": [],
   "source": [
    "def save_subject_condition_contrasts(outdir, glm, contrasts):\n",
    "    for name, vec in contrasts.items():\n",
    "        eff = glm.compute_contrast(vec, output_type=\"all\") \n",
    "        eff['effect_size'].to_filename(outdir / f\"{name}_effsize.nii.gz\")\n",
    "        eff['effect_variance'].to_filename(outdir / f\"{name}_effvar.nii.gz\")\n",
    "        eff['z_score'].to_filename(outdir / f\"{name}_zmap.nii.gz\")\n",
    "    # Save the report\n",
    "    report = glm.generate_report(contrasts=contrasts)\n",
    "    report.save_as_html(outdir / 'report.html')"
   ]
  },
  {
   "cell_type": "code",
   "execution_count": null,
   "id": "490f27b9",
   "metadata": {},
   "outputs": [
    {
     "name": "stdout",
     "output_type": "stream",
     "text": [
      "Processing SAXSISO32b\n"
     ]
    },
    {
     "name": "stderr",
     "output_type": "stream",
     "text": [
      "/tmp/ipykernel_2254952/1186814393.py:20: UserWarning: [NiftiMasker.fit] Generation of a mask has been requested (imgs != None) while a mask was given at masker creation. Given mask will be used.\n",
      "  glm = FirstLevelModel(\n",
      "/tmp/ipykernel_2254952/1186814393.py:20: UserWarning: The following unexpected columns in events data will be ignored: weight\n",
      "  glm = FirstLevelModel(\n",
      "/tmp/ipykernel_2254952/1186814393.py:20: UserWarning: The following unexpected columns in events data will be ignored: weight\n",
      "  glm = FirstLevelModel(\n",
      "/tmp/ipykernel_2254952/1186814393.py:20: UserWarning: The following unexpected columns in events data will be ignored: weight\n",
      "  glm = FirstLevelModel(\n",
      "/tmp/ipykernel_2254952/1186814393.py:20: UserWarning: The following unexpected columns in events data will be ignored: weight\n",
      "  glm = FirstLevelModel(\n",
      "/tmp/ipykernel_2254952/1186814393.py:20: UserWarning: The following unexpected columns in events data will be ignored: weight\n",
      "  glm = FirstLevelModel(\n",
      "/tmp/ipykernel_2254952/1186814393.py:20: UserWarning: The following unexpected columns in events data will be ignored: weight\n",
      "  glm = FirstLevelModel(\n",
      "/tmp/ipykernel_2254952/3473077663.py:3: UserWarning: One contrast given, assuming it for all 6 runs\n",
      "  eff = glm.compute_contrast(vec, output_type=\"all\")\n",
      "/tmp/ipykernel_2254952/3473077663.py:8: UserWarning: One contrast given, assuming it for all 6 runs\n",
      "  report = glm.generate_report(contrasts=contrasts)\n"
     ]
    },
    {
     "name": "stdout",
     "output_type": "stream",
     "text": [
      "Processing SAXSISO32f\n"
     ]
    },
    {
     "name": "stderr",
     "output_type": "stream",
     "text": [
      "/tmp/ipykernel_2254952/1186814393.py:20: UserWarning: [NiftiMasker.fit] Generation of a mask has been requested (imgs != None) while a mask was given at masker creation. Given mask will be used.\n",
      "  glm = FirstLevelModel(\n",
      "/tmp/ipykernel_2254952/1186814393.py:20: UserWarning: The following unexpected columns in events data will be ignored: weight\n",
      "  glm = FirstLevelModel(\n",
      "/tmp/ipykernel_2254952/1186814393.py:20: UserWarning: The following unexpected columns in events data will be ignored: weight\n",
      "  glm = FirstLevelModel(\n",
      "/tmp/ipykernel_2254952/1186814393.py:20: UserWarning: The following unexpected columns in events data will be ignored: weight\n",
      "  glm = FirstLevelModel(\n",
      "/tmp/ipykernel_2254952/1186814393.py:20: UserWarning: The following unexpected columns in events data will be ignored: weight\n",
      "  glm = FirstLevelModel(\n",
      "/tmp/ipykernel_2254952/1186814393.py:20: UserWarning: The following unexpected columns in events data will be ignored: weight\n",
      "  glm = FirstLevelModel(\n",
      "/tmp/ipykernel_2254952/1186814393.py:20: UserWarning: The following unexpected columns in events data will be ignored: weight\n",
      "  glm = FirstLevelModel(\n",
      "/tmp/ipykernel_2254952/3473077663.py:3: UserWarning: One contrast given, assuming it for all 6 runs\n",
      "  eff = glm.compute_contrast(vec, output_type=\"all\")\n",
      "/tmp/ipykernel_2254952/3473077663.py:8: UserWarning: One contrast given, assuming it for all 6 runs\n",
      "  report = glm.generate_report(contrasts=contrasts)\n"
     ]
    },
    {
     "name": "stdout",
     "output_type": "stream",
     "text": [
      "Processing SAXSISO32s\n"
     ]
    },
    {
     "name": "stderr",
     "output_type": "stream",
     "text": [
      "/tmp/ipykernel_2254952/1186814393.py:20: UserWarning: [NiftiMasker.fit] Generation of a mask has been requested (imgs != None) while a mask was given at masker creation. Given mask will be used.\n",
      "  glm = FirstLevelModel(\n",
      "/tmp/ipykernel_2254952/1186814393.py:20: UserWarning: The following unexpected columns in events data will be ignored: weight\n",
      "  glm = FirstLevelModel(\n",
      "/tmp/ipykernel_2254952/1186814393.py:20: UserWarning: The following unexpected columns in events data will be ignored: weight\n",
      "  glm = FirstLevelModel(\n",
      "/tmp/ipykernel_2254952/1186814393.py:20: UserWarning: The following unexpected columns in events data will be ignored: weight\n",
      "  glm = FirstLevelModel(\n",
      "/tmp/ipykernel_2254952/1186814393.py:20: UserWarning: The following unexpected columns in events data will be ignored: weight\n",
      "  glm = FirstLevelModel(\n",
      "/tmp/ipykernel_2254952/1186814393.py:20: UserWarning: The following unexpected columns in events data will be ignored: weight\n",
      "  glm = FirstLevelModel(\n",
      "/tmp/ipykernel_2254952/1186814393.py:20: UserWarning: The following unexpected columns in events data will be ignored: weight\n",
      "  glm = FirstLevelModel(\n",
      "/tmp/ipykernel_2254952/3473077663.py:3: UserWarning: One contrast given, assuming it for all 6 runs\n",
      "  eff = glm.compute_contrast(vec, output_type=\"all\")\n",
      "/tmp/ipykernel_2254952/3473077663.py:8: UserWarning: One contrast given, assuming it for all 6 runs\n",
      "  report = glm.generate_report(contrasts=contrasts)\n"
     ]
    },
    {
     "name": "stdout",
     "output_type": "stream",
     "text": [
      "Processing SAXSISO33b\n"
     ]
    },
    {
     "name": "stderr",
     "output_type": "stream",
     "text": [
      "/tmp/ipykernel_2254952/1186814393.py:20: UserWarning: [NiftiMasker.fit] Generation of a mask has been requested (imgs != None) while a mask was given at masker creation. Given mask will be used.\n",
      "  glm = FirstLevelModel(\n",
      "/tmp/ipykernel_2254952/1186814393.py:20: UserWarning: The following unexpected columns in events data will be ignored: weight\n",
      "  glm = FirstLevelModel(\n",
      "/tmp/ipykernel_2254952/1186814393.py:20: UserWarning: The following unexpected columns in events data will be ignored: weight\n",
      "  glm = FirstLevelModel(\n",
      "/tmp/ipykernel_2254952/1186814393.py:20: UserWarning: The following unexpected columns in events data will be ignored: weight\n",
      "  glm = FirstLevelModel(\n",
      "/tmp/ipykernel_2254952/1186814393.py:20: UserWarning: The following unexpected columns in events data will be ignored: weight\n",
      "  glm = FirstLevelModel(\n",
      "/tmp/ipykernel_2254952/1186814393.py:20: UserWarning: The following unexpected columns in events data will be ignored: weight\n",
      "  glm = FirstLevelModel(\n",
      "/tmp/ipykernel_2254952/1186814393.py:20: UserWarning: The following unexpected columns in events data will be ignored: weight\n",
      "  glm = FirstLevelModel(\n",
      "/tmp/ipykernel_2254952/3473077663.py:3: UserWarning: One contrast given, assuming it for all 6 runs\n",
      "  eff = glm.compute_contrast(vec, output_type=\"all\")\n",
      "/tmp/ipykernel_2254952/3473077663.py:8: UserWarning: One contrast given, assuming it for all 6 runs\n",
      "  report = glm.generate_report(contrasts=contrasts)\n"
     ]
    },
    {
     "name": "stdout",
     "output_type": "stream",
     "text": [
      "Processing SAXSISO33f\n"
     ]
    },
    {
     "name": "stderr",
     "output_type": "stream",
     "text": [
      "/tmp/ipykernel_2254952/1186814393.py:20: UserWarning: [NiftiMasker.fit] Generation of a mask has been requested (imgs != None) while a mask was given at masker creation. Given mask will be used.\n",
      "  glm = FirstLevelModel(\n",
      "/tmp/ipykernel_2254952/1186814393.py:20: UserWarning: The following unexpected columns in events data will be ignored: weight\n",
      "  glm = FirstLevelModel(\n",
      "/tmp/ipykernel_2254952/1186814393.py:20: UserWarning: The following unexpected columns in events data will be ignored: weight\n",
      "  glm = FirstLevelModel(\n",
      "/tmp/ipykernel_2254952/1186814393.py:20: UserWarning: The following unexpected columns in events data will be ignored: weight\n",
      "  glm = FirstLevelModel(\n",
      "/tmp/ipykernel_2254952/1186814393.py:20: UserWarning: The following unexpected columns in events data will be ignored: weight\n",
      "  glm = FirstLevelModel(\n",
      "/tmp/ipykernel_2254952/1186814393.py:20: UserWarning: The following unexpected columns in events data will be ignored: weight\n",
      "  glm = FirstLevelModel(\n",
      "/tmp/ipykernel_2254952/1186814393.py:20: UserWarning: The following unexpected columns in events data will be ignored: weight\n",
      "  glm = FirstLevelModel(\n",
      "/tmp/ipykernel_2254952/3473077663.py:3: UserWarning: One contrast given, assuming it for all 6 runs\n",
      "  eff = glm.compute_contrast(vec, output_type=\"all\")\n",
      "/tmp/ipykernel_2254952/3473077663.py:8: UserWarning: One contrast given, assuming it for all 6 runs\n",
      "  report = glm.generate_report(contrasts=contrasts)\n"
     ]
    },
    {
     "name": "stdout",
     "output_type": "stream",
     "text": [
      "Processing SAXSISO33s\n"
     ]
    },
    {
     "name": "stderr",
     "output_type": "stream",
     "text": [
      "/tmp/ipykernel_2254952/1186814393.py:20: UserWarning: [NiftiMasker.fit] Generation of a mask has been requested (imgs != None) while a mask was given at masker creation. Given mask will be used.\n",
      "  glm = FirstLevelModel(\n",
      "/tmp/ipykernel_2254952/1186814393.py:20: UserWarning: The following unexpected columns in events data will be ignored: weight\n",
      "  glm = FirstLevelModel(\n",
      "/tmp/ipykernel_2254952/1186814393.py:20: UserWarning: The following unexpected columns in events data will be ignored: weight\n",
      "  glm = FirstLevelModel(\n",
      "/tmp/ipykernel_2254952/1186814393.py:20: UserWarning: The following unexpected columns in events data will be ignored: weight\n",
      "  glm = FirstLevelModel(\n",
      "/tmp/ipykernel_2254952/1186814393.py:20: UserWarning: The following unexpected columns in events data will be ignored: weight\n",
      "  glm = FirstLevelModel(\n",
      "/tmp/ipykernel_2254952/1186814393.py:20: UserWarning: The following unexpected columns in events data will be ignored: weight\n",
      "  glm = FirstLevelModel(\n",
      "/tmp/ipykernel_2254952/1186814393.py:20: UserWarning: The following unexpected columns in events data will be ignored: weight\n",
      "  glm = FirstLevelModel(\n",
      "/tmp/ipykernel_2254952/3473077663.py:3: UserWarning: One contrast given, assuming it for all 6 runs\n",
      "  eff = glm.compute_contrast(vec, output_type=\"all\")\n",
      "/tmp/ipykernel_2254952/3473077663.py:8: UserWarning: One contrast given, assuming it for all 6 runs\n",
      "  report = glm.generate_report(contrasts=contrasts)\n"
     ]
    },
    {
     "name": "stdout",
     "output_type": "stream",
     "text": [
      "Processing SAXSISO34b\n"
     ]
    },
    {
     "name": "stderr",
     "output_type": "stream",
     "text": [
      "/tmp/ipykernel_2254952/1186814393.py:20: UserWarning: [NiftiMasker.fit] Generation of a mask has been requested (imgs != None) while a mask was given at masker creation. Given mask will be used.\n",
      "  glm = FirstLevelModel(\n",
      "/tmp/ipykernel_2254952/1186814393.py:20: UserWarning: The following unexpected columns in events data will be ignored: weight\n",
      "  glm = FirstLevelModel(\n",
      "/tmp/ipykernel_2254952/1186814393.py:20: UserWarning: The following unexpected columns in events data will be ignored: weight\n",
      "  glm = FirstLevelModel(\n",
      "/tmp/ipykernel_2254952/1186814393.py:20: UserWarning: The following unexpected columns in events data will be ignored: weight\n",
      "  glm = FirstLevelModel(\n",
      "/tmp/ipykernel_2254952/1186814393.py:20: UserWarning: The following unexpected columns in events data will be ignored: weight\n",
      "  glm = FirstLevelModel(\n",
      "/tmp/ipykernel_2254952/1186814393.py:20: UserWarning: The following unexpected columns in events data will be ignored: weight\n",
      "  glm = FirstLevelModel(\n",
      "/tmp/ipykernel_2254952/1186814393.py:20: UserWarning: The following unexpected columns in events data will be ignored: weight\n",
      "  glm = FirstLevelModel(\n",
      "/tmp/ipykernel_2254952/3473077663.py:3: UserWarning: One contrast given, assuming it for all 6 runs\n",
      "  eff = glm.compute_contrast(vec, output_type=\"all\")\n",
      "/tmp/ipykernel_2254952/3473077663.py:8: UserWarning: One contrast given, assuming it for all 6 runs\n",
      "  report = glm.generate_report(contrasts=contrasts)\n"
     ]
    },
    {
     "name": "stdout",
     "output_type": "stream",
     "text": [
      "Processing SAXSISO34f\n"
     ]
    },
    {
     "name": "stderr",
     "output_type": "stream",
     "text": [
      "/tmp/ipykernel_2254952/1186814393.py:20: UserWarning: [NiftiMasker.fit] Generation of a mask has been requested (imgs != None) while a mask was given at masker creation. Given mask will be used.\n",
      "  glm = FirstLevelModel(\n",
      "/tmp/ipykernel_2254952/1186814393.py:20: UserWarning: The following unexpected columns in events data will be ignored: weight\n",
      "  glm = FirstLevelModel(\n",
      "/tmp/ipykernel_2254952/1186814393.py:20: UserWarning: The following unexpected columns in events data will be ignored: weight\n",
      "  glm = FirstLevelModel(\n",
      "/tmp/ipykernel_2254952/1186814393.py:20: UserWarning: The following unexpected columns in events data will be ignored: weight\n",
      "  glm = FirstLevelModel(\n",
      "/tmp/ipykernel_2254952/1186814393.py:20: UserWarning: The following unexpected columns in events data will be ignored: weight\n",
      "  glm = FirstLevelModel(\n",
      "/tmp/ipykernel_2254952/1186814393.py:20: UserWarning: The following unexpected columns in events data will be ignored: weight\n",
      "  glm = FirstLevelModel(\n",
      "/tmp/ipykernel_2254952/1186814393.py:20: UserWarning: The following unexpected columns in events data will be ignored: weight\n",
      "  glm = FirstLevelModel(\n",
      "/tmp/ipykernel_2254952/3473077663.py:3: UserWarning: One contrast given, assuming it for all 6 runs\n",
      "  eff = glm.compute_contrast(vec, output_type=\"all\")\n",
      "/tmp/ipykernel_2254952/3473077663.py:8: UserWarning: One contrast given, assuming it for all 6 runs\n",
      "  report = glm.generate_report(contrasts=contrasts)\n"
     ]
    },
    {
     "name": "stdout",
     "output_type": "stream",
     "text": [
      "Processing SAXSISO34s\n"
     ]
    },
    {
     "name": "stderr",
     "output_type": "stream",
     "text": [
      "/tmp/ipykernel_2254952/1186814393.py:20: UserWarning: [NiftiMasker.fit] Generation of a mask has been requested (imgs != None) while a mask was given at masker creation. Given mask will be used.\n",
      "  glm = FirstLevelModel(\n",
      "/tmp/ipykernel_2254952/1186814393.py:20: UserWarning: The following unexpected columns in events data will be ignored: weight\n",
      "  glm = FirstLevelModel(\n",
      "/tmp/ipykernel_2254952/1186814393.py:20: UserWarning: The following unexpected columns in events data will be ignored: weight\n",
      "  glm = FirstLevelModel(\n",
      "/tmp/ipykernel_2254952/1186814393.py:20: UserWarning: The following unexpected columns in events data will be ignored: weight\n",
      "  glm = FirstLevelModel(\n",
      "/tmp/ipykernel_2254952/1186814393.py:20: UserWarning: The following unexpected columns in events data will be ignored: weight\n",
      "  glm = FirstLevelModel(\n",
      "/tmp/ipykernel_2254952/1186814393.py:20: UserWarning: The following unexpected columns in events data will be ignored: weight\n",
      "  glm = FirstLevelModel(\n",
      "/tmp/ipykernel_2254952/1186814393.py:20: UserWarning: The following unexpected columns in events data will be ignored: weight\n",
      "  glm = FirstLevelModel(\n",
      "/tmp/ipykernel_2254952/3473077663.py:3: UserWarning: One contrast given, assuming it for all 6 runs\n",
      "  eff = glm.compute_contrast(vec, output_type=\"all\")\n",
      "/tmp/ipykernel_2254952/3473077663.py:8: UserWarning: One contrast given, assuming it for all 6 runs\n",
      "  report = glm.generate_report(contrasts=contrasts)\n"
     ]
    },
    {
     "name": "stdout",
     "output_type": "stream",
     "text": [
      "Processing SAXSISO35b\n"
     ]
    },
    {
     "name": "stderr",
     "output_type": "stream",
     "text": [
      "/tmp/ipykernel_2254952/1186814393.py:20: UserWarning: [NiftiMasker.fit] Generation of a mask has been requested (imgs != None) while a mask was given at masker creation. Given mask will be used.\n",
      "  glm = FirstLevelModel(\n",
      "/tmp/ipykernel_2254952/1186814393.py:20: UserWarning: The following unexpected columns in events data will be ignored: weight\n",
      "  glm = FirstLevelModel(\n",
      "/tmp/ipykernel_2254952/1186814393.py:20: UserWarning: The following unexpected columns in events data will be ignored: weight\n",
      "  glm = FirstLevelModel(\n",
      "/tmp/ipykernel_2254952/1186814393.py:20: UserWarning: The following unexpected columns in events data will be ignored: weight\n",
      "  glm = FirstLevelModel(\n",
      "/tmp/ipykernel_2254952/1186814393.py:20: UserWarning: The following unexpected columns in events data will be ignored: weight\n",
      "  glm = FirstLevelModel(\n",
      "/tmp/ipykernel_2254952/1186814393.py:20: UserWarning: The following unexpected columns in events data will be ignored: weight\n",
      "  glm = FirstLevelModel(\n",
      "/tmp/ipykernel_2254952/1186814393.py:20: UserWarning: The following unexpected columns in events data will be ignored: weight\n",
      "  glm = FirstLevelModel(\n",
      "/tmp/ipykernel_2254952/3473077663.py:3: UserWarning: One contrast given, assuming it for all 6 runs\n",
      "  eff = glm.compute_contrast(vec, output_type=\"all\")\n",
      "/tmp/ipykernel_2254952/3473077663.py:8: UserWarning: One contrast given, assuming it for all 6 runs\n",
      "  report = glm.generate_report(contrasts=contrasts)\n"
     ]
    },
    {
     "name": "stdout",
     "output_type": "stream",
     "text": [
      "Processing SAXSISO35f\n"
     ]
    },
    {
     "name": "stderr",
     "output_type": "stream",
     "text": [
      "/tmp/ipykernel_2254952/1186814393.py:20: UserWarning: [NiftiMasker.fit] Generation of a mask has been requested (imgs != None) while a mask was given at masker creation. Given mask will be used.\n",
      "  glm = FirstLevelModel(\n",
      "/tmp/ipykernel_2254952/1186814393.py:20: UserWarning: The following unexpected columns in events data will be ignored: weight\n",
      "  glm = FirstLevelModel(\n",
      "/tmp/ipykernel_2254952/1186814393.py:20: UserWarning: The following unexpected columns in events data will be ignored: weight\n",
      "  glm = FirstLevelModel(\n",
      "/tmp/ipykernel_2254952/1186814393.py:20: UserWarning: The following unexpected columns in events data will be ignored: weight\n",
      "  glm = FirstLevelModel(\n",
      "/tmp/ipykernel_2254952/1186814393.py:20: UserWarning: The following unexpected columns in events data will be ignored: weight\n",
      "  glm = FirstLevelModel(\n",
      "/tmp/ipykernel_2254952/1186814393.py:20: UserWarning: The following unexpected columns in events data will be ignored: weight\n",
      "  glm = FirstLevelModel(\n",
      "/tmp/ipykernel_2254952/1186814393.py:20: UserWarning: The following unexpected columns in events data will be ignored: weight\n",
      "  glm = FirstLevelModel(\n",
      "/tmp/ipykernel_2254952/3473077663.py:3: UserWarning: One contrast given, assuming it for all 6 runs\n",
      "  eff = glm.compute_contrast(vec, output_type=\"all\")\n",
      "/tmp/ipykernel_2254952/3473077663.py:8: UserWarning: One contrast given, assuming it for all 6 runs\n",
      "  report = glm.generate_report(contrasts=contrasts)\n"
     ]
    },
    {
     "name": "stdout",
     "output_type": "stream",
     "text": [
      "Processing SAXSISO35s\n"
     ]
    },
    {
     "name": "stderr",
     "output_type": "stream",
     "text": [
      "/tmp/ipykernel_2254952/1186814393.py:20: UserWarning: [NiftiMasker.fit] Generation of a mask has been requested (imgs != None) while a mask was given at masker creation. Given mask will be used.\n",
      "  glm = FirstLevelModel(\n",
      "/tmp/ipykernel_2254952/1186814393.py:20: UserWarning: The following unexpected columns in events data will be ignored: weight\n",
      "  glm = FirstLevelModel(\n",
      "/tmp/ipykernel_2254952/1186814393.py:20: UserWarning: The following unexpected columns in events data will be ignored: weight\n",
      "  glm = FirstLevelModel(\n",
      "/tmp/ipykernel_2254952/1186814393.py:20: UserWarning: The following unexpected columns in events data will be ignored: weight\n",
      "  glm = FirstLevelModel(\n",
      "/tmp/ipykernel_2254952/1186814393.py:20: UserWarning: The following unexpected columns in events data will be ignored: weight\n",
      "  glm = FirstLevelModel(\n",
      "/tmp/ipykernel_2254952/1186814393.py:20: UserWarning: The following unexpected columns in events data will be ignored: weight\n",
      "  glm = FirstLevelModel(\n",
      "/tmp/ipykernel_2254952/1186814393.py:20: UserWarning: The following unexpected columns in events data will be ignored: weight\n",
      "  glm = FirstLevelModel(\n",
      "/tmp/ipykernel_2254952/3473077663.py:3: UserWarning: One contrast given, assuming it for all 6 runs\n",
      "  eff = glm.compute_contrast(vec, output_type=\"all\")\n",
      "/tmp/ipykernel_2254952/3473077663.py:8: UserWarning: One contrast given, assuming it for all 6 runs\n",
      "  report = glm.generate_report(contrasts=contrasts)\n"
     ]
    },
    {
     "name": "stdout",
     "output_type": "stream",
     "text": [
      "Processing SAXSISO36b\n"
     ]
    },
    {
     "name": "stderr",
     "output_type": "stream",
     "text": [
      "/tmp/ipykernel_2254952/1186814393.py:20: UserWarning: [NiftiMasker.fit] Generation of a mask has been requested (imgs != None) while a mask was given at masker creation. Given mask will be used.\n",
      "  glm = FirstLevelModel(\n",
      "/tmp/ipykernel_2254952/1186814393.py:20: UserWarning: The following unexpected columns in events data will be ignored: weight\n",
      "  glm = FirstLevelModel(\n",
      "/tmp/ipykernel_2254952/1186814393.py:20: UserWarning: The following unexpected columns in events data will be ignored: weight\n",
      "  glm = FirstLevelModel(\n",
      "/tmp/ipykernel_2254952/1186814393.py:20: UserWarning: The following unexpected columns in events data will be ignored: weight\n",
      "  glm = FirstLevelModel(\n",
      "/tmp/ipykernel_2254952/1186814393.py:20: UserWarning: The following unexpected columns in events data will be ignored: weight\n",
      "  glm = FirstLevelModel(\n",
      "/tmp/ipykernel_2254952/1186814393.py:20: UserWarning: The following unexpected columns in events data will be ignored: weight\n",
      "  glm = FirstLevelModel(\n",
      "/tmp/ipykernel_2254952/1186814393.py:20: UserWarning: The following unexpected columns in events data will be ignored: weight\n",
      "  glm = FirstLevelModel(\n",
      "/tmp/ipykernel_2254952/3473077663.py:3: UserWarning: One contrast given, assuming it for all 6 runs\n",
      "  eff = glm.compute_contrast(vec, output_type=\"all\")\n",
      "/tmp/ipykernel_2254952/3473077663.py:8: UserWarning: One contrast given, assuming it for all 6 runs\n",
      "  report = glm.generate_report(contrasts=contrasts)\n"
     ]
    },
    {
     "name": "stdout",
     "output_type": "stream",
     "text": [
      "Processing SAXSISO36f\n"
     ]
    },
    {
     "name": "stderr",
     "output_type": "stream",
     "text": [
      "/tmp/ipykernel_2254952/1186814393.py:20: UserWarning: [NiftiMasker.fit] Generation of a mask has been requested (imgs != None) while a mask was given at masker creation. Given mask will be used.\n",
      "  glm = FirstLevelModel(\n",
      "/tmp/ipykernel_2254952/1186814393.py:20: UserWarning: The following unexpected columns in events data will be ignored: weight\n",
      "  glm = FirstLevelModel(\n",
      "/tmp/ipykernel_2254952/1186814393.py:20: UserWarning: The following unexpected columns in events data will be ignored: weight\n",
      "  glm = FirstLevelModel(\n",
      "/tmp/ipykernel_2254952/1186814393.py:20: UserWarning: The following unexpected columns in events data will be ignored: weight\n",
      "  glm = FirstLevelModel(\n",
      "/tmp/ipykernel_2254952/1186814393.py:20: UserWarning: The following unexpected columns in events data will be ignored: weight\n",
      "  glm = FirstLevelModel(\n",
      "/tmp/ipykernel_2254952/1186814393.py:20: UserWarning: The following unexpected columns in events data will be ignored: weight\n",
      "  glm = FirstLevelModel(\n",
      "/tmp/ipykernel_2254952/1186814393.py:20: UserWarning: The following unexpected columns in events data will be ignored: weight\n",
      "  glm = FirstLevelModel(\n",
      "/tmp/ipykernel_2254952/3473077663.py:3: UserWarning: One contrast given, assuming it for all 6 runs\n",
      "  eff = glm.compute_contrast(vec, output_type=\"all\")\n",
      "/tmp/ipykernel_2254952/3473077663.py:8: UserWarning: One contrast given, assuming it for all 6 runs\n",
      "  report = glm.generate_report(contrasts=contrasts)\n"
     ]
    },
    {
     "name": "stdout",
     "output_type": "stream",
     "text": [
      "Processing SAXSISO36s\n"
     ]
    },
    {
     "name": "stderr",
     "output_type": "stream",
     "text": [
      "/tmp/ipykernel_2254952/1186814393.py:20: UserWarning: [NiftiMasker.fit] Generation of a mask has been requested (imgs != None) while a mask was given at masker creation. Given mask will be used.\n",
      "  glm = FirstLevelModel(\n",
      "/tmp/ipykernel_2254952/1186814393.py:20: UserWarning: The following unexpected columns in events data will be ignored: weight\n",
      "  glm = FirstLevelModel(\n",
      "/tmp/ipykernel_2254952/1186814393.py:20: UserWarning: The following unexpected columns in events data will be ignored: weight\n",
      "  glm = FirstLevelModel(\n",
      "/tmp/ipykernel_2254952/1186814393.py:20: UserWarning: The following unexpected columns in events data will be ignored: weight\n",
      "  glm = FirstLevelModel(\n",
      "/tmp/ipykernel_2254952/1186814393.py:20: UserWarning: The following unexpected columns in events data will be ignored: weight\n",
      "  glm = FirstLevelModel(\n",
      "/tmp/ipykernel_2254952/1186814393.py:20: UserWarning: The following unexpected columns in events data will be ignored: weight\n",
      "  glm = FirstLevelModel(\n",
      "/tmp/ipykernel_2254952/1186814393.py:20: UserWarning: The following unexpected columns in events data will be ignored: weight\n",
      "  glm = FirstLevelModel(\n",
      "/tmp/ipykernel_2254952/3473077663.py:3: UserWarning: One contrast given, assuming it for all 6 runs\n",
      "  eff = glm.compute_contrast(vec, output_type=\"all\")\n",
      "/tmp/ipykernel_2254952/3473077663.py:8: UserWarning: One contrast given, assuming it for all 6 runs\n",
      "  report = glm.generate_report(contrasts=contrasts)\n"
     ]
    },
    {
     "name": "stdout",
     "output_type": "stream",
     "text": [
      "Processing SAXSISO38b\n"
     ]
    },
    {
     "name": "stderr",
     "output_type": "stream",
     "text": [
      "/tmp/ipykernel_2254952/1186814393.py:20: UserWarning: [NiftiMasker.fit] Generation of a mask has been requested (imgs != None) while a mask was given at masker creation. Given mask will be used.\n",
      "  glm = FirstLevelModel(\n",
      "/tmp/ipykernel_2254952/1186814393.py:20: UserWarning: The following unexpected columns in events data will be ignored: weight\n",
      "  glm = FirstLevelModel(\n",
      "/tmp/ipykernel_2254952/1186814393.py:20: UserWarning: The following unexpected columns in events data will be ignored: weight\n",
      "  glm = FirstLevelModel(\n",
      "/tmp/ipykernel_2254952/1186814393.py:20: UserWarning: The following unexpected columns in events data will be ignored: weight\n",
      "  glm = FirstLevelModel(\n",
      "/tmp/ipykernel_2254952/1186814393.py:20: UserWarning: The following unexpected columns in events data will be ignored: weight\n",
      "  glm = FirstLevelModel(\n",
      "/tmp/ipykernel_2254952/1186814393.py:20: UserWarning: The following unexpected columns in events data will be ignored: weight\n",
      "  glm = FirstLevelModel(\n",
      "/tmp/ipykernel_2254952/1186814393.py:20: UserWarning: The following unexpected columns in events data will be ignored: weight\n",
      "  glm = FirstLevelModel(\n",
      "/tmp/ipykernel_2254952/3473077663.py:3: UserWarning: One contrast given, assuming it for all 6 runs\n",
      "  eff = glm.compute_contrast(vec, output_type=\"all\")\n",
      "/tmp/ipykernel_2254952/3473077663.py:8: UserWarning: One contrast given, assuming it for all 6 runs\n",
      "  report = glm.generate_report(contrasts=contrasts)\n"
     ]
    }
   ],
   "source": [
    "# Let's run the same contrast on all subjects\n",
    "\n",
    "for sub_sess in all_sub_dirs:\n",
    "    outdir = Path(DERIV_OUT)/f\"sub-{sub_sess}\"\n",
    "    if not outdir.exists():\n",
    "        outdir.mkdir()\n",
    "        print(f\"Processing {sub_sess}\")\n",
    "        glm = fit_subject_condition(sub_sess) # all 6 runs\n",
    "        save_subject_condition_contrasts(outdir, glm, contrasts)"
   ]
  },
  {
   "cell_type": "code",
   "execution_count": null,
   "id": "99b0fb6f",
   "metadata": {},
   "outputs": [],
   "source": []
  }
 ],
 "metadata": {
  "kernelspec": {
   "display_name": "py39",
   "language": "python",
   "name": "python3"
  },
  "language_info": {
   "codemirror_mode": {
    "name": "ipython",
    "version": 3
   },
   "file_extension": ".py",
   "mimetype": "text/x-python",
   "name": "python",
   "nbconvert_exporter": "python",
   "pygments_lexer": "ipython3",
   "version": "3.9.23"
  }
 },
 "nbformat": 4,
 "nbformat_minor": 5
}
