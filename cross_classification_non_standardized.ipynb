{
 "cells": [
  {
   "cell_type": "code",
   "execution_count": 1,
   "id": "5d6b774c",
   "metadata": {},
   "outputs": [],
   "source": [
    "import os, re, glob, json\n",
    "from pathlib import Path\n",
    "import numpy as np\n",
    "import pandas as pd\n",
    "import nibabel as nib\n",
    "from nilearn.glm.first_level import FirstLevelModel\n",
    "from nilearn.glm.second_level import SecondLevelModel, non_parametric_inference\n",
    "from nilearn import image\n",
    "import matplotlib.pyplot as plt\n",
    "from nilearn.plotting import plot_design_matrix\n",
    "from nilearn.plotting import plot_stat_map\n",
    "from nilearn.glm import threshold_stats_img\n",
    "from nilearn import plotting\n",
    "from nilearn.image import load_img, resample_to_img\n",
    "from sklearn.model_selection import LeaveOneGroupOut\n",
    "from nilearn.decoding import Decoder\n",
    "from sklearn.metrics import classification_report\n"
   ]
  },
  {
   "cell_type": "code",
   "execution_count": 2,
   "id": "1a03092c",
   "metadata": {},
   "outputs": [],
   "source": [
    "BASE = \"/local/anpa/ds003242-1.0.0\"\n",
    "DERIVATIVES = f\"{BASE}/derivatives/\"\n",
    "DERIVATIVES_FMRIPREP = f\"{DERIVATIVES}/fmriprep/\" \n",
    "FIRST_LEVEL_SEP_RUNS = f\"{DERIVATIVES}/firstlevel_separate_runs/\"  \n",
    "TASK = \"CIC\"\n",
    "TR = 2.0"
   ]
  },
  {
   "cell_type": "code",
   "execution_count": 3,
   "id": "8f170160",
   "metadata": {},
   "outputs": [],
   "source": [
    "def resample_mask_to_bold(anat_mask, bold_img):\n",
    "    \"\"\"Resample anat mask to the space of the bold image.\n",
    "    As in tutorial https://nilearn.github.io/dev/auto_examples/04_glm_first_level/plot_first_level_details.html\n",
    "    \"\"\"\n",
    "    return resample_to_img(\n",
    "        anat_mask,\n",
    "        bold_img,\n",
    "        interpolation=\"nearest\",\n",
    "        copy_header=True,\n",
    "        force_resample=True,\n",
    "    )\n",
    "\n",
    "def fprep_func_dir(sub):\n",
    "    return Path(BASE)/f\"derivatives/fmriprep/sub-{sub}/func\""
   ]
  },
  {
   "cell_type": "code",
   "execution_count": 4,
   "id": "8beed078",
   "metadata": {},
   "outputs": [
    {
     "data": {
      "text/plain": [
       "['SAXSISO01b', 'SAXSISO01f', 'SAXSISO01s']"
      ]
     },
     "execution_count": 4,
     "metadata": {},
     "output_type": "execute_result"
    }
   ],
   "source": [
    "all_sub_dirs = sorted([p.name.split(\"sub-\")[-1] for p in Path(FIRST_LEVEL_SEP_RUNS).glob(\"sub-*\") if p.is_dir()])\n",
    "all_sub_dirs[:3]"
   ]
  },
  {
   "cell_type": "code",
   "execution_count": 5,
   "id": "88fbf964",
   "metadata": {},
   "outputs": [],
   "source": [
    "fasting_participants = [s for s in all_sub_dirs if s.endswith(\"f\")]\n",
    "social_participants = [s for s in all_sub_dirs if s.endswith(\"s\")]\n",
    "baseline_participants = [s for s in all_sub_dirs if s.endswith(\"b\")]"
   ]
  },
  {
   "cell_type": "code",
   "execution_count": 6,
   "id": "8b954272",
   "metadata": {},
   "outputs": [],
   "source": [
    "fasting_food = [\n",
    "    f\n",
    "    for s in fasting_participants\n",
    "    for f in Path(f\"{FIRST_LEVEL_SEP_RUNS}/sub-{s}\").rglob(\"*Food_*_zmap.nii.gz\")]\n",
    "fasting_social = [\n",
    "    f\n",
    "    for s in fasting_participants\n",
    "    for f in Path(f'{FIRST_LEVEL_SEP_RUNS}/sub-{s}').rglob(\"*Social_*_zmap.nii.gz\")]\n",
    "fasting_control = [\n",
    "    f\n",
    "    for s in fasting_participants\n",
    "    for f in Path(f'{FIRST_LEVEL_SEP_RUNS}/sub-{s}').rglob(\"*Control_*_zmap.nii.gz\")]\n",
    "\n",
    "\n",
    "social_food = [\n",
    "    f\n",
    "    for s in social_participants\n",
    "    for f in Path(f'{FIRST_LEVEL_SEP_RUNS}/sub-{s}').rglob(\"*Food_*_zmap.nii.gz\")]\n",
    "social_social = [\n",
    "    f\n",
    "    for s in social_participants\n",
    "    for f in Path(f'{FIRST_LEVEL_SEP_RUNS}/sub-{s}').rglob(\"*Social_*_zmap.nii.gz\")]\n",
    "social_control = [\n",
    "    f\n",
    "    for s in social_participants\n",
    "    for f in Path(f'{FIRST_LEVEL_SEP_RUNS}/sub-{s}').rglob(\"*Control_*_zmap.nii.gz\")]\n",
    "\n",
    "\n",
    "baseline_food = [\n",
    "    f\n",
    "    for s in baseline_participants\n",
    "    for f in Path(f'{FIRST_LEVEL_SEP_RUNS}/sub-{s}').rglob(\"*Food_*_zmap.nii.gz\")]\n",
    "baseline_social = [\n",
    "    f\n",
    "    for s in baseline_participants\n",
    "    for f in Path(f'{FIRST_LEVEL_SEP_RUNS}/sub-{s}').rglob(\"*Social_*_zmap.nii.gz\")]\n",
    "baseline_control = [\n",
    "    f\n",
    "    for s in baseline_participants\n",
    "    for f in Path(f'{FIRST_LEVEL_SEP_RUNS}/sub-{s}').rglob(\"*Control_*_zmap.nii.gz\")]"
   ]
  },
  {
   "cell_type": "code",
   "execution_count": 7,
   "id": "e6b233a1",
   "metadata": {},
   "outputs": [],
   "source": [
    "def compare(labels: tuple, z_maps: tuple):\n",
    "\n",
    "    assert len(labels) == len(z_maps), \"Labels and z_maps must have the same length\"\n",
    "\n",
    "    X = np.array([])\n",
    "    y = np.array([])\n",
    "    groups = np.array([])\n",
    "\n",
    "    for label, zmap in zip(labels,z_maps):\n",
    "        runs = [str(f).split('/')[-1][0] for f in zmap]\n",
    "        labels = [label] * len(zmap)\n",
    "        X = np.concatenate((X, np.array(zmap))) if X.size else np.array(zmap)\n",
    "        y = np.concatenate((y, np.array(labels))) if y.size else np.array(labels)\n",
    "        groups = np.concatenate((groups, np.array(runs))) if groups.size else np.array(runs)\n",
    "\n",
    "    decoder = Decoder(t_r=TR, estimator='svc', scoring='accuracy', mask=None, standardize=False, cv=LeaveOneGroupOut(), n_jobs=-1)\n",
    "    decoder.fit(X, y, groups=groups)\n",
    "\n",
    "    classification_accuracy = np.mean(list(decoder.cv_scores_.values()))\n",
    "    print(\n",
    "        f\"Classification accuracy: {classification_accuracy:.4f} / \"\n",
    "    )\n",
    "\n",
    "    for label, scores in decoder.cv_scores_.items():\n",
    "        print(label, np.mean(scores))\n",
    "\n",
    "    return decoder, (X, y)"
   ]
  },
  {
   "cell_type": "markdown",
   "id": "2759613f",
   "metadata": {},
   "source": [
    "# Fasting day VS Baseline day. Binary classification. Food VS Control\n",
    "\n",
    "Cross classification accuracy should be decent here. Same tasks, different conditions"
   ]
  },
  {
   "cell_type": "code",
   "execution_count": 8,
   "id": "7c170c00",
   "metadata": {},
   "outputs": [
    {
     "name": "stdout",
     "output_type": "stream",
     "text": [
      "Classification accuracy: 0.8401 / \n",
      "Control 0.8400537634408601\n",
      "Food 0.8400537634408601\n"
     ]
    }
   ],
   "source": [
    "decoder_ff_fc, data_ff_fc = compare(('Food', 'Control'), (fasting_food, fasting_control))"
   ]
  },
  {
   "cell_type": "code",
   "execution_count": 9,
   "id": "5d52c135",
   "metadata": {},
   "outputs": [
    {
     "name": "stdout",
     "output_type": "stream",
     "text": [
      "Classification accuracy: 0.7886 / \n",
      "Control 0.7885584677419355\n",
      "Food 0.7885584677419355\n"
     ]
    }
   ],
   "source": [
    "decoder_bf_bc, data_bf_bc = compare(('Food', 'Control'), (baseline_food, baseline_control))"
   ]
  },
  {
   "cell_type": "code",
   "execution_count": 10,
   "id": "a7983c14",
   "metadata": {},
   "outputs": [
    {
     "name": "stdout",
     "output_type": "stream",
     "text": [
      "              precision    recall  f1-score   support\n",
      "\n",
      "     Control       0.80      0.78      0.79       573\n",
      "        Food       0.79      0.80      0.79       573\n",
      "\n",
      "    accuracy                           0.79      1146\n",
      "   macro avg       0.79      0.79      0.79      1146\n",
      "weighted avg       0.79      0.79      0.79      1146\n",
      "\n"
     ]
    }
   ],
   "source": [
    "# Lets check cross classification\n",
    "\n",
    "y_pred = decoder_ff_fc.predict(data_bf_bc[0])\n",
    "y_true = data_bf_bc[1]\n",
    "print(classification_report(y_true, y_pred, target_names=['Control', 'Food']))"
   ]
  },
  {
   "cell_type": "code",
   "execution_count": 11,
   "id": "2ae1cb06",
   "metadata": {},
   "outputs": [
    {
     "name": "stdout",
     "output_type": "stream",
     "text": [
      "              precision    recall  f1-score   support\n",
      "\n",
      "     Control       0.85      0.76      0.81       570\n",
      "        Food       0.79      0.87      0.83       570\n",
      "\n",
      "    accuracy                           0.82      1140\n",
      "   macro avg       0.82      0.82      0.82      1140\n",
      "weighted avg       0.82      0.82      0.82      1140\n",
      "\n"
     ]
    }
   ],
   "source": [
    "y_pred = decoder_bf_bc.predict(data_ff_fc[0])\n",
    "y_true = data_ff_fc[1]\n",
    "print(classification_report(y_true, y_pred, target_names=['Control', 'Food']))"
   ]
  },
  {
   "cell_type": "markdown",
   "id": "ca84bb82",
   "metadata": {},
   "source": [
    "# Social isolation day VS Baseline day. Binary classification. Social VS Control\n",
    "\n",
    "Cross classification accuracy should be decent here. Same tasks, different conditions"
   ]
  },
  {
   "cell_type": "code",
   "execution_count": 12,
   "id": "8b569e4d",
   "metadata": {},
   "outputs": [
    {
     "name": "stdout",
     "output_type": "stream",
     "text": [
      "Classification accuracy: 0.9601 / \n",
      "Control 0.9600694444444445\n",
      "Social 0.9600694444444445\n"
     ]
    }
   ],
   "source": [
    "decoder_ss_sc, data_ss_sc = compare(('Social', 'Control'), (social_social, social_control))"
   ]
  },
  {
   "cell_type": "code",
   "execution_count": 13,
   "id": "634032bb",
   "metadata": {},
   "outputs": [
    {
     "name": "stdout",
     "output_type": "stream",
     "text": [
      "Classification accuracy: 0.9597 / \n",
      "Control 0.959733422939068\n",
      "Social 0.959733422939068\n"
     ]
    }
   ],
   "source": [
    "decoder_bs_bc, data_bs_bc = compare(('Social', 'Control'), (baseline_social, baseline_control))"
   ]
  },
  {
   "cell_type": "code",
   "execution_count": 14,
   "id": "fd983686",
   "metadata": {},
   "outputs": [
    {
     "name": "stdout",
     "output_type": "stream",
     "text": [
      "              precision    recall  f1-score   support\n",
      "\n",
      "     Control       0.94      0.96      0.95       573\n",
      "      Social       0.96      0.93      0.95       573\n",
      "\n",
      "    accuracy                           0.95      1146\n",
      "   macro avg       0.95      0.95      0.95      1146\n",
      "weighted avg       0.95      0.95      0.95      1146\n",
      "\n"
     ]
    }
   ],
   "source": [
    "# Lets check cross classification\n",
    "\n",
    "y_pred = decoder_ss_sc.predict(data_bs_bc[0])\n",
    "y_true = data_bs_bc[1]\n",
    "print(classification_report(y_true, y_pred, target_names=['Control', 'Social']))"
   ]
  },
  {
   "cell_type": "code",
   "execution_count": 15,
   "id": "683c7185",
   "metadata": {},
   "outputs": [
    {
     "name": "stdout",
     "output_type": "stream",
     "text": [
      "              precision    recall  f1-score   support\n",
      "\n",
      "     Control       0.98      0.94      0.96       576\n",
      "      Social       0.94      0.98      0.96       576\n",
      "\n",
      "    accuracy                           0.96      1152\n",
      "   macro avg       0.96      0.96      0.96      1152\n",
      "weighted avg       0.96      0.96      0.96      1152\n",
      "\n"
     ]
    }
   ],
   "source": [
    "y_pred = decoder_bs_bc.predict(data_ss_sc[0])\n",
    "y_true = data_ss_sc[1]\n",
    "print(classification_report(y_true, y_pred, target_names=['Control', 'Social']))"
   ]
  },
  {
   "cell_type": "markdown",
   "id": "b563f288",
   "metadata": {},
   "source": [
    "# Cross classification. Food vs Control on fasting day VS Social pictures vs Control on social isolation day"
   ]
  },
  {
   "cell_type": "code",
   "execution_count": 16,
   "id": "9ab0e7ba",
   "metadata": {},
   "outputs": [
    {
     "name": "stdout",
     "output_type": "stream",
     "text": [
      "              precision    recall  f1-score   support\n",
      "\n",
      "     Control       0.47      0.74      0.58       576\n",
      "      Social       0.39      0.17      0.23       576\n",
      "\n",
      "    accuracy                           0.45      1152\n",
      "   macro avg       0.43      0.45      0.41      1152\n",
      "weighted avg       0.43      0.45      0.41      1152\n",
      "\n"
     ]
    }
   ],
   "source": [
    "y_pred = decoder_ff_fc.predict(data_ss_sc[0])\n",
    "y_pred[y_pred == 'Food'] = \"Social\"\n",
    "\n",
    "y_true = data_ss_sc[1]\n",
    "\n",
    "print(classification_report(y_true, y_pred, target_names=['Control', 'Social']))"
   ]
  },
  {
   "cell_type": "code",
   "execution_count": 17,
   "id": "20122f8a",
   "metadata": {},
   "outputs": [
    {
     "name": "stdout",
     "output_type": "stream",
     "text": [
      "              precision    recall  f1-score   support\n",
      "\n",
      "     Control       0.49      0.96      0.65       570\n",
      "        Food       0.22      0.01      0.02       570\n",
      "\n",
      "    accuracy                           0.49      1140\n",
      "   macro avg       0.36      0.49      0.34      1140\n",
      "weighted avg       0.36      0.49      0.34      1140\n",
      "\n"
     ]
    }
   ],
   "source": [
    "y_pred = decoder_ss_sc.predict(data_ff_fc[0])\n",
    "y_pred[y_pred == 'Social'] = \"Food\"\n",
    "\n",
    "y_true = data_ff_fc[1]\n",
    "\n",
    "print(classification_report(y_true, y_pred, target_names=['Control', 'Food']))"
   ]
  },
  {
   "cell_type": "code",
   "execution_count": 19,
   "id": "3800cabd",
   "metadata": {},
   "outputs": [
    {
     "data": {
      "text/plain": [
       "Counter({'Control': 1113, 'Food': 27})"
      ]
     },
     "execution_count": 19,
     "metadata": {},
     "output_type": "execute_result"
    }
   ],
   "source": [
    "from collections import Counter\n",
    "Counter(y_pred)"
   ]
  },
  {
   "cell_type": "code",
   "execution_count": null,
   "id": "242944ec",
   "metadata": {},
   "outputs": [],
   "source": []
  }
 ],
 "metadata": {
  "kernelspec": {
   "display_name": "py39",
   "language": "python",
   "name": "python3"
  },
  "language_info": {
   "codemirror_mode": {
    "name": "ipython",
    "version": 3
   },
   "file_extension": ".py",
   "mimetype": "text/x-python",
   "name": "python",
   "nbconvert_exporter": "python",
   "pygments_lexer": "ipython3",
   "version": "3.9.23"
  }
 },
 "nbformat": 4,
 "nbformat_minor": 5
}
