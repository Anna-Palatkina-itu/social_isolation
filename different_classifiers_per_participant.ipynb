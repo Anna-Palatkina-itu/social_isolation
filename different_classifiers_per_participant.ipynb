{
 "cells": [
  {
   "cell_type": "code",
   "execution_count": 1,
   "id": "081c905d",
   "metadata": {},
   "outputs": [],
   "source": [
    "import os, re, glob, json\n",
    "from pathlib import Path\n",
    "import numpy as np\n",
    "import pandas as pd\n",
    "import nibabel as nib\n",
    "from nilearn.glm.first_level import FirstLevelModel\n",
    "from nilearn.glm.second_level import SecondLevelModel, non_parametric_inference\n",
    "from nilearn import image\n",
    "import matplotlib.pyplot as plt\n",
    "from nilearn.plotting import plot_design_matrix\n",
    "from nilearn.plotting import plot_stat_map\n",
    "from nilearn.glm import threshold_stats_img\n",
    "from nilearn import plotting\n",
    "from nilearn.image import load_img, resample_to_img\n",
    "from sklearn.model_selection import LeaveOneGroupOut\n",
    "from nilearn.decoding import Decoder"
   ]
  },
  {
   "cell_type": "code",
   "execution_count": 2,
   "id": "66dc9f73",
   "metadata": {},
   "outputs": [],
   "source": [
    "BASE = \"/local/anpa/ds003242-1.0.0\"\n",
    "DERIVATIVES = f\"{BASE}/derivatives/\"\n",
    "DERIVATIVES_FMRIPREP = f\"{DERIVATIVES}/fmriprep/\" \n",
    "FIRST_LEVEL_SEP_RUNS = f\"{DERIVATIVES}/firstlevel_separate_runs/\"  \n",
    "TASK = \"CIC\"\n",
    "TR = 2.0"
   ]
  },
  {
   "cell_type": "code",
   "execution_count": 3,
   "id": "aae6f2ce",
   "metadata": {},
   "outputs": [],
   "source": [
    "def resample_mask_to_bold(anat_mask, bold_img):\n",
    "    \"\"\"Resample anat mask to the space of the bold image.\n",
    "    As in tutorial https://nilearn.github.io/dev/auto_examples/04_glm_first_level/plot_first_level_details.html\n",
    "    \"\"\"\n",
    "    return resample_to_img(\n",
    "        anat_mask,\n",
    "        bold_img,\n",
    "        interpolation=\"nearest\",\n",
    "        copy_header=True,\n",
    "        force_resample=True,\n",
    "    )\n",
    "\n",
    "def fprep_func_dir(sub):\n",
    "    return Path(BASE)/f\"derivatives/fmriprep/sub-{sub}/func\""
   ]
  },
  {
   "cell_type": "code",
   "execution_count": 4,
   "id": "f6fe3329",
   "metadata": {},
   "outputs": [
    {
     "data": {
      "text/plain": [
       "['SAXSISO01b', 'SAXSISO01f', 'SAXSISO01s']"
      ]
     },
     "execution_count": 4,
     "metadata": {},
     "output_type": "execute_result"
    }
   ],
   "source": [
    "all_sub_dirs = sorted([p.name.split(\"sub-\")[-1] for p in Path(FIRST_LEVEL_SEP_RUNS).glob(\"sub-*\") if p.is_dir()])\n",
    "all_sub_dirs[:3]"
   ]
  },
  {
   "cell_type": "code",
   "execution_count": null,
   "id": "4468b6e2",
   "metadata": {},
   "outputs": [],
   "source": []
  },
  {
   "cell_type": "code",
   "execution_count": null,
   "id": "c0c7cb04",
   "metadata": {},
   "outputs": [],
   "source": []
  },
  {
   "cell_type": "code",
   "execution_count": null,
   "id": "85afbc43",
   "metadata": {},
   "outputs": [],
   "source": []
  },
  {
   "cell_type": "code",
   "execution_count": null,
   "id": "1053f60e",
   "metadata": {},
   "outputs": [],
   "source": []
  },
  {
   "cell_type": "code",
   "execution_count": null,
   "id": "7d119a99",
   "metadata": {},
   "outputs": [],
   "source": []
  }
 ],
 "metadata": {
  "kernelspec": {
   "display_name": "py39",
   "language": "python",
   "name": "python3"
  },
  "language_info": {
   "codemirror_mode": {
    "name": "ipython",
    "version": 3
   },
   "file_extension": ".py",
   "mimetype": "text/x-python",
   "name": "python",
   "nbconvert_exporter": "python",
   "pygments_lexer": "ipython3",
   "version": "3.9.23"
  }
 },
 "nbformat": 4,
 "nbformat_minor": 5
}
